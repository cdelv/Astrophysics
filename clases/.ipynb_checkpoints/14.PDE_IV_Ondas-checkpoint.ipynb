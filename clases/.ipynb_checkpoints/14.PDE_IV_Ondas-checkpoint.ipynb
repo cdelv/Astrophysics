{
 "cells": [
  {
   "cell_type": "markdown",
   "metadata": {
    "id": "Uw2bcL6FltCB"
   },
   "source": [
    "![Astrofisica Computacional](data/logo.PNG)"
   ]
  },
  {
   "cell_type": "markdown",
   "metadata": {},
   "source": [
    "---\n",
    "## 14. Ecuación de Onda\n",
    "\n",
    "Eduard Larrañaga (ealarranaga@unal.edu.co)\n",
    "\n",
    "---"
   ]
  },
  {
   "cell_type": "markdown",
   "metadata": {
    "id": "aSVOtGizlnwl"
   },
   "source": [
    "\n",
    "### Resumen\n",
    "\n",
    "Se soluciona numéricamente la ecuación de onda.\n",
    "\n",
    "\n",
    "---"
   ]
  },
  {
   "cell_type": "markdown",
   "metadata": {
    "id": "8ogdbF2qlnwl"
   },
   "source": [
    "---\n",
    "\n",
    "## Ecuación de Onda a partir de las ecuaciones de la MHD\n",
    "\n",
    "Consideramos ahora las ecuaciones de la MHD en el caso de un fluido desmagnetizado y sin viscosidad. De esta forma la ecuaciones de continuidad y de movimiento serán\n",
    "\n",
    "\\begin{align}\n",
    "\\frac{\\partial \\rho}{\\partial t} + \\vec{\\nabla} \\cdot (\\rho \\vec{v}) = &0\\\\\n",
    "\\rho \\left( \\frac{\\partial \\vec{v}}{\\partial t} +  \\vec{v} \\cdot \\vec{\\nabla} \\vec{v}\\right) = &- \\vec{\\nabla} P \n",
    "\\end{align}\n",
    "\n",
    "Considerando pequeñas perturbaciones alrededor de un estado de equilibrio identificado con las cantidades $P_0, \\rho_0$ y $\\vec{v}_0 = 0$, se tiene\n",
    "\n",
    "\\begin{equation}\n",
    "\\begin{cases}\n",
    "P = & P_0 + \\delta P\\\\\n",
    "\\rho = &\\rho_0 + \\delta \\rho\\\\\n",
    "\\vec{v} = &\\delta \\vec{v}.\n",
    "\\end{cases}\n",
    "\\end{equation}\n",
    "\n",
    "donde las perturbaciones se supondrán cantidades pequeñas, i.e. $\\delta P, \\delta \\rho, \\delta \\vec{v} \\sim \\epsilon \\ll 1 $."
   ]
  },
  {
   "cell_type": "markdown",
   "metadata": {},
   "source": [
    "Reemplazando en la ecuación de continuidad y manteniendo solamente ordenes lineales en las perturbaciones se obtiene\n",
    "\n",
    "\\begin{equation}\n",
    "\\frac{\\partial \\delta \\rho}{\\partial t} +\\rho_0 \\vec{\\nabla} \\cdot \\delta \\vec{v} = 0.\n",
    "\\end{equation}\n",
    "\n",
    "De la misma forma, al linealizar la ecuación de movimiento se obtiene\n",
    "\n",
    "\\begin{equation}\n",
    "\\rho_0 \\frac{\\partial \\delta \\vec{v}}{\\partial t} = - \\vec{\\nabla} P .\n",
    "\\end{equation}"
   ]
  },
  {
   "cell_type": "markdown",
   "metadata": {
    "id": "SDSAmoGflnwm"
   },
   "source": [
    "Asumiendo una ecuación de estado de la forma $P = P(\\rho)$, se obtiene la ecuación linealizada\n",
    "\n",
    "\\begin{equation}\n",
    "\\vec{\\nabla} \\delta P = \\left( \\frac{dP}{d\\rho}\\right)_0 \\vec{\\nabla} \\delta \\rho,\n",
    "\\end{equation}\n",
    "\n",
    "y reemplazando en la ecuación de movimiento se tiene\n",
    "\n",
    "\\begin{equation}\n",
    "\\rho_0 \\frac{\\partial \\delta \\vec{v}}{\\partial t} = - \\left( \\frac{dP}{d\\rho}\\right)_0 \\vec{\\nabla} \\delta \\rho .\n",
    "\\end{equation}\n",
    "\n",
    "De esta forma, aplicando el operador $\\frac{\\partial}{\\partial t}$ a la ecuación de continuidad linealizada y el operador $\\vec{\\nabla}$ a la ecuación de movimiento se obtienen las relaciones\n",
    "\n",
    "\\begin{equation}\n",
    "\\begin{cases}\n",
    "\\frac{\\partial^2 \\delta \\rho}{\\partial t^2} &= -\\rho_0 \\frac{\\partial}{\\partial t}\\vec{\\nabla} \\cdot \\delta \\vec{v}\\\\\n",
    "\\rho_0 \\vec{\\nabla} \\cdot \\frac{\\partial \\delta \\vec{v}}{\\partial t} &=- \\left( \\frac{dP}{d\\rho}\\right)_0 \\vec{\\nabla} \\cdot \\vec{\\nabla} \\delta \\rho.\n",
    "\\end{cases}\n",
    "\\end{equation}\n",
    "\n",
    "Al combinar estas relaciones, se obtiene la ecuación de onda para las perturbaciones de densidad (o presión) en el fluido, i.e. ondas sonoras,\n",
    "\n",
    "\\begin{equation}\n",
    "\\frac{\\partial^2 \\delta \\rho}{\\partial t^2} = c_s^2 \\nabla^2 \\delta \\rho,\n",
    "\\end{equation}\n",
    "\n",
    "donde se ha identificado la velocidad del propagación del sonido dentro del fluido como\n",
    "\n",
    "\\begin{equation}\n",
    "c_s^2= \\left( \\frac{dP}{d\\rho}\\right)_0. \n",
    "\\end{equation}"
   ]
  },
  {
   "cell_type": "markdown",
   "metadata": {
    "id": "33wrJjswlnwm"
   },
   "source": [
    "---\n",
    "## Método FTCS\n",
    "\n",
    "El primer método que se describirá para resolver la ecuación de onda es el **FTCS** (**F**orfward **T**ime, **C**entered **S**pace). Para ilustrarlo, consideramos la ecuación de onda unidimensional,\n",
    "\n",
    "\\begin{equation}\n",
    "\\frac{\\partial^2 \\psi}{\\partial t^2} = v^2 \\frac{\\partial^2 \\psi}{\\partial x^2}.\n",
    "\\end{equation}\n",
    "\n",
    "Dividiendo el rango espacial $x\\in [0,L]$ en subintervalos de igual tamaño $\\Delta x$, la segunda derivada espacial en el lado derecho de la ecuación se discretiza con diferencias finitas centradas,\n",
    "\n",
    "\\begin{equation}\n",
    "\\frac{\\partial^2 \\psi }{\\partial t^2} = \\frac{v^2}{\\Delta x^2} \\left[ \\psi (t,x+\\Delta x) + \\psi (t,x-\\Delta x) -2 \\psi (t,x)\\right].\n",
    "\\end{equation}\n",
    "\n",
    "Ahora se reescribe la ecuación diferencial como un conjunto de dos ecuaciones de primer orden introduciendo una nueva función $\\phi (t,x)$,\n",
    "\n",
    "\\begin{equation}\n",
    "\\begin{cases}\n",
    "\\frac{d\\psi}{dt} = & \\phi(t,x)\\\\\n",
    "\\frac{d\\phi}{dt}= &\\frac{v^2}{\\Delta x^2} \\left[ \\psi (t,x+\\Delta x) + \\psi (t,x-\\Delta x) -2 \\psi (t,x)\\right].\n",
    "\\end{cases}\n",
    "\\end{equation}\n",
    "\n",
    "Para resolver esta sistema de ecuaciones se utiliza el método de Euler,\n",
    "\n",
    "\\begin{equation}\n",
    "\\begin{cases}\n",
    "\\psi(t+\\Delta t, x) = & \\psi(t,x) +  \\phi(t,x) \\Delta t \\\\\n",
    "\\phi(t+\\Delta t, x) = & \\phi(t,x) + \\frac{v^2 \\Delta t}{\\Delta x^2} \\left[ \\psi (t,x+\\Delta x) -2 \\psi (t,x) + \\psi (t,x-\\Delta x) \\right],\n",
    "\\end{cases}\n",
    "\\end{equation}\n",
    "\n",
    "que se puede re-escribir como ecuaciones iterativas,\n",
    "\n",
    "\\begin{equation}\n",
    "\\begin{cases}\n",
    "\\psi^{(n+1)}_j = & \\psi^{(n)}_j +  \\phi^{(n)}_j \\Delta t\\\\\n",
    "\\phi^{(n+1)}_j = & \\phi^{(n)}_j + \\frac{v^2 \\Delta t}{\\Delta x^2} \\left[ \\psi^{(n)}_{j+1} -2 \\psi^{(n)}_j + \\psi^{(n)}_{j-1} \\right].\n",
    "\\end{cases}\n",
    "\\end{equation}\n",
    "\n",
    "El método FTCS es **incondicionalmente inestable** para resolver la ecuación de onda."
   ]
  },
  {
   "cell_type": "markdown",
   "metadata": {},
   "source": [
    "---\n",
    "## Método Implícito\n",
    "\n",
    "El algoritmo FTCS se puede modificar para mejorar su estabilidad.  Para ello, primero sustituimos $\\Delta t \\rightarrow -\\Delta t$,\n",
    "\n",
    "\\begin{equation}\n",
    "\\begin{cases}\n",
    "\\psi(t-\\Delta t, x) = & \\psi(t,x) -  \\phi(t,x) \\Delta t \\\\\n",
    "\\phi(t-\\Delta t, x) = & \\phi(t,x) - \\frac{v^2 \\Delta t}{\\Delta x^2} \\left[ \\psi (t,x+\\Delta x) -2 \\psi (t,x) + \\psi (t,x-\\Delta x) \\right].\n",
    "\\end{cases}\n",
    "\\end{equation}\n",
    "\n",
    "Este cambio implica que se esta evolucionando el sistema hacia atrás en el tiempo en un paso de tamaño $\\Delta t$, pero ahora se realiza la transformación $t \\rightarrow t +\\Delta t$ para obtener\n",
    "\n",
    "\\begin{equation}\n",
    "\\begin{cases}\n",
    "\\psi(t, x) = & \\psi(t + \\Delta t,x) -  \\phi(t + \\Delta t,x) \\Delta t \\\\\n",
    "\\phi(t, x) = & \\phi(t + \\Delta t,x) - \\frac{v^2 \\Delta t}{\\Delta x^2} \\left[ \\psi (t+\\Delta t,x+\\Delta x) -2 \\psi (t+\\Delta t,x) + \\psi (t+\\Delta t,x-\\Delta x) \\right].\n",
    "\\end{cases}\n",
    "\\end{equation}\n",
    "\n",
    "Estas ecuaciones se pueden re-acomodar en la forma\n",
    "\n",
    "\\begin{equation}\n",
    "\\begin{cases}\n",
    "\\psi(t + \\Delta t,x) -  \\phi(t + \\Delta t,x) \\Delta t &= \\psi(t, x)  \\\\\n",
    " \\phi(t + \\Delta t,x) - \\frac{v^2 \\Delta t}{\\Delta x^2} \\left[ \\psi (t+\\Delta t,x+\\Delta x) -2 \\psi (t+\\Delta t,x) + \\psi (t+\\Delta t,x-\\Delta x) \\right] &=\\phi(t, x) ,\n",
    "\\end{cases}\n",
    "\\end{equation}\n",
    "\n",
    "o como la ecuación iterativa\n",
    "\n",
    "\\begin{equation}\n",
    "\\begin{cases}\n",
    "\\psi^{(n+1)}_j -  \\phi^{(n+1)}_j \\Delta t &= \\psi^{(n)}_j  \\\\\n",
    " \\phi^{(n+1)}_j - \\frac{v^2 \\Delta t}{\\Delta x^2} \\left[ \\psi^{(n+1)}_{j+1} -2 \\psi ^{(n+1)}_{j} + \\psi ^{(n+1)}_{j-1} \\right] &=\\phi^{(n)}_{j}.\n",
    "\\end{cases}\n",
    "\\end{equation}\n",
    "\n",
    "Claramente este es un **método implícito** que no permite obtener la solución de forma directa. Sin embargo, el conjunto de ecuaciones puede ser escrito como un sistema lineal de ecuaciones simultaneas para $\\psi$ y $\\phi$ en cada punto de la malla que uede resolverse por métodos estandard como la eliminación Gaussiana. \n",
    "\n",
    "Aunque este método implica la solución de un sistema lineal en cada punto y por ello es más lento que el  FTCS, tiene l ventaja de ser **incondicionalmente estable** para resolver la ecuaciónd e onda. "
   ]
  },
  {
   "cell_type": "markdown",
   "metadata": {},
   "source": [
    "---\n",
    "\n",
    "## Método de Crank-Nicolson\n",
    "\n",
    "El método de Crank-Nicolson es un híbrido entre le método FTCS y el implícito. Las ecuaciones correspondientes se obtienen tomando el promedio de las ecuaciones de estos dos métodos. El resultado es\n",
    "\n",
    "\\begin{equation}\n",
    "\\begin{cases}\n",
    "\\psi(t + \\Delta t,x) -  \\frac{1}{2} \\phi(t + \\Delta t,x) \\Delta t = \\psi(t, x) + \\frac{1}{2}\\phi(t ,x) \\Delta t \\\\\n",
    " \\phi(t + \\Delta t,x) - \\frac{v^2 \\Delta t}{2 \\Delta x^2} \\left[ \\psi (t+\\Delta t,x+\\Delta x) -2 \\psi (t+\\Delta t,x) + \\psi (t+\\Delta t,x-\\Delta x) \\right] =\\phi(t, x) + \\frac{v^2 \\Delta t}{2 \\Delta x^2} \\left[ \\psi (t,x+\\Delta x) -2 \\psi (t,x) + \\psi (t,x-\\Delta x) \\right],\n",
    "\\end{cases}\n",
    "\\end{equation}\n",
    "\n",
    "o como relación de recurrencia,\n",
    "\n",
    "\\begin{equation}\n",
    "\\begin{cases}\n",
    "\\psi^{(n+1)}_j - \\frac{1}{2} \\phi^{(n+1)}_j \\Delta t = \\psi^{(n)}_j  + \\frac{1}{2} \\phi^{(n)}_j \\Delta t\\\\\n",
    " \\phi^{(n+1)}_j - \\frac{v^2 \\Delta t}{2\\Delta x^2} \\left[ \\psi^{(n+1)}_{j+1} -2 \\psi ^{(n+1)}_{j} + \\psi ^{(n+1)}_{j-1} \\right] =\\phi^{(n)}_{j} + \\frac{v^2 \\Delta t}{2\\Delta x^2} \\left[ \\psi^{(n)}_{j+1} -2 \\psi ^{(n)}_{j} + \\psi ^{(n)}_{j-1} \\right].\n",
    "\\end{cases}\n",
    "\\end{equation}"
   ]
  },
  {
   "cell_type": "code",
   "execution_count": null,
   "metadata": {},
   "outputs": [],
   "source": []
  }
 ],
 "metadata": {
  "@webio": {
   "lastCommId": null,
   "lastKernelId": null
  },
  "colab": {
   "collapsed_sections": [],
   "name": "PDE05.ipynb",
   "provenance": []
  },
  "kernelspec": {
   "display_name": "Python 3",
   "language": "python",
   "name": "python3"
  },
  "language_info": {
   "codemirror_mode": {
    "name": "ipython",
    "version": 3
   },
   "file_extension": ".py",
   "mimetype": "text/x-python",
   "name": "python",
   "nbconvert_exporter": "python",
   "pygments_lexer": "ipython3",
   "version": "3.9.7"
  }
 },
 "nbformat": 4,
 "nbformat_minor": 1
}
