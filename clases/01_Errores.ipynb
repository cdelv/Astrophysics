{
 "cells": [
  {
   "cell_type": "markdown",
   "id": "tamil-substitute",
   "metadata": {},
   "source": [
    "![Astrofisica Computacional](data/logo.PNG)"
   ]
  },
  {
   "cell_type": "markdown",
   "id": "juvenile-pharmacology",
   "metadata": {},
   "source": [
    "## 01. Análisis de Errores\n",
    "\n",
    "\n",
    "Code by Carlos Andrés del Valle (cdelv@unal.edu.co)\n",
    "\n",
    "Theory by Eduard Larrañaga (ealarranaga@unal.edu.co)\n",
    "\n",
    "---\n",
    "\n",
    "### Resumen\n",
    "\n",
    "En este cuaderno se presentan algunos conceptos fundamentales del análisis de errores y de la estabilidad.\n",
    "\n",
    "---\n",
    "\n",
    "Varias fuentes de error aparecen en los calculos numéricos. Algunas de ellas son:\n",
    "\n",
    "**Incertidumbre experimental** : Los datos experimentales están limitados por la precisión de los aparatos de medida. Por lo tanto es usual representar las cantidades experimentales con el formato $x \\pm \\Delta x$ donde $\\Delta x$ corresponde a la incertidumbre en las mediciones.\\\n",
    "Cuando se utilizan cantidades o datos experimentales en algoritmos numéricos, las incertidumbres pueden llevar a errores finales grandes.\n",
    "\n",
    "**Errores de Redondeo (Números de Punto Flotante)** : La representación computacional de un número esta siempre limitado por la memoria adjudicada a su representación. Por lo tanto, es inherente un error de redondeo en cualquier cantidad almacendad en un ordenador y este hecho puede llevar a una acumulación que finalmente desemboca en un error grande si no se controla por el algoritmo. \n",
    "\n",
    "**Errores de Truncamiento** : Cuando se representa una función en el computador, como por ejemplo una raiz cuadrada, una exponencial, un logaritmo, etc., utilizando expansiones en serie, el truncamiento de la serie o las iteraciones del algoritmo induce un error que puede acumularse en cada paso.\n",
    "\n",
    "A continuación ilustraremos la existencia de estas fuentes de error con algunos ejemplos concretos.\n",
    "\n",
    "---\n",
    "### Errores de Redondeo (Números de Punto Flotante)\n",
    "\n",
    "Primero, definiremos un número de punto flotante,"
   ]
  },
  {
   "cell_type": "code",
   "execution_count": 1,
   "id": "external-indicator",
   "metadata": {},
   "outputs": [
    {
     "data": {
      "text/plain": [
       "3.1416"
      ]
     },
     "execution_count": 1,
     "metadata": {},
     "output_type": "execute_result"
    }
   ],
   "source": [
    "x = 3.1416\n",
    "x"
   ]
  },
  {
   "cell_type": "markdown",
   "id": "assumed-peoples",
   "metadata": {},
   "source": [
    "Si se muestra en pantalla este número, con una precisión de 20 cifras decimales, se puede observar un error inducido por la representación que realiza el computador. Este error es inherente al número finito de bits que se utilizan para guardar el número de punto flotante."
   ]
  },
  {
   "cell_type": "code",
   "execution_count": 2,
   "id": "outdoor-north",
   "metadata": {},
   "outputs": [
    {
     "name": "stdout",
     "output_type": "stream",
     "text": [
      "esto es una string 3.14159999999999994813"
     ]
    }
   ],
   "source": [
    "using Printf\n",
    "#println(round(x; digits=20))\n",
    "@printf(\"esto es una string %.20f\", x)"
   ]
  },
  {
   "cell_type": "markdown",
   "id": "purple-poison",
   "metadata": {},
   "source": [
    "De esta forma, sumar un número pequeño a $x$ da como resultado algo inesperado: "
   ]
  },
  {
   "cell_type": "code",
   "execution_count": 3,
   "id": "latter-blair",
   "metadata": {},
   "outputs": [
    {
     "name": "stdout",
     "output_type": "stream",
     "text": [
      "3.14159999999999994813"
     ]
    }
   ],
   "source": [
    "y= x + 0.0000000000000001\n",
    "@printf(\"%.20f\",y)"
   ]
  },
  {
   "cell_type": "markdown",
   "id": "vietnamese-adaptation",
   "metadata": {},
   "source": [
    "#### Epsilon de la Máquina \n",
    "\n",
    "La cantidad denominada **épsilon de la máquina** corresponde al valor mínimo $\\epsilon$ para el cual la máquina asume que  $1. + \\epsilon= 1$. Matemáticamente lo definimos diciendo que \n",
    "\n",
    "$\\epsilon = \\min \\left[ \\delta >0 |: 1 +\\delta >1 \\right]  $\n",
    "\n",
    "Esta cantidad define la precisión de la maquina para representar números de punto flotante y para realizar cálculos con ellos."
   ]
  },
  {
   "cell_type": "code",
   "execution_count": 4,
   "id": "monetary-archive",
   "metadata": {},
   "outputs": [
    {
     "data": {
      "text/plain": [
       "1.1102230246251565e-16"
      ]
     },
     "execution_count": 4,
     "metadata": {},
     "output_type": "execute_result"
    }
   ],
   "source": [
    "ϵ = 1.\n",
    "\n",
    "while (1.0+ϵ) != 1.\n",
    "    ϵ = ϵ/2.\n",
    "end\n",
    "\n",
    "ϵ"
   ]
  },
  {
   "cell_type": "markdown",
   "id": "greatest-hammer",
   "metadata": {},
   "source": [
    "---\n",
    "Considere el número de punto flotante $y = \\cos \\frac{\\pi}{2}$. Se espera que este número debe ser igual a cero. Sin embargo, un cálculo simple nos presenta una representación de número de unto flotante del cero:"
   ]
  },
  {
   "cell_type": "code",
   "execution_count": 5,
   "id": "corresponding-lambda",
   "metadata": {},
   "outputs": [
    {
     "data": {
      "text/plain": [
       "6.123233995736766e-17"
      ]
     },
     "execution_count": 5,
     "metadata": {},
     "output_type": "execute_result"
    }
   ],
   "source": [
    "y = cos(pi/2) \n",
    "y"
   ]
  },
  {
   "cell_type": "markdown",
   "id": "addressed-senator",
   "metadata": {},
   "source": [
    "Otro ejemplo del error de redondeo aparece cuando tomamos la raiz del número 3,"
   ]
  },
  {
   "cell_type": "code",
   "execution_count": 6,
   "id": "surprised-journalism",
   "metadata": {},
   "outputs": [
    {
     "data": {
      "text/plain": [
       "1.7320508075688772"
      ]
     },
     "execution_count": 6,
     "metadata": {},
     "output_type": "execute_result"
    }
   ],
   "source": [
    "z = sqrt(3)\n",
    "z"
   ]
  },
  {
   "cell_type": "markdown",
   "id": "decreased-quick",
   "metadata": {},
   "source": [
    "Nótese que, debido al error de redondeo, se tiene que $\\sqrt{3} \\cdot \\sqrt{3} \\neq 3$"
   ]
  },
  {
   "cell_type": "code",
   "execution_count": 7,
   "id": "capable-registration",
   "metadata": {},
   "outputs": [
    {
     "data": {
      "text/plain": [
       "2.9999999999999996"
      ]
     },
     "execution_count": 7,
     "metadata": {},
     "output_type": "execute_result"
    }
   ],
   "source": [
    "z*z"
   ]
  },
  {
   "cell_type": "markdown",
   "id": "comprehensive-junction",
   "metadata": {},
   "source": [
    "---\n",
    "### Errores Absolutos y Relativos\n",
    "\n",
    "A continuación definiremos los errores **absolutos** y **relativos**. Denotando el valor *verdadero* de una cantidad por $X$ y su valor *aproximado* por $x$, se tiene\n",
    "\n",
    "$\\epsilon_a = \\left| X - x \\right|$ :  error absoluto\n",
    "\n",
    "\n",
    "$\\epsilon_r = \\left| \\frac{X - x}{X} \\right|$ : error relativo"
   ]
  },
  {
   "cell_type": "code",
   "execution_count": 8,
   "id": "alpine-collar",
   "metadata": {},
   "outputs": [
    {
     "data": {
      "text/plain": [
       "7.346410206832132e-6"
      ]
     },
     "execution_count": 8,
     "metadata": {},
     "output_type": "execute_result"
    }
   ],
   "source": [
    "X = pi\n",
    "x = 3.1416\n",
    "\n",
    "ϵₐ = abs(X - x) \n",
    "ϵₐ"
   ]
  },
  {
   "cell_type": "code",
   "execution_count": 9,
   "id": "completed-bradley",
   "metadata": {},
   "outputs": [
    {
     "data": {
      "text/plain": [
       "2.3384349967961744e-6"
      ]
     },
     "execution_count": 9,
     "metadata": {},
     "output_type": "execute_result"
    }
   ],
   "source": [
    "ϵᵣ = abs((X - x)/X)\n",
    "ϵᵣ"
   ]
  },
  {
   "cell_type": "markdown",
   "id": "cross-birmingham",
   "metadata": {},
   "source": [
    "---\n",
    "###  Error de Truncamiento\n",
    "\n",
    "Considere la función $\\sin x$ en su forma aproximada\n",
    "\n",
    "$\\sin x = \\sum_{n=1}^\\infty (-1)^{n-1} \\frac{x^{2n-1}}{(2n-1)!}$\n",
    "\n",
    "La aproximación a orden 7 (i.e. despreciando ordenes 7 y superiores) será\n",
    "\n",
    "$f(x) = x - \\frac{x^3}{6} + \\frac{x^5}{120}$.\n",
    "\n",
    "Esta aproximación de la función $\\sin x$ induce un **error de truncamiento** que puede estimarse mediante la siguiente función"
   ]
  },
  {
   "cell_type": "code",
   "execution_count": 10,
   "id": "contrary-solomon",
   "metadata": {},
   "outputs": [
    {
     "name": "stderr",
     "output_type": "stream",
     "text": [
      "┌ Info: Precompiling MTH229 [ebaf19f5-aa55-568f-9bb2-d6722dad893b]\n",
      "└ @ Base loading.jl:1278\n",
      "[ Info: This package defines `e = exp(1)`\n",
      "[ Info: This package overloads the `'` operation for derivatives. This may cause issues with linear algebra usage\n"
     ]
    },
    {
     "data": {
      "image/svg+xml": [
       "<?xml version=\"1.0\" encoding=\"utf-8\"?>\n",
       "<svg xmlns=\"http://www.w3.org/2000/svg\" xmlns:xlink=\"http://www.w3.org/1999/xlink\" width=\"600\" height=\"400\" viewBox=\"0 0 2400 1600\">\n",
       "<defs>\n",
       "  <clipPath id=\"clip820\">\n",
       "    <rect x=\"0\" y=\"0\" width=\"2400\" height=\"1600\"/>\n",
       "  </clipPath>\n",
       "</defs>\n",
       "<path clip-path=\"url(#clip820)\" d=\"\n",
       "M0 1600 L2400 1600 L2400 0 L0 0  Z\n",
       "  \" fill=\"#ffffff\" fill-rule=\"evenodd\" fill-opacity=\"1\"/>\n",
       "<defs>\n",
       "  <clipPath id=\"clip821\">\n",
       "    <rect x=\"480\" y=\"0\" width=\"1681\" height=\"1600\"/>\n",
       "  </clipPath>\n",
       "</defs>\n",
       "<path clip-path=\"url(#clip820)\" d=\"\n",
       "M340.028 1423.18 L2352.76 1423.18 L2352.76 47.2441 L340.028 47.2441  Z\n",
       "  \" fill=\"#ffffff\" fill-rule=\"evenodd\" fill-opacity=\"1\"/>\n",
       "<defs>\n",
       "  <clipPath id=\"clip822\">\n",
       "    <rect x=\"340\" y=\"47\" width=\"2014\" height=\"1377\"/>\n",
       "  </clipPath>\n",
       "</defs>\n",
       "<polyline clip-path=\"url(#clip822)\" style=\"stroke:#000000; stroke-linecap:butt; stroke-linejoin:round; stroke-width:2; stroke-opacity:0.1; fill:none\" points=\"\n",
       "  2295.79,1423.18 2295.79,47.2441 \n",
       "  \"/>\n",
       "<polyline clip-path=\"url(#clip822)\" style=\"stroke:#000000; stroke-linecap:butt; stroke-linejoin:round; stroke-width:2; stroke-opacity:0.1; fill:none\" points=\"\n",
       "  1821.09,1423.18 1821.09,47.2441 \n",
       "  \"/>\n",
       "<polyline clip-path=\"url(#clip822)\" style=\"stroke:#000000; stroke-linecap:butt; stroke-linejoin:round; stroke-width:2; stroke-opacity:0.1; fill:none\" points=\"\n",
       "  1346.39,1423.18 1346.39,47.2441 \n",
       "  \"/>\n",
       "<polyline clip-path=\"url(#clip822)\" style=\"stroke:#000000; stroke-linecap:butt; stroke-linejoin:round; stroke-width:2; stroke-opacity:0.1; fill:none\" points=\"\n",
       "  871.692,1423.18 871.692,47.2441 \n",
       "  \"/>\n",
       "<polyline clip-path=\"url(#clip822)\" style=\"stroke:#000000; stroke-linecap:butt; stroke-linejoin:round; stroke-width:2; stroke-opacity:0.1; fill:none\" points=\"\n",
       "  396.992,1423.18 396.992,47.2441 \n",
       "  \"/>\n",
       "<polyline clip-path=\"url(#clip820)\" style=\"stroke:#000000; stroke-linecap:butt; stroke-linejoin:round; stroke-width:4; stroke-opacity:1; fill:none\" points=\"\n",
       "  2352.76,1423.18 340.028,1423.18 \n",
       "  \"/>\n",
       "<polyline clip-path=\"url(#clip820)\" style=\"stroke:#000000; stroke-linecap:butt; stroke-linejoin:round; stroke-width:4; stroke-opacity:1; fill:none\" points=\"\n",
       "  2295.79,1423.18 2295.79,1404.28 \n",
       "  \"/>\n",
       "<polyline clip-path=\"url(#clip820)\" style=\"stroke:#000000; stroke-linecap:butt; stroke-linejoin:round; stroke-width:4; stroke-opacity:1; fill:none\" points=\"\n",
       "  1821.09,1423.18 1821.09,1404.28 \n",
       "  \"/>\n",
       "<polyline clip-path=\"url(#clip820)\" style=\"stroke:#000000; stroke-linecap:butt; stroke-linejoin:round; stroke-width:4; stroke-opacity:1; fill:none\" points=\"\n",
       "  1346.39,1423.18 1346.39,1404.28 \n",
       "  \"/>\n",
       "<polyline clip-path=\"url(#clip820)\" style=\"stroke:#000000; stroke-linecap:butt; stroke-linejoin:round; stroke-width:4; stroke-opacity:1; fill:none\" points=\"\n",
       "  871.692,1423.18 871.692,1404.28 \n",
       "  \"/>\n",
       "<polyline clip-path=\"url(#clip820)\" style=\"stroke:#000000; stroke-linecap:butt; stroke-linejoin:round; stroke-width:4; stroke-opacity:1; fill:none\" points=\"\n",
       "  396.992,1423.18 396.992,1404.28 \n",
       "  \"/>\n",
       "<path clip-path=\"url(#clip820)\" d=\"M2258.1 1454.1 Q2254.48 1454.1 2252.66 1457.66 Q2250.85 1461.2 2250.85 1468.33 Q2250.85 1475.44 2252.66 1479.01 Q2254.48 1482.55 2258.1 1482.55 Q2261.73 1482.55 2263.54 1479.01 Q2265.36 1475.44 2265.36 1468.33 Q2265.36 1461.2 2263.54 1457.66 Q2261.73 1454.1 2258.1 1454.1 M2258.1 1450.39 Q2263.91 1450.39 2266.96 1455 Q2270.04 1459.58 2270.04 1468.33 Q2270.04 1477.06 2266.96 1481.67 Q2263.91 1486.25 2258.1 1486.25 Q2252.29 1486.25 2249.21 1481.67 Q2246.15 1477.06 2246.15 1468.33 Q2246.15 1459.58 2249.21 1455 Q2252.29 1450.39 2258.1 1450.39 Z\" fill=\"#000000\" fill-rule=\"evenodd\" fill-opacity=\"1\" /><path clip-path=\"url(#clip820)\" d=\"M2278.26 1479.7 L2283.14 1479.7 L2283.14 1485.58 L2278.26 1485.58 L2278.26 1479.7 Z\" fill=\"#000000\" fill-rule=\"evenodd\" fill-opacity=\"1\" /><path clip-path=\"url(#clip820)\" d=\"M2303.33 1454.1 Q2299.72 1454.1 2297.89 1457.66 Q2296.08 1461.2 2296.08 1468.33 Q2296.08 1475.44 2297.89 1479.01 Q2299.72 1482.55 2303.33 1482.55 Q2306.96 1482.55 2308.77 1479.01 Q2310.6 1475.44 2310.6 1468.33 Q2310.6 1461.2 2308.77 1457.66 Q2306.96 1454.1 2303.33 1454.1 M2303.33 1450.39 Q2309.14 1450.39 2312.19 1455 Q2315.27 1459.58 2315.27 1468.33 Q2315.27 1477.06 2312.19 1481.67 Q2309.14 1486.25 2303.33 1486.25 Q2297.52 1486.25 2294.44 1481.67 Q2291.38 1477.06 2291.38 1468.33 Q2291.38 1459.58 2294.44 1455 Q2297.52 1450.39 2303.33 1450.39 Z\" fill=\"#000000\" fill-rule=\"evenodd\" fill-opacity=\"1\" /><path clip-path=\"url(#clip820)\" d=\"M2333.49 1454.1 Q2329.88 1454.1 2328.05 1457.66 Q2326.24 1461.2 2326.24 1468.33 Q2326.24 1475.44 2328.05 1479.01 Q2329.88 1482.55 2333.49 1482.55 Q2337.12 1482.55 2338.93 1479.01 Q2340.76 1475.44 2340.76 1468.33 Q2340.76 1461.2 2338.93 1457.66 Q2337.12 1454.1 2333.49 1454.1 M2333.49 1450.39 Q2339.3 1450.39 2342.35 1455 Q2345.43 1459.58 2345.43 1468.33 Q2345.43 1477.06 2342.35 1481.67 Q2339.3 1486.25 2333.49 1486.25 Q2327.68 1486.25 2324.6 1481.67 Q2321.54 1477.06 2321.54 1468.33 Q2321.54 1459.58 2324.6 1455 Q2327.68 1450.39 2333.49 1450.39 Z\" fill=\"#000000\" fill-rule=\"evenodd\" fill-opacity=\"1\" /><path clip-path=\"url(#clip820)\" d=\"M1783.89 1454.1 Q1780.28 1454.1 1778.45 1457.66 Q1776.65 1461.2 1776.65 1468.33 Q1776.65 1475.44 1778.45 1479.01 Q1780.28 1482.55 1783.89 1482.55 Q1787.53 1482.55 1789.33 1479.01 Q1791.16 1475.44 1791.16 1468.33 Q1791.16 1461.2 1789.33 1457.66 Q1787.53 1454.1 1783.89 1454.1 M1783.89 1450.39 Q1789.7 1450.39 1792.76 1455 Q1795.84 1459.58 1795.84 1468.33 Q1795.84 1477.06 1792.76 1481.67 Q1789.7 1486.25 1783.89 1486.25 Q1778.08 1486.25 1775 1481.67 Q1771.95 1477.06 1771.95 1468.33 Q1771.95 1459.58 1775 1455 Q1778.08 1450.39 1783.89 1450.39 Z\" fill=\"#000000\" fill-rule=\"evenodd\" fill-opacity=\"1\" /><path clip-path=\"url(#clip820)\" d=\"M1804.05 1479.7 L1808.94 1479.7 L1808.94 1485.58 L1804.05 1485.58 L1804.05 1479.7 Z\" fill=\"#000000\" fill-rule=\"evenodd\" fill-opacity=\"1\" /><path clip-path=\"url(#clip820)\" d=\"M1823.15 1481.64 L1839.47 1481.64 L1839.47 1485.58 L1817.53 1485.58 L1817.53 1481.64 Q1820.19 1478.89 1824.77 1474.26 Q1829.38 1469.61 1830.56 1468.27 Q1832.8 1465.74 1833.68 1464.01 Q1834.59 1462.25 1834.59 1460.56 Q1834.59 1457.8 1832.64 1456.07 Q1830.72 1454.33 1827.62 1454.33 Q1825.42 1454.33 1822.97 1455.09 Q1820.54 1455.86 1817.76 1457.41 L1817.76 1452.69 Q1820.58 1451.55 1823.04 1450.97 Q1825.49 1450.39 1827.53 1450.39 Q1832.9 1450.39 1836.09 1453.08 Q1839.29 1455.77 1839.29 1460.26 Q1839.29 1462.39 1838.48 1464.31 Q1837.69 1466.2 1835.58 1468.8 Q1835 1469.47 1831.9 1472.69 Q1828.8 1475.88 1823.15 1481.64 Z\" fill=\"#000000\" fill-rule=\"evenodd\" fill-opacity=\"1\" /><path clip-path=\"url(#clip820)\" d=\"M1849.33 1451.02 L1867.69 1451.02 L1867.69 1454.96 L1853.61 1454.96 L1853.61 1463.43 Q1854.63 1463.08 1855.65 1462.92 Q1856.67 1462.73 1857.69 1462.73 Q1863.48 1462.73 1866.86 1465.9 Q1870.24 1469.08 1870.24 1474.49 Q1870.24 1480.07 1866.76 1483.17 Q1863.29 1486.25 1856.97 1486.25 Q1854.8 1486.25 1852.53 1485.88 Q1850.28 1485.51 1847.87 1484.77 L1847.87 1480.07 Q1849.96 1481.2 1852.18 1481.76 Q1854.4 1482.32 1856.88 1482.32 Q1860.88 1482.32 1863.22 1480.21 Q1865.56 1478.1 1865.56 1474.49 Q1865.56 1470.88 1863.22 1468.77 Q1860.88 1466.67 1856.88 1466.67 Q1855 1466.67 1853.13 1467.08 Q1851.28 1467.5 1849.33 1468.38 L1849.33 1451.02 Z\" fill=\"#000000\" fill-rule=\"evenodd\" fill-opacity=\"1\" /><path clip-path=\"url(#clip820)\" d=\"M1308.7 1454.1 Q1305.08 1454.1 1303.26 1457.66 Q1301.45 1461.2 1301.45 1468.33 Q1301.45 1475.44 1303.26 1479.01 Q1305.08 1482.55 1308.7 1482.55 Q1312.33 1482.55 1314.14 1479.01 Q1315.96 1475.44 1315.96 1468.33 Q1315.96 1461.2 1314.14 1457.66 Q1312.33 1454.1 1308.7 1454.1 M1308.7 1450.39 Q1314.51 1450.39 1317.56 1455 Q1320.64 1459.58 1320.64 1468.33 Q1320.64 1477.06 1317.56 1481.67 Q1314.51 1486.25 1308.7 1486.25 Q1302.89 1486.25 1299.81 1481.67 Q1296.75 1477.06 1296.75 1468.33 Q1296.75 1459.58 1299.81 1455 Q1302.89 1450.39 1308.7 1450.39 Z\" fill=\"#000000\" fill-rule=\"evenodd\" fill-opacity=\"1\" /><path clip-path=\"url(#clip820)\" d=\"M1328.86 1479.7 L1333.74 1479.7 L1333.74 1485.58 L1328.86 1485.58 L1328.86 1479.7 Z\" fill=\"#000000\" fill-rule=\"evenodd\" fill-opacity=\"1\" /><path clip-path=\"url(#clip820)\" d=\"M1343.97 1451.02 L1362.33 1451.02 L1362.33 1454.96 L1348.26 1454.96 L1348.26 1463.43 Q1349.27 1463.08 1350.29 1462.92 Q1351.31 1462.73 1352.33 1462.73 Q1358.12 1462.73 1361.5 1465.9 Q1364.88 1469.08 1364.88 1474.49 Q1364.88 1480.07 1361.4 1483.17 Q1357.93 1486.25 1351.61 1486.25 Q1349.44 1486.25 1347.17 1485.88 Q1344.92 1485.51 1342.51 1484.77 L1342.51 1480.07 Q1344.6 1481.2 1346.82 1481.76 Q1349.04 1482.32 1351.52 1482.32 Q1355.52 1482.32 1357.86 1480.21 Q1360.2 1478.1 1360.2 1474.49 Q1360.2 1470.88 1357.86 1468.77 Q1355.52 1466.67 1351.52 1466.67 Q1349.64 1466.67 1347.77 1467.08 Q1345.92 1467.5 1343.97 1468.38 L1343.97 1451.02 Z\" fill=\"#000000\" fill-rule=\"evenodd\" fill-opacity=\"1\" /><path clip-path=\"url(#clip820)\" d=\"M1384.09 1454.1 Q1380.48 1454.1 1378.65 1457.66 Q1376.84 1461.2 1376.84 1468.33 Q1376.84 1475.44 1378.65 1479.01 Q1380.48 1482.55 1384.09 1482.55 Q1387.72 1482.55 1389.53 1479.01 Q1391.36 1475.44 1391.36 1468.33 Q1391.36 1461.2 1389.53 1457.66 Q1387.72 1454.1 1384.09 1454.1 M1384.09 1450.39 Q1389.9 1450.39 1392.95 1455 Q1396.03 1459.58 1396.03 1468.33 Q1396.03 1477.06 1392.95 1481.67 Q1389.9 1486.25 1384.09 1486.25 Q1378.28 1486.25 1375.2 1481.67 Q1372.14 1477.06 1372.14 1468.33 Q1372.14 1459.58 1375.2 1455 Q1378.28 1450.39 1384.09 1450.39 Z\" fill=\"#000000\" fill-rule=\"evenodd\" fill-opacity=\"1\" /><path clip-path=\"url(#clip820)\" d=\"M834.493 1454.1 Q830.882 1454.1 829.053 1457.66 Q827.248 1461.2 827.248 1468.33 Q827.248 1475.44 829.053 1479.01 Q830.882 1482.55 834.493 1482.55 Q838.127 1482.55 839.933 1479.01 Q841.761 1475.44 841.761 1468.33 Q841.761 1461.2 839.933 1457.66 Q838.127 1454.1 834.493 1454.1 M834.493 1450.39 Q840.303 1450.39 843.359 1455 Q846.437 1459.58 846.437 1468.33 Q846.437 1477.06 843.359 1481.67 Q840.303 1486.25 834.493 1486.25 Q828.683 1486.25 825.604 1481.67 Q822.548 1477.06 822.548 1468.33 Q822.548 1459.58 825.604 1455 Q828.683 1450.39 834.493 1450.39 Z\" fill=\"#000000\" fill-rule=\"evenodd\" fill-opacity=\"1\" /><path clip-path=\"url(#clip820)\" d=\"M854.655 1479.7 L859.539 1479.7 L859.539 1485.58 L854.655 1485.58 L854.655 1479.7 Z\" fill=\"#000000\" fill-rule=\"evenodd\" fill-opacity=\"1\" /><path clip-path=\"url(#clip820)\" d=\"M868.544 1451.02 L890.766 1451.02 L890.766 1453.01 L878.219 1485.58 L873.335 1485.58 L885.141 1454.96 L868.544 1454.96 L868.544 1451.02 Z\" fill=\"#000000\" fill-rule=\"evenodd\" fill-opacity=\"1\" /><path clip-path=\"url(#clip820)\" d=\"M899.932 1451.02 L918.289 1451.02 L918.289 1454.96 L904.215 1454.96 L904.215 1463.43 Q905.233 1463.08 906.252 1462.92 Q907.27 1462.73 908.289 1462.73 Q914.076 1462.73 917.455 1465.9 Q920.835 1469.08 920.835 1474.49 Q920.835 1480.07 917.363 1483.17 Q913.891 1486.25 907.571 1486.25 Q905.395 1486.25 903.127 1485.88 Q900.881 1485.51 898.474 1484.77 L898.474 1480.07 Q900.557 1481.2 902.78 1481.76 Q905.002 1482.32 907.479 1482.32 Q911.483 1482.32 913.821 1480.21 Q916.159 1478.1 916.159 1474.49 Q916.159 1470.88 913.821 1468.77 Q911.483 1466.67 907.479 1466.67 Q905.604 1466.67 903.729 1467.08 Q901.877 1467.5 899.932 1468.38 L899.932 1451.02 Z\" fill=\"#000000\" fill-rule=\"evenodd\" fill-opacity=\"1\" /><path clip-path=\"url(#clip820)\" d=\"M349.064 1481.64 L356.703 1481.64 L356.703 1455.28 L348.392 1456.95 L348.392 1452.69 L356.656 1451.02 L361.332 1451.02 L361.332 1481.64 L368.971 1481.64 L368.971 1485.58 L349.064 1485.58 L349.064 1481.64 Z\" fill=\"#000000\" fill-rule=\"evenodd\" fill-opacity=\"1\" /><path clip-path=\"url(#clip820)\" d=\"M378.415 1479.7 L383.3 1479.7 L383.3 1485.58 L378.415 1485.58 L378.415 1479.7 Z\" fill=\"#000000\" fill-rule=\"evenodd\" fill-opacity=\"1\" /><path clip-path=\"url(#clip820)\" d=\"M403.485 1454.1 Q399.874 1454.1 398.045 1457.66 Q396.239 1461.2 396.239 1468.33 Q396.239 1475.44 398.045 1479.01 Q399.874 1482.55 403.485 1482.55 Q407.119 1482.55 408.924 1479.01 Q410.753 1475.44 410.753 1468.33 Q410.753 1461.2 408.924 1457.66 Q407.119 1454.1 403.485 1454.1 M403.485 1450.39 Q409.295 1450.39 412.35 1455 Q415.429 1459.58 415.429 1468.33 Q415.429 1477.06 412.35 1481.67 Q409.295 1486.25 403.485 1486.25 Q397.675 1486.25 394.596 1481.67 Q391.54 1477.06 391.54 1468.33 Q391.54 1459.58 394.596 1455 Q397.675 1450.39 403.485 1450.39 Z\" fill=\"#000000\" fill-rule=\"evenodd\" fill-opacity=\"1\" /><path clip-path=\"url(#clip820)\" d=\"M433.647 1454.1 Q430.035 1454.1 428.207 1457.66 Q426.401 1461.2 426.401 1468.33 Q426.401 1475.44 428.207 1479.01 Q430.035 1482.55 433.647 1482.55 Q437.281 1482.55 439.086 1479.01 Q440.915 1475.44 440.915 1468.33 Q440.915 1461.2 439.086 1457.66 Q437.281 1454.1 433.647 1454.1 M433.647 1450.39 Q439.457 1450.39 442.512 1455 Q445.591 1459.58 445.591 1468.33 Q445.591 1477.06 442.512 1481.67 Q439.457 1486.25 433.647 1486.25 Q427.836 1486.25 424.758 1481.67 Q421.702 1477.06 421.702 1468.33 Q421.702 1459.58 424.758 1455 Q427.836 1450.39 433.647 1450.39 Z\" fill=\"#000000\" fill-rule=\"evenodd\" fill-opacity=\"1\" /><path clip-path=\"url(#clip820)\" d=\"M1363.01 1532.4 L1350.12 1549.74 L1363.67 1568.04 L1356.77 1568.04 L1346.39 1554.04 L1336.02 1568.04 L1329.11 1568.04 L1342.95 1549.39 L1330.29 1532.4 L1337.19 1532.4 L1346.65 1545.1 L1356.1 1532.4 L1363.01 1532.4 Z\" fill=\"#000000\" fill-rule=\"evenodd\" fill-opacity=\"1\" /><polyline clip-path=\"url(#clip822)\" style=\"stroke:#000000; stroke-linecap:butt; stroke-linejoin:round; stroke-width:2; stroke-opacity:0.1; fill:none\" points=\"\n",
       "  2352.76,1384.24 340.028,1384.24 \n",
       "  \"/>\n",
       "<polyline clip-path=\"url(#clip822)\" style=\"stroke:#000000; stroke-linecap:butt; stroke-linejoin:round; stroke-width:2; stroke-opacity:0.1; fill:none\" points=\"\n",
       "  2352.76,1052.56 340.028,1052.56 \n",
       "  \"/>\n",
       "<polyline clip-path=\"url(#clip822)\" style=\"stroke:#000000; stroke-linecap:butt; stroke-linejoin:round; stroke-width:2; stroke-opacity:0.1; fill:none\" points=\"\n",
       "  2352.76,720.89 340.028,720.89 \n",
       "  \"/>\n",
       "<polyline clip-path=\"url(#clip822)\" style=\"stroke:#000000; stroke-linecap:butt; stroke-linejoin:round; stroke-width:2; stroke-opacity:0.1; fill:none\" points=\"\n",
       "  2352.76,389.216 340.028,389.216 \n",
       "  \"/>\n",
       "<polyline clip-path=\"url(#clip822)\" style=\"stroke:#000000; stroke-linecap:butt; stroke-linejoin:round; stroke-width:2; stroke-opacity:0.1; fill:none\" points=\"\n",
       "  2352.76,57.5413 340.028,57.5413 \n",
       "  \"/>\n",
       "<polyline clip-path=\"url(#clip820)\" style=\"stroke:#000000; stroke-linecap:butt; stroke-linejoin:round; stroke-width:4; stroke-opacity:1; fill:none\" points=\"\n",
       "  340.028,1423.18 340.028,47.2441 \n",
       "  \"/>\n",
       "<polyline clip-path=\"url(#clip820)\" style=\"stroke:#000000; stroke-linecap:butt; stroke-linejoin:round; stroke-width:4; stroke-opacity:1; fill:none\" points=\"\n",
       "  340.028,1384.24 358.925,1384.24 \n",
       "  \"/>\n",
       "<polyline clip-path=\"url(#clip820)\" style=\"stroke:#000000; stroke-linecap:butt; stroke-linejoin:round; stroke-width:4; stroke-opacity:1; fill:none\" points=\"\n",
       "  340.028,1052.56 358.925,1052.56 \n",
       "  \"/>\n",
       "<polyline clip-path=\"url(#clip820)\" style=\"stroke:#000000; stroke-linecap:butt; stroke-linejoin:round; stroke-width:4; stroke-opacity:1; fill:none\" points=\"\n",
       "  340.028,720.89 358.925,720.89 \n",
       "  \"/>\n",
       "<polyline clip-path=\"url(#clip820)\" style=\"stroke:#000000; stroke-linecap:butt; stroke-linejoin:round; stroke-width:4; stroke-opacity:1; fill:none\" points=\"\n",
       "  340.028,389.216 358.925,389.216 \n",
       "  \"/>\n",
       "<polyline clip-path=\"url(#clip820)\" style=\"stroke:#000000; stroke-linecap:butt; stroke-linejoin:round; stroke-width:4; stroke-opacity:1; fill:none\" points=\"\n",
       "  340.028,57.5413 358.925,57.5413 \n",
       "  \"/>\n",
       "<path clip-path=\"url(#clip820)\" d=\"M126.205 1370.04 Q122.593 1370.04 120.765 1373.6 Q118.959 1377.14 118.959 1384.27 Q118.959 1391.38 120.765 1394.94 Q122.593 1398.49 126.205 1398.49 Q129.839 1398.49 131.644 1394.94 Q133.473 1391.38 133.473 1384.27 Q133.473 1377.14 131.644 1373.6 Q129.839 1370.04 126.205 1370.04 M126.205 1366.33 Q132.015 1366.33 135.07 1370.94 Q138.149 1375.52 138.149 1384.27 Q138.149 1393 135.07 1397.61 Q132.015 1402.19 126.205 1402.19 Q120.394 1402.19 117.316 1397.61 Q114.26 1393 114.26 1384.27 Q114.26 1375.52 117.316 1370.94 Q120.394 1366.33 126.205 1366.33 Z\" fill=\"#000000\" fill-rule=\"evenodd\" fill-opacity=\"1\" /><path clip-path=\"url(#clip820)\" d=\"M146.366 1395.64 L151.251 1395.64 L151.251 1401.52 L146.366 1401.52 L146.366 1395.64 Z\" fill=\"#000000\" fill-rule=\"evenodd\" fill-opacity=\"1\" /><path clip-path=\"url(#clip820)\" d=\"M171.436 1370.04 Q167.825 1370.04 165.996 1373.6 Q164.19 1377.14 164.19 1384.27 Q164.19 1391.38 165.996 1394.94 Q167.825 1398.49 171.436 1398.49 Q175.07 1398.49 176.876 1394.94 Q178.704 1391.38 178.704 1384.27 Q178.704 1377.14 176.876 1373.6 Q175.07 1370.04 171.436 1370.04 M171.436 1366.33 Q177.246 1366.33 180.301 1370.94 Q183.38 1375.52 183.38 1384.27 Q183.38 1393 180.301 1397.61 Q177.246 1402.19 171.436 1402.19 Q165.626 1402.19 162.547 1397.61 Q159.491 1393 159.491 1384.27 Q159.491 1375.52 162.547 1370.94 Q165.626 1366.33 171.436 1366.33 Z\" fill=\"#000000\" fill-rule=\"evenodd\" fill-opacity=\"1\" /><path clip-path=\"url(#clip820)\" d=\"M201.598 1370.04 Q197.987 1370.04 196.158 1373.6 Q194.352 1377.14 194.352 1384.27 Q194.352 1391.38 196.158 1394.94 Q197.987 1398.49 201.598 1398.49 Q205.232 1398.49 207.037 1394.94 Q208.866 1391.38 208.866 1384.27 Q208.866 1377.14 207.037 1373.6 Q205.232 1370.04 201.598 1370.04 M201.598 1366.33 Q207.408 1366.33 210.463 1370.94 Q213.542 1375.52 213.542 1384.27 Q213.542 1393 210.463 1397.61 Q207.408 1402.19 201.598 1402.19 Q195.787 1402.19 192.709 1397.61 Q189.653 1393 189.653 1384.27 Q189.653 1375.52 192.709 1370.94 Q195.787 1366.33 201.598 1366.33 Z\" fill=\"#000000\" fill-rule=\"evenodd\" fill-opacity=\"1\" /><path clip-path=\"url(#clip820)\" d=\"M231.76 1370.04 Q228.148 1370.04 226.32 1373.6 Q224.514 1377.14 224.514 1384.27 Q224.514 1391.38 226.32 1394.94 Q228.148 1398.49 231.76 1398.49 Q235.394 1398.49 237.199 1394.94 Q239.028 1391.38 239.028 1384.27 Q239.028 1377.14 237.199 1373.6 Q235.394 1370.04 231.76 1370.04 M231.76 1366.33 Q237.57 1366.33 240.625 1370.94 Q243.704 1375.52 243.704 1384.27 Q243.704 1393 240.625 1397.61 Q237.57 1402.19 231.76 1402.19 Q225.949 1402.19 222.871 1397.61 Q219.815 1393 219.815 1384.27 Q219.815 1375.52 222.871 1370.94 Q225.949 1366.33 231.76 1366.33 Z\" fill=\"#000000\" fill-rule=\"evenodd\" fill-opacity=\"1\" /><path clip-path=\"url(#clip820)\" d=\"M261.921 1370.04 Q258.31 1370.04 256.482 1373.6 Q254.676 1377.14 254.676 1384.27 Q254.676 1391.38 256.482 1394.94 Q258.31 1398.49 261.921 1398.49 Q265.556 1398.49 267.361 1394.94 Q269.19 1391.38 269.19 1384.27 Q269.19 1377.14 267.361 1373.6 Q265.556 1370.04 261.921 1370.04 M261.921 1366.33 Q267.732 1366.33 270.787 1370.94 Q273.866 1375.52 273.866 1384.27 Q273.866 1393 270.787 1397.61 Q267.732 1402.19 261.921 1402.19 Q256.111 1402.19 253.033 1397.61 Q249.977 1393 249.977 1384.27 Q249.977 1375.52 253.033 1370.94 Q256.111 1366.33 261.921 1366.33 Z\" fill=\"#000000\" fill-rule=\"evenodd\" fill-opacity=\"1\" /><path clip-path=\"url(#clip820)\" d=\"M292.083 1370.04 Q288.472 1370.04 286.643 1373.6 Q284.838 1377.14 284.838 1384.27 Q284.838 1391.38 286.643 1394.94 Q288.472 1398.49 292.083 1398.49 Q295.718 1398.49 297.523 1394.94 Q299.352 1391.38 299.352 1384.27 Q299.352 1377.14 297.523 1373.6 Q295.718 1370.04 292.083 1370.04 M292.083 1366.33 Q297.893 1366.33 300.949 1370.94 Q304.028 1375.52 304.028 1384.27 Q304.028 1393 300.949 1397.61 Q297.893 1402.19 292.083 1402.19 Q286.273 1402.19 283.194 1397.61 Q280.139 1393 280.139 1384.27 Q280.139 1375.52 283.194 1370.94 Q286.273 1366.33 292.083 1366.33 Z\" fill=\"#000000\" fill-rule=\"evenodd\" fill-opacity=\"1\" /><path clip-path=\"url(#clip820)\" d=\"M127.2 1038.36 Q123.589 1038.36 121.76 1041.93 Q119.955 1045.47 119.955 1052.6 Q119.955 1059.71 121.76 1063.27 Q123.589 1066.81 127.2 1066.81 Q130.834 1066.81 132.64 1063.27 Q134.468 1059.71 134.468 1052.6 Q134.468 1045.47 132.64 1041.93 Q130.834 1038.36 127.2 1038.36 M127.2 1034.66 Q133.01 1034.66 136.066 1039.27 Q139.144 1043.85 139.144 1052.6 Q139.144 1061.33 136.066 1065.93 Q133.01 1070.52 127.2 1070.52 Q121.39 1070.52 118.311 1065.93 Q115.256 1061.33 115.256 1052.6 Q115.256 1043.85 118.311 1039.27 Q121.39 1034.66 127.2 1034.66 Z\" fill=\"#000000\" fill-rule=\"evenodd\" fill-opacity=\"1\" /><path clip-path=\"url(#clip820)\" d=\"M147.362 1063.96 L152.246 1063.96 L152.246 1069.84 L147.362 1069.84 L147.362 1063.96 Z\" fill=\"#000000\" fill-rule=\"evenodd\" fill-opacity=\"1\" /><path clip-path=\"url(#clip820)\" d=\"M172.431 1038.36 Q168.82 1038.36 166.991 1041.93 Q165.186 1045.47 165.186 1052.6 Q165.186 1059.71 166.991 1063.27 Q168.82 1066.81 172.431 1066.81 Q176.065 1066.81 177.871 1063.27 Q179.7 1059.71 179.7 1052.6 Q179.7 1045.47 177.871 1041.93 Q176.065 1038.36 172.431 1038.36 M172.431 1034.66 Q178.241 1034.66 181.297 1039.27 Q184.376 1043.85 184.376 1052.6 Q184.376 1061.33 181.297 1065.93 Q178.241 1070.52 172.431 1070.52 Q166.621 1070.52 163.542 1065.93 Q160.487 1061.33 160.487 1052.6 Q160.487 1043.85 163.542 1039.27 Q166.621 1034.66 172.431 1034.66 Z\" fill=\"#000000\" fill-rule=\"evenodd\" fill-opacity=\"1\" /><path clip-path=\"url(#clip820)\" d=\"M202.593 1038.36 Q198.982 1038.36 197.153 1041.93 Q195.348 1045.47 195.348 1052.6 Q195.348 1059.71 197.153 1063.27 Q198.982 1066.81 202.593 1066.81 Q206.227 1066.81 208.033 1063.27 Q209.861 1059.71 209.861 1052.6 Q209.861 1045.47 208.033 1041.93 Q206.227 1038.36 202.593 1038.36 M202.593 1034.66 Q208.403 1034.66 211.459 1039.27 Q214.537 1043.85 214.537 1052.6 Q214.537 1061.33 211.459 1065.93 Q208.403 1070.52 202.593 1070.52 Q196.783 1070.52 193.704 1065.93 Q190.649 1061.33 190.649 1052.6 Q190.649 1043.85 193.704 1039.27 Q196.783 1034.66 202.593 1034.66 Z\" fill=\"#000000\" fill-rule=\"evenodd\" fill-opacity=\"1\" /><path clip-path=\"url(#clip820)\" d=\"M232.755 1038.36 Q229.144 1038.36 227.315 1041.93 Q225.51 1045.47 225.51 1052.6 Q225.51 1059.71 227.315 1063.27 Q229.144 1066.81 232.755 1066.81 Q236.389 1066.81 238.195 1063.27 Q240.023 1059.71 240.023 1052.6 Q240.023 1045.47 238.195 1041.93 Q236.389 1038.36 232.755 1038.36 M232.755 1034.66 Q238.565 1034.66 241.621 1039.27 Q244.699 1043.85 244.699 1052.6 Q244.699 1061.33 241.621 1065.93 Q238.565 1070.52 232.755 1070.52 Q226.945 1070.52 223.866 1065.93 Q220.811 1061.33 220.811 1052.6 Q220.811 1043.85 223.866 1039.27 Q226.945 1034.66 232.755 1034.66 Z\" fill=\"#000000\" fill-rule=\"evenodd\" fill-opacity=\"1\" /><path clip-path=\"url(#clip820)\" d=\"M262.917 1038.36 Q259.306 1038.36 257.477 1041.93 Q255.671 1045.47 255.671 1052.6 Q255.671 1059.71 257.477 1063.27 Q259.306 1066.81 262.917 1066.81 Q266.551 1066.81 268.357 1063.27 Q270.185 1059.71 270.185 1052.6 Q270.185 1045.47 268.357 1041.93 Q266.551 1038.36 262.917 1038.36 M262.917 1034.66 Q268.727 1034.66 271.782 1039.27 Q274.861 1043.85 274.861 1052.6 Q274.861 1061.33 271.782 1065.93 Q268.727 1070.52 262.917 1070.52 Q257.107 1070.52 254.028 1065.93 Q250.972 1061.33 250.972 1052.6 Q250.972 1043.85 254.028 1039.27 Q257.107 1034.66 262.917 1034.66 Z\" fill=\"#000000\" fill-rule=\"evenodd\" fill-opacity=\"1\" /><path clip-path=\"url(#clip820)\" d=\"M283.125 1035.28 L301.481 1035.28 L301.481 1039.22 L287.407 1039.22 L287.407 1047.69 Q288.426 1047.34 289.444 1047.18 Q290.463 1047 291.481 1047 Q297.268 1047 300.648 1050.17 Q304.028 1053.34 304.028 1058.76 Q304.028 1064.33 300.555 1067.44 Q297.083 1070.52 290.764 1070.52 Q288.588 1070.52 286.319 1070.14 Q284.074 1069.77 281.667 1069.03 L281.667 1064.33 Q283.75 1065.47 285.972 1066.02 Q288.194 1066.58 290.671 1066.58 Q294.676 1066.58 297.014 1064.47 Q299.352 1062.37 299.352 1058.76 Q299.352 1055.15 297.014 1053.04 Q294.676 1050.93 290.671 1050.93 Q288.796 1050.93 286.921 1051.35 Q285.069 1051.77 283.125 1052.65 L283.125 1035.28 Z\" fill=\"#000000\" fill-rule=\"evenodd\" fill-opacity=\"1\" /><path clip-path=\"url(#clip820)\" d=\"M126.205 706.688 Q122.593 706.688 120.765 710.253 Q118.959 713.795 118.959 720.925 Q118.959 728.031 120.765 731.596 Q122.593 735.137 126.205 735.137 Q129.839 735.137 131.644 731.596 Q133.473 728.031 133.473 720.925 Q133.473 713.795 131.644 710.253 Q129.839 706.688 126.205 706.688 M126.205 702.985 Q132.015 702.985 135.07 707.591 Q138.149 712.175 138.149 720.925 Q138.149 729.651 135.07 734.258 Q132.015 738.841 126.205 738.841 Q120.394 738.841 117.316 734.258 Q114.26 729.651 114.26 720.925 Q114.26 712.175 117.316 707.591 Q120.394 702.985 126.205 702.985 Z\" fill=\"#000000\" fill-rule=\"evenodd\" fill-opacity=\"1\" /><path clip-path=\"url(#clip820)\" d=\"M146.366 732.29 L151.251 732.29 L151.251 738.17 L146.366 738.17 L146.366 732.29 Z\" fill=\"#000000\" fill-rule=\"evenodd\" fill-opacity=\"1\" /><path clip-path=\"url(#clip820)\" d=\"M171.436 706.688 Q167.825 706.688 165.996 710.253 Q164.19 713.795 164.19 720.925 Q164.19 728.031 165.996 731.596 Q167.825 735.137 171.436 735.137 Q175.07 735.137 176.876 731.596 Q178.704 728.031 178.704 720.925 Q178.704 713.795 176.876 710.253 Q175.07 706.688 171.436 706.688 M171.436 702.985 Q177.246 702.985 180.301 707.591 Q183.38 712.175 183.38 720.925 Q183.38 729.651 180.301 734.258 Q177.246 738.841 171.436 738.841 Q165.626 738.841 162.547 734.258 Q159.491 729.651 159.491 720.925 Q159.491 712.175 162.547 707.591 Q165.626 702.985 171.436 702.985 Z\" fill=\"#000000\" fill-rule=\"evenodd\" fill-opacity=\"1\" /><path clip-path=\"url(#clip820)\" d=\"M201.598 706.688 Q197.987 706.688 196.158 710.253 Q194.352 713.795 194.352 720.925 Q194.352 728.031 196.158 731.596 Q197.987 735.137 201.598 735.137 Q205.232 735.137 207.037 731.596 Q208.866 728.031 208.866 720.925 Q208.866 713.795 207.037 710.253 Q205.232 706.688 201.598 706.688 M201.598 702.985 Q207.408 702.985 210.463 707.591 Q213.542 712.175 213.542 720.925 Q213.542 729.651 210.463 734.258 Q207.408 738.841 201.598 738.841 Q195.787 738.841 192.709 734.258 Q189.653 729.651 189.653 720.925 Q189.653 712.175 192.709 707.591 Q195.787 702.985 201.598 702.985 Z\" fill=\"#000000\" fill-rule=\"evenodd\" fill-opacity=\"1\" /><path clip-path=\"url(#clip820)\" d=\"M231.76 706.688 Q228.148 706.688 226.32 710.253 Q224.514 713.795 224.514 720.925 Q224.514 728.031 226.32 731.596 Q228.148 735.137 231.76 735.137 Q235.394 735.137 237.199 731.596 Q239.028 728.031 239.028 720.925 Q239.028 713.795 237.199 710.253 Q235.394 706.688 231.76 706.688 M231.76 702.985 Q237.57 702.985 240.625 707.591 Q243.704 712.175 243.704 720.925 Q243.704 729.651 240.625 734.258 Q237.57 738.841 231.76 738.841 Q225.949 738.841 222.871 734.258 Q219.815 729.651 219.815 720.925 Q219.815 712.175 222.871 707.591 Q225.949 702.985 231.76 702.985 Z\" fill=\"#000000\" fill-rule=\"evenodd\" fill-opacity=\"1\" /><path clip-path=\"url(#clip820)\" d=\"M252.732 734.235 L260.37 734.235 L260.37 707.869 L252.06 709.536 L252.06 705.276 L260.324 703.61 L265 703.61 L265 734.235 L272.639 734.235 L272.639 738.17 L252.732 738.17 L252.732 734.235 Z\" fill=\"#000000\" fill-rule=\"evenodd\" fill-opacity=\"1\" /><path clip-path=\"url(#clip820)\" d=\"M292.083 706.688 Q288.472 706.688 286.643 710.253 Q284.838 713.795 284.838 720.925 Q284.838 728.031 286.643 731.596 Q288.472 735.137 292.083 735.137 Q295.718 735.137 297.523 731.596 Q299.352 728.031 299.352 720.925 Q299.352 713.795 297.523 710.253 Q295.718 706.688 292.083 706.688 M292.083 702.985 Q297.893 702.985 300.949 707.591 Q304.028 712.175 304.028 720.925 Q304.028 729.651 300.949 734.258 Q297.893 738.841 292.083 738.841 Q286.273 738.841 283.194 734.258 Q280.139 729.651 280.139 720.925 Q280.139 712.175 283.194 707.591 Q286.273 702.985 292.083 702.985 Z\" fill=\"#000000\" fill-rule=\"evenodd\" fill-opacity=\"1\" /><path clip-path=\"url(#clip820)\" d=\"M127.2 375.014 Q123.589 375.014 121.76 378.579 Q119.955 382.121 119.955 389.25 Q119.955 396.357 121.76 399.922 Q123.589 403.463 127.2 403.463 Q130.834 403.463 132.64 399.922 Q134.468 396.357 134.468 389.25 Q134.468 382.121 132.64 378.579 Q130.834 375.014 127.2 375.014 M127.2 371.311 Q133.01 371.311 136.066 375.917 Q139.144 380.5 139.144 389.25 Q139.144 397.977 136.066 402.584 Q133.01 407.167 127.2 407.167 Q121.39 407.167 118.311 402.584 Q115.256 397.977 115.256 389.25 Q115.256 380.5 118.311 375.917 Q121.39 371.311 127.2 371.311 Z\" fill=\"#000000\" fill-rule=\"evenodd\" fill-opacity=\"1\" /><path clip-path=\"url(#clip820)\" d=\"M147.362 400.616 L152.246 400.616 L152.246 406.496 L147.362 406.496 L147.362 400.616 Z\" fill=\"#000000\" fill-rule=\"evenodd\" fill-opacity=\"1\" /><path clip-path=\"url(#clip820)\" d=\"M172.431 375.014 Q168.82 375.014 166.991 378.579 Q165.186 382.121 165.186 389.25 Q165.186 396.357 166.991 399.922 Q168.82 403.463 172.431 403.463 Q176.065 403.463 177.871 399.922 Q179.7 396.357 179.7 389.25 Q179.7 382.121 177.871 378.579 Q176.065 375.014 172.431 375.014 M172.431 371.311 Q178.241 371.311 181.297 375.917 Q184.376 380.5 184.376 389.25 Q184.376 397.977 181.297 402.584 Q178.241 407.167 172.431 407.167 Q166.621 407.167 163.542 402.584 Q160.487 397.977 160.487 389.25 Q160.487 380.5 163.542 375.917 Q166.621 371.311 172.431 371.311 Z\" fill=\"#000000\" fill-rule=\"evenodd\" fill-opacity=\"1\" /><path clip-path=\"url(#clip820)\" d=\"M202.593 375.014 Q198.982 375.014 197.153 378.579 Q195.348 382.121 195.348 389.25 Q195.348 396.357 197.153 399.922 Q198.982 403.463 202.593 403.463 Q206.227 403.463 208.033 399.922 Q209.861 396.357 209.861 389.25 Q209.861 382.121 208.033 378.579 Q206.227 375.014 202.593 375.014 M202.593 371.311 Q208.403 371.311 211.459 375.917 Q214.537 380.5 214.537 389.25 Q214.537 397.977 211.459 402.584 Q208.403 407.167 202.593 407.167 Q196.783 407.167 193.704 402.584 Q190.649 397.977 190.649 389.25 Q190.649 380.5 193.704 375.917 Q196.783 371.311 202.593 371.311 Z\" fill=\"#000000\" fill-rule=\"evenodd\" fill-opacity=\"1\" /><path clip-path=\"url(#clip820)\" d=\"M232.755 375.014 Q229.144 375.014 227.315 378.579 Q225.51 382.121 225.51 389.25 Q225.51 396.357 227.315 399.922 Q229.144 403.463 232.755 403.463 Q236.389 403.463 238.195 399.922 Q240.023 396.357 240.023 389.25 Q240.023 382.121 238.195 378.579 Q236.389 375.014 232.755 375.014 M232.755 371.311 Q238.565 371.311 241.621 375.917 Q244.699 380.5 244.699 389.25 Q244.699 397.977 241.621 402.584 Q238.565 407.167 232.755 407.167 Q226.945 407.167 223.866 402.584 Q220.811 397.977 220.811 389.25 Q220.811 380.5 223.866 375.917 Q226.945 371.311 232.755 371.311 Z\" fill=\"#000000\" fill-rule=\"evenodd\" fill-opacity=\"1\" /><path clip-path=\"url(#clip820)\" d=\"M253.727 402.56 L261.366 402.56 L261.366 376.195 L253.056 377.861 L253.056 373.602 L261.32 371.936 L265.995 371.936 L265.995 402.56 L273.634 402.56 L273.634 406.496 L253.727 406.496 L253.727 402.56 Z\" fill=\"#000000\" fill-rule=\"evenodd\" fill-opacity=\"1\" /><path clip-path=\"url(#clip820)\" d=\"M283.125 371.936 L301.481 371.936 L301.481 375.871 L287.407 375.871 L287.407 384.343 Q288.426 383.996 289.444 383.834 Q290.463 383.648 291.481 383.648 Q297.268 383.648 300.648 386.82 Q304.028 389.991 304.028 395.408 Q304.028 400.986 300.555 404.088 Q297.083 407.167 290.764 407.167 Q288.588 407.167 286.319 406.797 Q284.074 406.426 281.667 405.685 L281.667 400.986 Q283.75 402.121 285.972 402.676 Q288.194 403.232 290.671 403.232 Q294.676 403.232 297.014 401.125 Q299.352 399.019 299.352 395.408 Q299.352 391.797 297.014 389.69 Q294.676 387.584 290.671 387.584 Q288.796 387.584 286.921 388 Q285.069 388.417 283.125 389.297 L283.125 371.936 Z\" fill=\"#000000\" fill-rule=\"evenodd\" fill-opacity=\"1\" /><path clip-path=\"url(#clip820)\" d=\"M126.205 43.34 Q122.593 43.34 120.765 46.9048 Q118.959 50.4465 118.959 57.5761 Q118.959 64.6825 120.765 68.2473 Q122.593 71.789 126.205 71.789 Q129.839 71.789 131.644 68.2473 Q133.473 64.6825 133.473 57.5761 Q133.473 50.4465 131.644 46.9048 Q129.839 43.34 126.205 43.34 M126.205 39.6364 Q132.015 39.6364 135.07 44.2428 Q138.149 48.8261 138.149 57.5761 Q138.149 66.3029 135.07 70.9093 Q132.015 75.4926 126.205 75.4926 Q120.394 75.4926 117.316 70.9093 Q114.26 66.3029 114.26 57.5761 Q114.26 48.8261 117.316 44.2428 Q120.394 39.6364 126.205 39.6364 Z\" fill=\"#000000\" fill-rule=\"evenodd\" fill-opacity=\"1\" /><path clip-path=\"url(#clip820)\" d=\"M146.366 68.9418 L151.251 68.9418 L151.251 74.8213 L146.366 74.8213 L146.366 68.9418 Z\" fill=\"#000000\" fill-rule=\"evenodd\" fill-opacity=\"1\" /><path clip-path=\"url(#clip820)\" d=\"M171.436 43.34 Q167.825 43.34 165.996 46.9048 Q164.19 50.4465 164.19 57.5761 Q164.19 64.6825 165.996 68.2473 Q167.825 71.789 171.436 71.789 Q175.07 71.789 176.876 68.2473 Q178.704 64.6825 178.704 57.5761 Q178.704 50.4465 176.876 46.9048 Q175.07 43.34 171.436 43.34 M171.436 39.6364 Q177.246 39.6364 180.301 44.2428 Q183.38 48.8261 183.38 57.5761 Q183.38 66.3029 180.301 70.9093 Q177.246 75.4926 171.436 75.4926 Q165.626 75.4926 162.547 70.9093 Q159.491 66.3029 159.491 57.5761 Q159.491 48.8261 162.547 44.2428 Q165.626 39.6364 171.436 39.6364 Z\" fill=\"#000000\" fill-rule=\"evenodd\" fill-opacity=\"1\" /><path clip-path=\"url(#clip820)\" d=\"M201.598 43.34 Q197.987 43.34 196.158 46.9048 Q194.352 50.4465 194.352 57.5761 Q194.352 64.6825 196.158 68.2473 Q197.987 71.789 201.598 71.789 Q205.232 71.789 207.037 68.2473 Q208.866 64.6825 208.866 57.5761 Q208.866 50.4465 207.037 46.9048 Q205.232 43.34 201.598 43.34 M201.598 39.6364 Q207.408 39.6364 210.463 44.2428 Q213.542 48.8261 213.542 57.5761 Q213.542 66.3029 210.463 70.9093 Q207.408 75.4926 201.598 75.4926 Q195.787 75.4926 192.709 70.9093 Q189.653 66.3029 189.653 57.5761 Q189.653 48.8261 192.709 44.2428 Q195.787 39.6364 201.598 39.6364 Z\" fill=\"#000000\" fill-rule=\"evenodd\" fill-opacity=\"1\" /><path clip-path=\"url(#clip820)\" d=\"M231.76 43.34 Q228.148 43.34 226.32 46.9048 Q224.514 50.4465 224.514 57.5761 Q224.514 64.6825 226.32 68.2473 Q228.148 71.789 231.76 71.789 Q235.394 71.789 237.199 68.2473 Q239.028 64.6825 239.028 57.5761 Q239.028 50.4465 237.199 46.9048 Q235.394 43.34 231.76 43.34 M231.76 39.6364 Q237.57 39.6364 240.625 44.2428 Q243.704 48.8261 243.704 57.5761 Q243.704 66.3029 240.625 70.9093 Q237.57 75.4926 231.76 75.4926 Q225.949 75.4926 222.871 70.9093 Q219.815 66.3029 219.815 57.5761 Q219.815 48.8261 222.871 44.2428 Q225.949 39.6364 231.76 39.6364 Z\" fill=\"#000000\" fill-rule=\"evenodd\" fill-opacity=\"1\" /><path clip-path=\"url(#clip820)\" d=\"M255.949 70.8862 L272.269 70.8862 L272.269 74.8213 L250.324 74.8213 L250.324 70.8862 Q252.986 68.1316 257.57 63.502 Q262.176 58.8492 263.357 57.5066 Q265.602 54.9835 266.482 53.2474 Q267.384 51.4881 267.384 49.7983 Q267.384 47.0437 265.44 45.3076 Q263.519 43.5715 260.417 43.5715 Q258.218 43.5715 255.764 44.3354 Q253.333 45.0993 250.556 46.6502 L250.556 41.928 Q253.38 40.7938 255.833 40.2151 Q258.287 39.6364 260.324 39.6364 Q265.695 39.6364 268.889 42.3215 Q272.083 45.0067 272.083 49.4974 Q272.083 51.627 271.273 53.5483 Q270.486 55.4465 268.38 58.039 Q267.801 58.7103 264.699 61.9279 Q261.597 65.1223 255.949 70.8862 Z\" fill=\"#000000\" fill-rule=\"evenodd\" fill-opacity=\"1\" /><path clip-path=\"url(#clip820)\" d=\"M292.083 43.34 Q288.472 43.34 286.643 46.9048 Q284.838 50.4465 284.838 57.5761 Q284.838 64.6825 286.643 68.2473 Q288.472 71.789 292.083 71.789 Q295.718 71.789 297.523 68.2473 Q299.352 64.6825 299.352 57.5761 Q299.352 50.4465 297.523 46.9048 Q295.718 43.34 292.083 43.34 M292.083 39.6364 Q297.893 39.6364 300.949 44.2428 Q304.028 48.8261 304.028 57.5761 Q304.028 66.3029 300.949 70.9093 Q297.893 75.4926 292.083 75.4926 Q286.273 75.4926 283.194 70.9093 Q280.139 66.3029 280.139 57.5761 Q280.139 48.8261 283.194 44.2428 Q286.273 39.6364 292.083 39.6364 Z\" fill=\"#000000\" fill-rule=\"evenodd\" fill-opacity=\"1\" /><path clip-path=\"url(#clip820)\" d=\"M16.4842 994.726 L16.4842 954.526 L21.895 954.526 L21.895 971.396 L64.0042 971.396 L64.0042 977.857 L21.895 977.857 L21.895 994.726 L16.4842 994.726 Z\" fill=\"#000000\" fill-rule=\"evenodd\" fill-opacity=\"1\" /><path clip-path=\"url(#clip820)\" d=\"M33.8307 937.498 Q33.2578 938.485 33.0032 939.663 Q32.7167 940.808 32.7167 942.209 Q32.7167 947.174 35.9632 949.848 Q39.1779 952.489 45.2253 952.489 L64.0042 952.489 L64.0042 958.378 L28.3562 958.378 L28.3562 952.489 L33.8944 952.489 Q30.6479 950.643 29.0883 947.683 Q27.4968 944.723 27.4968 940.49 Q27.4968 939.885 27.5923 939.153 Q27.656 938.421 27.8151 937.53 L33.8307 937.498 Z\" fill=\"#000000\" fill-rule=\"evenodd\" fill-opacity=\"1\" /><path clip-path=\"url(#clip820)\" d=\"M49.9359 931.96 L28.3562 931.96 L28.3562 926.104 L49.7131 926.104 Q54.7739 926.104 57.3202 924.13 Q59.8346 922.157 59.8346 918.21 Q59.8346 913.468 56.8109 910.73 Q53.7872 907.961 48.5673 907.961 L28.3562 907.961 L28.3562 902.105 L64.0042 902.105 L64.0042 907.961 L58.5296 907.961 Q61.7762 910.094 63.3676 912.927 Q64.9272 915.727 64.9272 919.451 Q64.9272 925.594 61.1078 928.777 Q57.2883 931.96 49.9359 931.96 M27.4968 917.223 L27.4968 917.223 Z\" fill=\"#000000\" fill-rule=\"evenodd\" fill-opacity=\"1\" /><path clip-path=\"url(#clip820)\" d=\"M42.4881 860.41 L64.0042 860.41 L64.0042 866.266 L42.679 866.266 Q37.6183 866.266 35.1038 868.239 Q32.5894 870.213 32.5894 874.159 Q32.5894 878.902 35.6131 881.639 Q38.6368 884.376 43.8567 884.376 L64.0042 884.376 L64.0042 890.265 L28.3562 890.265 L28.3562 884.376 L33.8944 884.376 Q30.6797 882.276 29.0883 879.443 Q27.4968 876.578 27.4968 872.854 Q27.4968 866.712 31.3163 863.561 Q35.1038 860.41 42.4881 860.41 Z\" fill=\"#000000\" fill-rule=\"evenodd\" fill-opacity=\"1\" /><path clip-path=\"url(#clip820)\" d=\"M29.7248 823.075 L35.1993 823.075 Q33.8307 825.557 33.1623 828.072 Q32.4621 830.554 32.4621 833.101 Q32.4621 838.798 36.0905 841.949 Q39.6872 845.1 46.212 845.1 Q52.7369 845.1 56.3653 841.949 Q59.9619 838.798 59.9619 833.101 Q59.9619 830.554 59.2935 828.072 Q58.5933 825.557 57.2247 823.075 L62.6355 823.075 Q63.7814 825.525 64.3543 828.167 Q64.9272 830.777 64.9272 833.737 Q64.9272 841.79 59.8664 846.532 Q54.8057 851.275 46.212 851.275 Q37.491 851.275 32.4939 846.5 Q27.4968 841.694 27.4968 833.355 Q27.4968 830.65 28.0697 828.072 Q28.6108 825.494 29.7248 823.075 Z\" fill=\"#000000\" fill-rule=\"evenodd\" fill-opacity=\"1\" /><path clip-path=\"url(#clip820)\" d=\"M46.0847 796.689 Q46.0847 803.787 47.7079 806.524 Q49.3312 809.261 53.2461 809.261 Q56.3653 809.261 58.2114 807.224 Q60.0256 805.155 60.0256 801.622 Q60.0256 796.752 56.5881 793.824 Q53.1188 790.864 47.3897 790.864 L46.0847 790.864 L46.0847 796.689 M43.6657 785.008 L64.0042 785.008 L64.0042 790.864 L58.5933 790.864 Q61.8398 792.869 63.3994 795.861 Q64.9272 798.853 64.9272 803.182 Q64.9272 808.656 61.8716 811.903 Q58.7843 815.118 53.6281 815.118 Q47.6125 815.118 44.5569 811.107 Q41.5014 807.065 41.5014 799.076 L41.5014 790.864 L40.9285 790.864 Q36.8862 790.864 34.6901 793.538 Q32.4621 796.18 32.4621 800.986 Q32.4621 804.041 33.1941 806.938 Q33.9262 809.834 35.3903 812.508 L29.9795 812.508 Q28.7381 809.293 28.1334 806.269 Q27.4968 803.245 27.4968 800.381 Q27.4968 792.647 31.5072 788.827 Q35.5176 785.008 43.6657 785.008 Z\" fill=\"#000000\" fill-rule=\"evenodd\" fill-opacity=\"1\" /><path clip-path=\"url(#clip820)\" d=\"M18.2347 767.152 L28.3562 767.152 L28.3562 755.089 L32.9077 755.089 L32.9077 767.152 L52.2594 767.152 Q56.6199 767.152 57.8613 765.974 Q59.1026 764.765 59.1026 761.104 L59.1026 755.089 L64.0042 755.089 L64.0042 761.104 Q64.0042 767.884 61.4897 770.462 Q58.9434 773.04 52.2594 773.04 L32.9077 773.04 L32.9077 777.337 L28.3562 777.337 L28.3562 773.04 L18.2347 773.04 L18.2347 767.152 Z\" fill=\"#000000\" fill-rule=\"evenodd\" fill-opacity=\"1\" /><path clip-path=\"url(#clip820)\" d=\"M28.3562 747.386 L28.3562 741.53 L64.0042 741.53 L64.0042 747.386 L28.3562 747.386 M14.479 747.386 L14.479 741.53 L21.895 741.53 L21.895 747.386 L14.479 747.386 Z\" fill=\"#000000\" fill-rule=\"evenodd\" fill-opacity=\"1\" /><path clip-path=\"url(#clip820)\" d=\"M32.4621 715.462 Q32.4621 720.173 36.1542 722.91 Q39.8145 725.647 46.212 725.647 Q52.6095 725.647 56.3017 722.942 Q59.9619 720.205 59.9619 715.462 Q59.9619 710.784 56.2698 708.046 Q52.5777 705.309 46.212 705.309 Q39.8781 705.309 36.186 708.046 Q32.4621 710.784 32.4621 715.462 M27.4968 715.462 Q27.4968 707.824 32.4621 703.463 Q37.4273 699.102 46.212 699.102 Q54.9649 699.102 59.9619 703.463 Q64.9272 707.824 64.9272 715.462 Q64.9272 723.133 59.9619 727.494 Q54.9649 731.822 46.212 731.822 Q37.4273 731.822 32.4621 727.494 Q27.4968 723.133 27.4968 715.462 Z\" fill=\"#000000\" fill-rule=\"evenodd\" fill-opacity=\"1\" /><path clip-path=\"url(#clip820)\" d=\"M42.4881 659.762 L64.0042 659.762 L64.0042 665.619 L42.679 665.619 Q37.6183 665.619 35.1038 667.592 Q32.5894 669.566 32.5894 673.512 Q32.5894 678.255 35.6131 680.992 Q38.6368 683.729 43.8567 683.729 L64.0042 683.729 L64.0042 689.618 L28.3562 689.618 L28.3562 683.729 L33.8944 683.729 Q30.6797 681.629 29.0883 678.796 Q27.4968 675.931 27.4968 672.207 Q27.4968 666.064 31.3163 662.913 Q35.1038 659.762 42.4881 659.762 Z\" fill=\"#000000\" fill-rule=\"evenodd\" fill-opacity=\"1\" /><path clip-path=\"url(#clip820)\" d=\"M44.7161 596.869 L47.5806 596.869 L47.5806 623.796 Q53.6281 623.414 56.8109 620.168 Q59.9619 616.889 59.9619 611.065 Q59.9619 607.691 59.1344 604.54 Q58.3069 601.357 56.6518 598.238 L62.1899 598.238 Q63.5267 601.389 64.227 604.699 Q64.9272 608.009 64.9272 611.415 Q64.9272 619.945 59.9619 624.942 Q54.9967 629.907 46.5303 629.907 Q37.7774 629.907 32.6531 625.197 Q27.4968 620.454 27.4968 612.433 Q27.4968 605.24 32.1438 601.071 Q36.7589 596.869 44.7161 596.869 M42.9973 602.726 Q38.1912 602.789 35.3266 605.431 Q32.4621 608.041 32.4621 612.37 Q32.4621 617.271 35.2312 620.231 Q38.0002 623.16 43.0292 623.605 L42.9973 602.726 Z\" fill=\"#000000\" fill-rule=\"evenodd\" fill-opacity=\"1\" /><path clip-path=\"url(#clip820)\" d=\"M33.8307 566.6 Q33.2578 567.587 33.0032 568.765 Q32.7167 569.91 32.7167 571.311 Q32.7167 576.276 35.9632 578.95 Q39.1779 581.592 45.2253 581.592 L64.0042 581.592 L64.0042 587.48 L28.3562 587.48 L28.3562 581.592 L33.8944 581.592 Q30.6479 579.745 29.0883 576.785 Q27.4968 573.825 27.4968 569.592 Q27.4968 568.987 27.5923 568.255 Q27.656 567.523 27.8151 566.632 L33.8307 566.6 Z\" fill=\"#000000\" fill-rule=\"evenodd\" fill-opacity=\"1\" /><path clip-path=\"url(#clip820)\" d=\"M33.8307 540.947 Q33.2578 541.933 33.0032 543.111 Q32.7167 544.257 32.7167 545.657 Q32.7167 550.622 35.9632 553.296 Q39.1779 555.938 45.2253 555.938 L64.0042 555.938 L64.0042 561.826 L28.3562 561.826 L28.3562 555.938 L33.8944 555.938 Q30.6479 554.092 29.0883 551.132 Q27.4968 548.172 27.4968 543.938 Q27.4968 543.334 27.5923 542.602 Q27.656 541.87 27.8151 540.978 L33.8307 540.947 Z\" fill=\"#000000\" fill-rule=\"evenodd\" fill-opacity=\"1\" /><path clip-path=\"url(#clip820)\" d=\"M32.4621 522.422 Q32.4621 527.133 36.1542 529.87 Q39.8145 532.607 46.212 532.607 Q52.6095 532.607 56.3017 529.902 Q59.9619 527.165 59.9619 522.422 Q59.9619 517.744 56.2698 515.006 Q52.5777 512.269 46.212 512.269 Q39.8781 512.269 36.186 515.006 Q32.4621 517.744 32.4621 522.422 M27.4968 522.422 Q27.4968 514.783 32.4621 510.423 Q37.4273 506.062 46.212 506.062 Q54.9649 506.062 59.9619 510.423 Q64.9272 514.783 64.9272 522.422 Q64.9272 530.093 59.9619 534.453 Q54.9649 538.782 46.212 538.782 Q37.4273 538.782 32.4621 534.453 Q27.4968 530.093 27.4968 522.422 Z\" fill=\"#000000\" fill-rule=\"evenodd\" fill-opacity=\"1\" /><path clip-path=\"url(#clip820)\" d=\"M33.8307 475.698 Q33.2578 476.685 33.0032 477.862 Q32.7167 479.008 32.7167 480.409 Q32.7167 485.374 35.9632 488.047 Q39.1779 490.689 45.2253 490.689 L64.0042 490.689 L64.0042 496.578 L28.3562 496.578 L28.3562 490.689 L33.8944 490.689 Q30.6479 488.843 29.0883 485.883 Q27.4968 482.923 27.4968 478.69 Q27.4968 478.085 27.5923 477.353 Q27.656 476.621 27.8151 475.73 L33.8307 475.698 Z\" fill=\"#000000\" fill-rule=\"evenodd\" fill-opacity=\"1\" /><polyline clip-path=\"url(#clip822)\" style=\"stroke:#009af9; stroke-linecap:butt; stroke-linejoin:round; stroke-width:4; stroke-opacity:1; fill:none\" points=\"\n",
       "  2295.79,1384.24 2277.25,1384.24 2105.79,1384.24 2002.75,1384.24 1915.63,1384.22 1820.99,1384.16 1733.75,1383.98 1640.21,1383.47 1531.84,1382 1435.53,1379.1 \n",
       "  1351.08,1374.34 1259,1365.27 1166.38,1349.74 1115.17,1337.21 1063.97,1320.96 1015.25,1301.26 966.53,1276.52 915.874,1244.36 865.217,1204.31 822.575,1163.34 \n",
       "  779.933,1114.63 727.871,1042.95 675.81,955.548 651.341,908.261 626.871,856.578 602.402,800.166 577.932,738.671 538.73,628.607 499.528,502.865 460.326,359.635 \n",
       "  421.124,196.94 415.091,170.039 409.058,142.619 403.025,114.671 396.992,86.1857 \n",
       "  \"/>\n",
       "<path clip-path=\"url(#clip820)\" d=\"\n",
       "M2009.6 196.789 L2285.66 196.789 L2285.66 93.1086 L2009.6 93.1086  Z\n",
       "  \" fill=\"#ffffff\" fill-rule=\"evenodd\" fill-opacity=\"1\"/>\n",
       "<polyline clip-path=\"url(#clip820)\" style=\"stroke:#000000; stroke-linecap:butt; stroke-linejoin:round; stroke-width:4; stroke-opacity:1; fill:none\" points=\"\n",
       "  2009.6,196.789 2285.66,196.789 2285.66,93.1086 2009.6,93.1086 2009.6,196.789 \n",
       "  \"/>\n",
       "<polyline clip-path=\"url(#clip820)\" style=\"stroke:#009af9; stroke-linecap:butt; stroke-linejoin:round; stroke-width:4; stroke-opacity:1; fill:none\" points=\"\n",
       "  2031.96,144.949 2166.14,144.949 \n",
       "  \"/>\n",
       "<path clip-path=\"url(#clip820)\" d=\"M2202.35 164.636 Q2200.54 169.266 2198.83 170.678 Q2197.12 172.09 2194.25 172.09 L2190.85 172.09 L2190.85 168.525 L2193.35 168.525 Q2195.1 168.525 2196.08 167.692 Q2197.05 166.858 2198.23 163.756 L2198.99 161.812 L2188.51 136.303 L2193.02 136.303 L2201.12 156.581 L2209.22 136.303 L2213.74 136.303 L2202.35 164.636 Z\" fill=\"#000000\" fill-rule=\"evenodd\" fill-opacity=\"1\" /><path clip-path=\"url(#clip820)\" d=\"M2221.03 158.293 L2228.67 158.293 L2228.67 131.928 L2220.36 133.595 L2220.36 129.335 L2228.62 127.669 L2233.3 127.669 L2233.3 158.293 L2240.94 158.293 L2240.94 162.229 L2221.03 162.229 L2221.03 158.293 Z\" fill=\"#000000\" fill-rule=\"evenodd\" fill-opacity=\"1\" /></svg>\n"
      ]
     },
     "metadata": {},
     "output_type": "display_data"
    }
   ],
   "source": [
    "function truncation_error(x)\n",
    "    #=\n",
    "    ------------------------------------------\n",
    "    Returns the truncarion error obtained when\n",
    "    comparing the 7th order accurate \n",
    "    approximation of the sin x function and \n",
    "    the numpy.sin() function \n",
    "    ------------------------------------------\n",
    "    Arguments:\n",
    "    x : point at which the truncation error is\n",
    "    calculated\n",
    "    ------------------------------------------\n",
    "    =#\n",
    "    mysin = x - x^3/6 + x^5/120\n",
    "    return abs(sin(x) - mysin)\n",
    "end\n",
    "    \n",
    "using MTH229\n",
    "using Plots\n",
    "\n",
    "p = plot(truncation_error,0,1,xflip=true,xlabel=\"x\",ylabel=\"Truncation error\")\n",
    "display(p)"
   ]
  },
  {
   "cell_type": "code",
   "execution_count": 11,
   "id": "grand-burner",
   "metadata": {},
   "outputs": [],
   "source": [
    "#using PyPlot #plots con pyplot\n",
    "#x= LinRange(0,10,100)\n",
    "#p=plot(x,truncation_error.(x))\n",
    "#display(p)"
   ]
  },
  {
   "cell_type": "markdown",
   "id": "statistical-douglas",
   "metadata": {},
   "source": [
    "#### Estimación de la precisión de una serie truncada\n",
    "\n",
    "Para estimar el orden de precisión de una aproximación truncada de una función, tomaremos un número en el rango $0<x<1$ y se calculará el error de truncamiento. Luego, se reducirá a la mitad el número elegido  y se calculará de nuevo el error de truncamiento. La razón entre los dos errores obtenidos da como resultado un factor de la forma $2^n$, donde $n$ es el orden de precisión de la aproximación."
   ]
  },
  {
   "cell_type": "code",
   "execution_count": 12,
   "id": "resistant-motor",
   "metadata": {},
   "outputs": [
    {
     "name": "stdout",
     "output_type": "stream",
     "text": [
      "Para x = 0.760 el valor del error de truncamiento es : 2.88793e-05 \n",
      "Para x = 0.760 el valor del error de truncamiento es : 2.88793e-05 \n",
      "\n",
      "La razón de estos valores es 127.233 \n",
      "Que es aproximadamente 7.0 \n"
     ]
    }
   ],
   "source": [
    "# Randomly choosing the number in the range 0<x<1\n",
    "x = rand()  \n",
    "# Calculate the truncation errors and their ratio\n",
    "te_x = truncation_error(x)\n",
    "te_x2 = truncation_error(x/2)\n",
    "ratio = te_x/te_x2 \n",
    "\n",
    "# Results.\n",
    "@printf(\"Para x = %.3f el valor del error de truncamiento es : %.g \\n\",x, te_x )\n",
    "@printf(\"Para x = %.3f el valor del error de truncamiento es : %.g \\n\",x , te_x)\n",
    "println(\"\")\n",
    "@printf(\"La razón de estos valores es %.3f \\n\", ratio)\n",
    "@printf(\"Que es aproximadamente %.1f \\n\", log2(ratio))"
   ]
  },
  {
   "cell_type": "markdown",
   "id": "excited-flesh",
   "metadata": {},
   "source": [
    "---\n",
    "### Estabilidad de un Algoritmo\n",
    "\n",
    "Un algoritmo, ecuación o problema se denomina **inestable** o **mal-condicionado** si pequeños cambios en los datos de entrada produce grandes cambios en los datos de salida. "
   ]
  },
  {
   "cell_type": "markdown",
   "id": "czech-punishment",
   "metadata": {},
   "source": [
    "Para ilustrar un algoritmo estable, considere la relación de recurrencia \n",
    "\n",
    "$x_0 = 1$\\\n",
    "$x_1 = \\frac{1}{3}$\\\n",
    "$x_{n+1} = \\frac{13}{3}x_n - \\frac{4}{3} x_{n-1} $\n",
    "\n",
    "que es equivalente a \n",
    "\n",
    "$x_n = \\left( \\frac{1}{3} \\right)^n$."
   ]
  },
  {
   "cell_type": "code",
   "execution_count": 13,
   "id": "mathematical-present",
   "metadata": {},
   "outputs": [
    {
     "data": {
      "image/svg+xml": [
       "<?xml version=\"1.0\" encoding=\"utf-8\"?>\n",
       "<svg xmlns=\"http://www.w3.org/2000/svg\" xmlns:xlink=\"http://www.w3.org/1999/xlink\" width=\"600\" height=\"400\" viewBox=\"0 0 2400 1600\">\n",
       "<defs>\n",
       "  <clipPath id=\"clip860\">\n",
       "    <rect x=\"0\" y=\"0\" width=\"2400\" height=\"1600\"/>\n",
       "  </clipPath>\n",
       "</defs>\n",
       "<path clip-path=\"url(#clip860)\" d=\"\n",
       "M0 1600 L2400 1600 L2400 0 L0 0  Z\n",
       "  \" fill=\"#ffffff\" fill-rule=\"evenodd\" fill-opacity=\"1\"/>\n",
       "<defs>\n",
       "  <clipPath id=\"clip861\">\n",
       "    <rect x=\"480\" y=\"0\" width=\"1681\" height=\"1600\"/>\n",
       "  </clipPath>\n",
       "</defs>\n",
       "<path clip-path=\"url(#clip860)\" d=\"\n",
       "M156.598 1423.18 L2352.76 1423.18 L2352.76 47.2441 L156.598 47.2441  Z\n",
       "  \" fill=\"#ffffff\" fill-rule=\"evenodd\" fill-opacity=\"1\"/>\n",
       "<defs>\n",
       "  <clipPath id=\"clip862\">\n",
       "    <rect x=\"156\" y=\"47\" width=\"2197\" height=\"1377\"/>\n",
       "  </clipPath>\n",
       "</defs>\n",
       "<polyline clip-path=\"url(#clip862)\" style=\"stroke:#000000; stroke-linecap:butt; stroke-linejoin:round; stroke-width:2; stroke-opacity:0.1; fill:none\" points=\"\n",
       "  218.754,1423.18 218.754,47.2441 \n",
       "  \"/>\n",
       "<polyline clip-path=\"url(#clip862)\" style=\"stroke:#000000; stroke-linecap:butt; stroke-linejoin:round; stroke-width:2; stroke-opacity:0.1; fill:none\" points=\"\n",
       "  828.12,1423.18 828.12,47.2441 \n",
       "  \"/>\n",
       "<polyline clip-path=\"url(#clip862)\" style=\"stroke:#000000; stroke-linecap:butt; stroke-linejoin:round; stroke-width:2; stroke-opacity:0.1; fill:none\" points=\"\n",
       "  1437.49,1423.18 1437.49,47.2441 \n",
       "  \"/>\n",
       "<polyline clip-path=\"url(#clip862)\" style=\"stroke:#000000; stroke-linecap:butt; stroke-linejoin:round; stroke-width:2; stroke-opacity:0.1; fill:none\" points=\"\n",
       "  2046.85,1423.18 2046.85,47.2441 \n",
       "  \"/>\n",
       "<polyline clip-path=\"url(#clip860)\" style=\"stroke:#000000; stroke-linecap:butt; stroke-linejoin:round; stroke-width:4; stroke-opacity:1; fill:none\" points=\"\n",
       "  156.598,1423.18 2352.76,1423.18 \n",
       "  \"/>\n",
       "<polyline clip-path=\"url(#clip860)\" style=\"stroke:#000000; stroke-linecap:butt; stroke-linejoin:round; stroke-width:4; stroke-opacity:1; fill:none\" points=\"\n",
       "  218.754,1423.18 218.754,1404.28 \n",
       "  \"/>\n",
       "<polyline clip-path=\"url(#clip860)\" style=\"stroke:#000000; stroke-linecap:butt; stroke-linejoin:round; stroke-width:4; stroke-opacity:1; fill:none\" points=\"\n",
       "  828.12,1423.18 828.12,1404.28 \n",
       "  \"/>\n",
       "<polyline clip-path=\"url(#clip860)\" style=\"stroke:#000000; stroke-linecap:butt; stroke-linejoin:round; stroke-width:4; stroke-opacity:1; fill:none\" points=\"\n",
       "  1437.49,1423.18 1437.49,1404.28 \n",
       "  \"/>\n",
       "<polyline clip-path=\"url(#clip860)\" style=\"stroke:#000000; stroke-linecap:butt; stroke-linejoin:round; stroke-width:4; stroke-opacity:1; fill:none\" points=\"\n",
       "  2046.85,1423.18 2046.85,1404.28 \n",
       "  \"/>\n",
       "<path clip-path=\"url(#clip860)\" d=\"M218.754 1454.1 Q215.143 1454.1 213.314 1457.66 Q211.508 1461.2 211.508 1468.33 Q211.508 1475.44 213.314 1479.01 Q215.143 1482.55 218.754 1482.55 Q222.388 1482.55 224.193 1479.01 Q226.022 1475.44 226.022 1468.33 Q226.022 1461.2 224.193 1457.66 Q222.388 1454.1 218.754 1454.1 M218.754 1450.39 Q224.564 1450.39 227.619 1455 Q230.698 1459.58 230.698 1468.33 Q230.698 1477.06 227.619 1481.67 Q224.564 1486.25 218.754 1486.25 Q212.943 1486.25 209.865 1481.67 Q206.809 1477.06 206.809 1468.33 Q206.809 1459.58 209.865 1455 Q212.943 1450.39 218.754 1450.39 Z\" fill=\"#000000\" fill-rule=\"evenodd\" fill-opacity=\"1\" /><path clip-path=\"url(#clip860)\" d=\"M818.398 1451.02 L836.755 1451.02 L836.755 1454.96 L822.681 1454.96 L822.681 1463.43 Q823.699 1463.08 824.718 1462.92 Q825.736 1462.73 826.755 1462.73 Q832.542 1462.73 835.921 1465.9 Q839.301 1469.08 839.301 1474.49 Q839.301 1480.07 835.829 1483.17 Q832.356 1486.25 826.037 1486.25 Q823.861 1486.25 821.593 1485.88 Q819.347 1485.51 816.94 1484.77 L816.94 1480.07 Q819.023 1481.2 821.245 1481.76 Q823.468 1482.32 825.944 1482.32 Q829.949 1482.32 832.287 1480.21 Q834.625 1478.1 834.625 1474.49 Q834.625 1470.88 832.287 1468.77 Q829.949 1466.67 825.944 1466.67 Q824.069 1466.67 822.194 1467.08 Q820.343 1467.5 818.398 1468.38 L818.398 1451.02 Z\" fill=\"#000000\" fill-rule=\"evenodd\" fill-opacity=\"1\" /><path clip-path=\"url(#clip860)\" d=\"M1412.17 1481.64 L1419.81 1481.64 L1419.81 1455.28 L1411.5 1456.95 L1411.5 1452.69 L1419.77 1451.02 L1424.44 1451.02 L1424.44 1481.64 L1432.08 1481.64 L1432.08 1485.58 L1412.17 1485.58 L1412.17 1481.64 Z\" fill=\"#000000\" fill-rule=\"evenodd\" fill-opacity=\"1\" /><path clip-path=\"url(#clip860)\" d=\"M1451.53 1454.1 Q1447.92 1454.1 1446.09 1457.66 Q1444.28 1461.2 1444.28 1468.33 Q1444.28 1475.44 1446.09 1479.01 Q1447.92 1482.55 1451.53 1482.55 Q1455.16 1482.55 1456.97 1479.01 Q1458.79 1475.44 1458.79 1468.33 Q1458.79 1461.2 1456.97 1457.66 Q1455.16 1454.1 1451.53 1454.1 M1451.53 1450.39 Q1457.34 1450.39 1460.39 1455 Q1463.47 1459.58 1463.47 1468.33 Q1463.47 1477.06 1460.39 1481.67 Q1457.34 1486.25 1451.53 1486.25 Q1445.72 1486.25 1442.64 1481.67 Q1439.58 1477.06 1439.58 1468.33 Q1439.58 1459.58 1442.64 1455 Q1445.72 1450.39 1451.53 1450.39 Z\" fill=\"#000000\" fill-rule=\"evenodd\" fill-opacity=\"1\" /><path clip-path=\"url(#clip860)\" d=\"M2022.04 1481.64 L2029.68 1481.64 L2029.68 1455.28 L2021.37 1456.95 L2021.37 1452.69 L2029.63 1451.02 L2034.31 1451.02 L2034.31 1481.64 L2041.95 1481.64 L2041.95 1485.58 L2022.04 1485.58 L2022.04 1481.64 Z\" fill=\"#000000\" fill-rule=\"evenodd\" fill-opacity=\"1\" /><path clip-path=\"url(#clip860)\" d=\"M2051.44 1451.02 L2069.79 1451.02 L2069.79 1454.96 L2055.72 1454.96 L2055.72 1463.43 Q2056.74 1463.08 2057.76 1462.92 Q2058.78 1462.73 2059.79 1462.73 Q2065.58 1462.73 2068.96 1465.9 Q2072.34 1469.08 2072.34 1474.49 Q2072.34 1480.07 2068.87 1483.17 Q2065.4 1486.25 2059.08 1486.25 Q2056.9 1486.25 2054.63 1485.88 Q2052.39 1485.51 2049.98 1484.77 L2049.98 1480.07 Q2052.06 1481.2 2054.28 1481.76 Q2056.51 1482.32 2058.98 1482.32 Q2062.99 1482.32 2065.33 1480.21 Q2067.66 1478.1 2067.66 1474.49 Q2067.66 1470.88 2065.33 1468.77 Q2062.99 1466.67 2058.98 1466.67 Q2057.11 1466.67 2055.23 1467.08 Q2053.38 1467.5 2051.44 1468.38 L2051.44 1451.02 Z\" fill=\"#000000\" fill-rule=\"evenodd\" fill-opacity=\"1\" /><path clip-path=\"url(#clip860)\" d=\"M1269.6 1546.53 L1269.6 1568.04 L1263.75 1568.04 L1263.75 1546.72 Q1263.75 1541.66 1261.77 1539.14 Q1259.8 1536.63 1255.85 1536.63 Q1251.11 1536.63 1248.38 1539.65 Q1245.64 1542.68 1245.64 1547.9 L1245.64 1568.04 L1239.75 1568.04 L1239.75 1532.4 L1245.64 1532.4 L1245.64 1537.93 Q1247.74 1534.72 1250.57 1533.13 Q1253.44 1531.54 1257.16 1531.54 Q1263.3 1531.54 1266.45 1535.36 Q1269.6 1539.14 1269.6 1546.53 Z\" fill=\"#000000\" fill-rule=\"evenodd\" fill-opacity=\"1\" /><polyline clip-path=\"url(#clip862)\" style=\"stroke:#000000; stroke-linecap:butt; stroke-linejoin:round; stroke-width:2; stroke-opacity:0.1; fill:none\" points=\"\n",
       "  156.598,1384.24 2352.76,1384.24 \n",
       "  \"/>\n",
       "<polyline clip-path=\"url(#clip862)\" style=\"stroke:#000000; stroke-linecap:butt; stroke-linejoin:round; stroke-width:2; stroke-opacity:0.1; fill:none\" points=\"\n",
       "  156.598,1090.85 2352.76,1090.85 \n",
       "  \"/>\n",
       "<polyline clip-path=\"url(#clip862)\" style=\"stroke:#000000; stroke-linecap:butt; stroke-linejoin:round; stroke-width:2; stroke-opacity:0.1; fill:none\" points=\"\n",
       "  156.598,797.456 2352.76,797.456 \n",
       "  \"/>\n",
       "<polyline clip-path=\"url(#clip862)\" style=\"stroke:#000000; stroke-linecap:butt; stroke-linejoin:round; stroke-width:2; stroke-opacity:0.1; fill:none\" points=\"\n",
       "  156.598,504.064 2352.76,504.064 \n",
       "  \"/>\n",
       "<polyline clip-path=\"url(#clip862)\" style=\"stroke:#000000; stroke-linecap:butt; stroke-linejoin:round; stroke-width:2; stroke-opacity:0.1; fill:none\" points=\"\n",
       "  156.598,210.673 2352.76,210.673 \n",
       "  \"/>\n",
       "<polyline clip-path=\"url(#clip860)\" style=\"stroke:#000000; stroke-linecap:butt; stroke-linejoin:round; stroke-width:4; stroke-opacity:1; fill:none\" points=\"\n",
       "  156.598,1423.18 156.598,47.2441 \n",
       "  \"/>\n",
       "<polyline clip-path=\"url(#clip860)\" style=\"stroke:#000000; stroke-linecap:butt; stroke-linejoin:round; stroke-width:4; stroke-opacity:1; fill:none\" points=\"\n",
       "  156.598,1384.24 175.496,1384.24 \n",
       "  \"/>\n",
       "<polyline clip-path=\"url(#clip860)\" style=\"stroke:#000000; stroke-linecap:butt; stroke-linejoin:round; stroke-width:4; stroke-opacity:1; fill:none\" points=\"\n",
       "  156.598,1090.85 175.496,1090.85 \n",
       "  \"/>\n",
       "<polyline clip-path=\"url(#clip860)\" style=\"stroke:#000000; stroke-linecap:butt; stroke-linejoin:round; stroke-width:4; stroke-opacity:1; fill:none\" points=\"\n",
       "  156.598,797.456 175.496,797.456 \n",
       "  \"/>\n",
       "<polyline clip-path=\"url(#clip860)\" style=\"stroke:#000000; stroke-linecap:butt; stroke-linejoin:round; stroke-width:4; stroke-opacity:1; fill:none\" points=\"\n",
       "  156.598,504.064 175.496,504.064 \n",
       "  \"/>\n",
       "<polyline clip-path=\"url(#clip860)\" style=\"stroke:#000000; stroke-linecap:butt; stroke-linejoin:round; stroke-width:4; stroke-opacity:1; fill:none\" points=\"\n",
       "  156.598,210.673 175.496,210.673 \n",
       "  \"/>\n",
       "<path clip-path=\"url(#clip860)\" d=\"M63.4226 1370.04 Q59.8115 1370.04 57.9828 1373.6 Q56.1773 1377.14 56.1773 1384.27 Q56.1773 1391.38 57.9828 1394.94 Q59.8115 1398.49 63.4226 1398.49 Q67.0569 1398.49 68.8624 1394.94 Q70.6911 1391.38 70.6911 1384.27 Q70.6911 1377.14 68.8624 1373.6 Q67.0569 1370.04 63.4226 1370.04 M63.4226 1366.33 Q69.2328 1366.33 72.2883 1370.94 Q75.367 1375.52 75.367 1384.27 Q75.367 1393 72.2883 1397.61 Q69.2328 1402.19 63.4226 1402.19 Q57.6125 1402.19 54.5338 1397.61 Q51.4782 1393 51.4782 1384.27 Q51.4782 1375.52 54.5338 1370.94 Q57.6125 1366.33 63.4226 1366.33 Z\" fill=\"#000000\" fill-rule=\"evenodd\" fill-opacity=\"1\" /><path clip-path=\"url(#clip860)\" d=\"M83.5845 1395.64 L88.4688 1395.64 L88.4688 1401.52 L83.5845 1401.52 L83.5845 1395.64 Z\" fill=\"#000000\" fill-rule=\"evenodd\" fill-opacity=\"1\" /><path clip-path=\"url(#clip860)\" d=\"M108.654 1370.04 Q105.043 1370.04 103.214 1373.6 Q101.409 1377.14 101.409 1384.27 Q101.409 1391.38 103.214 1394.94 Q105.043 1398.49 108.654 1398.49 Q112.288 1398.49 114.094 1394.94 Q115.922 1391.38 115.922 1384.27 Q115.922 1377.14 114.094 1373.6 Q112.288 1370.04 108.654 1370.04 M108.654 1366.33 Q114.464 1366.33 117.52 1370.94 Q120.598 1375.52 120.598 1384.27 Q120.598 1393 117.52 1397.61 Q114.464 1402.19 108.654 1402.19 Q102.844 1402.19 99.765 1397.61 Q96.7095 1393 96.7095 1384.27 Q96.7095 1375.52 99.765 1370.94 Q102.844 1366.33 108.654 1366.33 Z\" fill=\"#000000\" fill-rule=\"evenodd\" fill-opacity=\"1\" /><path clip-path=\"url(#clip860)\" d=\"M65.0198 1076.65 Q61.4087 1076.65 59.58 1080.21 Q57.7745 1083.75 57.7745 1090.88 Q57.7745 1097.99 59.58 1101.55 Q61.4087 1105.09 65.0198 1105.09 Q68.6541 1105.09 70.4596 1101.55 Q72.2883 1097.99 72.2883 1090.88 Q72.2883 1083.75 70.4596 1080.21 Q68.6541 1076.65 65.0198 1076.65 M65.0198 1072.94 Q70.83 1072.94 73.8855 1077.55 Q76.9642 1082.13 76.9642 1090.88 Q76.9642 1099.61 73.8855 1104.21 Q70.83 1108.8 65.0198 1108.8 Q59.2097 1108.8 56.131 1104.21 Q53.0754 1099.61 53.0754 1090.88 Q53.0754 1082.13 56.131 1077.55 Q59.2097 1072.94 65.0198 1072.94 Z\" fill=\"#000000\" fill-rule=\"evenodd\" fill-opacity=\"1\" /><path clip-path=\"url(#clip860)\" d=\"M85.1818 1102.25 L90.066 1102.25 L90.066 1108.13 L85.1818 1108.13 L85.1818 1102.25 Z\" fill=\"#000000\" fill-rule=\"evenodd\" fill-opacity=\"1\" /><path clip-path=\"url(#clip860)\" d=\"M104.279 1104.19 L120.598 1104.19 L120.598 1108.13 L98.6539 1108.13 L98.6539 1104.19 Q101.316 1101.44 105.899 1096.81 Q110.506 1092.15 111.686 1090.81 Q113.932 1088.29 114.811 1086.55 Q115.714 1084.79 115.714 1083.1 Q115.714 1080.35 113.77 1078.61 Q111.848 1076.88 108.746 1076.88 Q106.547 1076.88 104.094 1077.64 Q101.663 1078.4 98.8854 1079.96 L98.8854 1075.23 Q101.709 1074.1 104.163 1073.52 Q106.617 1072.94 108.654 1072.94 Q114.024 1072.94 117.219 1075.63 Q120.413 1078.31 120.413 1082.8 Q120.413 1084.93 119.603 1086.85 Q118.816 1088.75 116.709 1091.34 Q116.131 1092.02 113.029 1095.23 Q109.927 1098.43 104.279 1104.19 Z\" fill=\"#000000\" fill-rule=\"evenodd\" fill-opacity=\"1\" /><path clip-path=\"url(#clip860)\" d=\"M62.9365 783.254 Q59.3254 783.254 57.4967 786.819 Q55.6912 790.361 55.6912 797.49 Q55.6912 804.597 57.4967 808.162 Q59.3254 811.703 62.9365 811.703 Q66.5707 811.703 68.3763 808.162 Q70.205 804.597 70.205 797.49 Q70.205 790.361 68.3763 786.819 Q66.5707 783.254 62.9365 783.254 M62.9365 779.551 Q68.7467 779.551 71.8022 784.157 Q74.8809 788.74 74.8809 797.49 Q74.8809 806.217 71.8022 810.824 Q68.7467 815.407 62.9365 815.407 Q57.1264 815.407 54.0477 810.824 Q50.9921 806.217 50.9921 797.49 Q50.9921 788.74 54.0477 784.157 Q57.1264 779.551 62.9365 779.551 Z\" fill=\"#000000\" fill-rule=\"evenodd\" fill-opacity=\"1\" /><path clip-path=\"url(#clip860)\" d=\"M83.0984 808.856 L87.9827 808.856 L87.9827 814.736 L83.0984 814.736 L83.0984 808.856 Z\" fill=\"#000000\" fill-rule=\"evenodd\" fill-opacity=\"1\" /><path clip-path=\"url(#clip860)\" d=\"M111.015 784.25 L99.2095 802.699 L111.015 802.699 L111.015 784.25 M109.788 780.176 L115.668 780.176 L115.668 802.699 L120.598 802.699 L120.598 806.587 L115.668 806.587 L115.668 814.736 L111.015 814.736 L111.015 806.587 L95.4132 806.587 L95.4132 802.074 L109.788 780.176 Z\" fill=\"#000000\" fill-rule=\"evenodd\" fill-opacity=\"1\" /><path clip-path=\"url(#clip860)\" d=\"M63.2606 489.863 Q59.6495 489.863 57.8208 493.428 Q56.0152 496.969 56.0152 504.099 Q56.0152 511.205 57.8208 514.77 Q59.6495 518.312 63.2606 518.312 Q66.8948 518.312 68.7004 514.77 Q70.5291 511.205 70.5291 504.099 Q70.5291 496.969 68.7004 493.428 Q66.8948 489.863 63.2606 489.863 M63.2606 486.159 Q69.0707 486.159 72.1263 490.766 Q75.205 495.349 75.205 504.099 Q75.205 512.826 72.1263 517.432 Q69.0707 522.015 63.2606 522.015 Q57.4504 522.015 54.3717 517.432 Q51.3162 512.826 51.3162 504.099 Q51.3162 495.349 54.3717 490.766 Q57.4504 486.159 63.2606 486.159 Z\" fill=\"#000000\" fill-rule=\"evenodd\" fill-opacity=\"1\" /><path clip-path=\"url(#clip860)\" d=\"M83.4225 515.465 L88.3067 515.465 L88.3067 521.344 L83.4225 521.344 L83.4225 515.465 Z\" fill=\"#000000\" fill-rule=\"evenodd\" fill-opacity=\"1\" /><path clip-path=\"url(#clip860)\" d=\"M109.071 502.201 Q105.922 502.201 104.071 504.354 Q102.242 506.506 102.242 510.256 Q102.242 513.983 104.071 516.159 Q105.922 518.312 109.071 518.312 Q112.219 518.312 114.047 516.159 Q115.899 513.983 115.899 510.256 Q115.899 506.506 114.047 504.354 Q112.219 502.201 109.071 502.201 M118.353 487.548 L118.353 491.807 Q116.594 490.974 114.788 490.534 Q113.006 490.094 111.246 490.094 Q106.617 490.094 104.163 493.219 Q101.733 496.344 101.385 502.664 Q102.751 500.65 104.811 499.585 Q106.871 498.497 109.348 498.497 Q114.557 498.497 117.566 501.668 Q120.598 504.817 120.598 510.256 Q120.598 515.58 117.45 518.798 Q114.302 522.015 109.071 522.015 Q103.075 522.015 99.9039 517.432 Q96.7326 512.826 96.7326 504.099 Q96.7326 495.905 100.621 491.043 Q104.51 486.159 111.061 486.159 Q112.82 486.159 114.603 486.506 Q116.408 486.854 118.353 487.548 Z\" fill=\"#000000\" fill-rule=\"evenodd\" fill-opacity=\"1\" /><path clip-path=\"url(#clip860)\" d=\"M63.5152 196.472 Q59.9041 196.472 58.0754 200.036 Q56.2699 203.578 56.2699 210.708 Q56.2699 217.814 58.0754 221.379 Q59.9041 224.92 63.5152 224.92 Q67.1494 224.92 68.955 221.379 Q70.7837 217.814 70.7837 210.708 Q70.7837 203.578 68.955 200.036 Q67.1494 196.472 63.5152 196.472 M63.5152 192.768 Q69.3254 192.768 72.3809 197.374 Q75.4596 201.958 75.4596 210.708 Q75.4596 219.434 72.3809 224.041 Q69.3254 228.624 63.5152 228.624 Q57.7051 228.624 54.6264 224.041 Q51.5708 219.434 51.5708 210.708 Q51.5708 201.958 54.6264 197.374 Q57.7051 192.768 63.5152 192.768 Z\" fill=\"#000000\" fill-rule=\"evenodd\" fill-opacity=\"1\" /><path clip-path=\"url(#clip860)\" d=\"M83.6771 222.073 L88.5614 222.073 L88.5614 227.953 L83.6771 227.953 L83.6771 222.073 Z\" fill=\"#000000\" fill-rule=\"evenodd\" fill-opacity=\"1\" /><path clip-path=\"url(#clip860)\" d=\"M108.746 211.541 Q105.413 211.541 103.492 213.323 Q101.594 215.106 101.594 218.231 Q101.594 221.356 103.492 223.138 Q105.413 224.92 108.746 224.92 Q112.08 224.92 114.001 223.138 Q115.922 221.333 115.922 218.231 Q115.922 215.106 114.001 213.323 Q112.103 211.541 108.746 211.541 M104.071 209.55 Q101.061 208.809 99.3715 206.749 Q97.7048 204.689 97.7048 201.726 Q97.7048 197.583 100.645 195.175 Q103.608 192.768 108.746 192.768 Q113.908 192.768 116.848 195.175 Q119.788 197.583 119.788 201.726 Q119.788 204.689 118.098 206.749 Q116.432 208.809 113.445 209.55 Q116.825 210.337 118.7 212.629 Q120.598 214.921 120.598 218.231 Q120.598 223.254 117.52 225.939 Q114.464 228.624 108.746 228.624 Q103.029 228.624 99.9502 225.939 Q96.8947 223.254 96.8947 218.231 Q96.8947 214.921 98.7928 212.629 Q100.691 210.337 104.071 209.55 M102.358 202.166 Q102.358 204.851 104.024 206.356 Q105.714 207.86 108.746 207.86 Q111.756 207.86 113.445 206.356 Q115.158 204.851 115.158 202.166 Q115.158 199.481 113.445 197.976 Q111.756 196.472 108.746 196.472 Q105.714 196.472 104.024 197.976 Q102.358 199.481 102.358 202.166 Z\" fill=\"#000000\" fill-rule=\"evenodd\" fill-opacity=\"1\" /><polyline clip-path=\"url(#clip862)\" style=\"stroke:#009af9; stroke-linecap:butt; stroke-linejoin:round; stroke-width:4; stroke-opacity:1; fill:none\" points=\"\n",
       "  218.754,1384.24 340.627,1384.24 462.5,1384.24 584.374,1384.24 706.247,1384.24 828.12,1384.24 949.994,1384.24 1071.87,1384.24 1193.74,1384.24 1315.61,1384.24 \n",
       "  1437.49,1384.24 1559.36,1384.24 1681.23,1384.24 1803.11,1384.24 1924.98,1384.24 2046.85,1384.24 2168.73,1384.24 2290.6,1384.24 \n",
       "  \"/>\n",
       "<polyline clip-path=\"url(#clip862)\" style=\"stroke:#e26f46; stroke-linecap:butt; stroke-linejoin:round; stroke-width:4; stroke-opacity:1; fill:none\" points=\"\n",
       "  218.754,1384.24 340.627,1384.24 462.5,1384.24 584.374,1384.24 706.247,1384.24 828.12,1384.24 949.994,1384.24 1071.87,1384.24 1193.74,1384.24 1315.61,1384.24 \n",
       "  1437.49,1384.24 1559.36,1384.23 1681.23,1384.19 1803.11,1383.69 1924.98,1377.74 2046.85,1309.91 2168.73,811.534 2290.6,86.1857 \n",
       "  \"/>\n",
       "<path clip-path=\"url(#clip860)\" d=\"\n",
       "M1696.09 248.629 L2279.55 248.629 L2279.55 93.1086 L1696.09 93.1086  Z\n",
       "  \" fill=\"#ffffff\" fill-rule=\"evenodd\" fill-opacity=\"1\"/>\n",
       "<polyline clip-path=\"url(#clip860)\" style=\"stroke:#000000; stroke-linecap:butt; stroke-linejoin:round; stroke-width:4; stroke-opacity:1; fill:none\" points=\"\n",
       "  1696.09,248.629 2279.55,248.629 2279.55,93.1086 1696.09,93.1086 1696.09,248.629 \n",
       "  \"/>\n",
       "<polyline clip-path=\"url(#clip860)\" style=\"stroke:#009af9; stroke-linecap:butt; stroke-linejoin:round; stroke-width:4; stroke-opacity:1; fill:none\" points=\"\n",
       "  1720.49,144.949 1866.9,144.949 \n",
       "  \"/>\n",
       "<path clip-path=\"url(#clip860)\" d=\"M1904.71 149.196 Q1899.55 149.196 1897.55 150.377 Q1895.56 151.557 1895.56 154.405 Q1895.56 156.673 1897.05 158.016 Q1898.55 159.335 1901.12 159.335 Q1904.66 159.335 1906.79 156.835 Q1908.94 154.312 1908.94 150.145 L1908.94 149.196 L1904.71 149.196 M1913.2 147.437 L1913.2 162.229 L1908.94 162.229 L1908.94 158.293 Q1907.48 160.655 1905.31 161.789 Q1903.13 162.9 1899.99 162.9 Q1896 162.9 1893.64 160.678 Q1891.3 158.432 1891.3 154.682 Q1891.3 150.307 1894.22 148.085 Q1897.16 145.863 1902.97 145.863 L1908.94 145.863 L1908.94 145.446 Q1908.94 142.507 1907 140.909 Q1905.08 139.289 1901.58 139.289 Q1899.36 139.289 1897.25 139.821 Q1895.15 140.354 1893.2 141.419 L1893.2 137.483 Q1895.54 136.581 1897.74 136.141 Q1899.94 135.678 1902.02 135.678 Q1907.65 135.678 1910.42 138.594 Q1913.2 141.511 1913.2 147.437 Z\" fill=\"#000000\" fill-rule=\"evenodd\" fill-opacity=\"1\" /><path clip-path=\"url(#clip860)\" d=\"M1940.59 149.289 Q1940.59 144.59 1938.64 141.928 Q1936.72 139.243 1933.34 139.243 Q1929.96 139.243 1928.02 141.928 Q1926.1 144.59 1926.1 149.289 Q1926.1 153.988 1928.02 156.673 Q1929.96 159.335 1933.34 159.335 Q1936.72 159.335 1938.64 156.673 Q1940.59 153.988 1940.59 149.289 M1926.1 140.238 Q1927.44 137.923 1929.48 136.812 Q1931.54 135.678 1934.38 135.678 Q1939.11 135.678 1942.04 139.428 Q1945.01 143.178 1945.01 149.289 Q1945.01 155.4 1942.04 159.15 Q1939.11 162.9 1934.38 162.9 Q1931.54 162.9 1929.48 161.789 Q1927.44 160.655 1926.1 158.34 L1926.1 162.229 L1921.81 162.229 L1921.81 126.21 L1926.1 126.21 L1926.1 140.238 Z\" fill=\"#000000\" fill-rule=\"evenodd\" fill-opacity=\"1\" /><path clip-path=\"url(#clip860)\" d=\"M1968.6 137.067 L1968.6 141.094 Q1966.79 140.169 1964.85 139.706 Q1962.9 139.243 1960.82 139.243 Q1957.65 139.243 1956.05 140.215 Q1954.48 141.187 1954.48 143.131 Q1954.48 144.613 1955.61 145.469 Q1956.74 146.303 1960.17 147.067 L1961.63 147.391 Q1966.17 148.363 1968.06 150.145 Q1969.98 151.905 1969.98 155.076 Q1969.98 158.687 1967.11 160.793 Q1964.27 162.9 1959.27 162.9 Q1957.18 162.9 1954.92 162.483 Q1952.67 162.09 1950.17 161.28 L1950.17 156.881 Q1952.53 158.108 1954.82 158.733 Q1957.11 159.335 1959.36 159.335 Q1962.37 159.335 1963.99 158.317 Q1965.61 157.275 1965.61 155.4 Q1965.61 153.664 1964.43 152.738 Q1963.27 151.812 1959.31 150.956 L1957.83 150.608 Q1953.87 149.775 1952.11 148.062 Q1950.36 146.326 1950.36 143.317 Q1950.36 139.659 1952.95 137.669 Q1955.54 135.678 1960.31 135.678 Q1962.67 135.678 1964.75 136.025 Q1966.84 136.372 1968.6 137.067 Z\" fill=\"#000000\" fill-rule=\"evenodd\" fill-opacity=\"1\" /><path clip-path=\"url(#clip860)\" d=\"M1986.81 139.289 Q1983.39 139.289 1981.4 141.974 Q1979.41 144.636 1979.41 149.289 Q1979.41 153.942 1981.37 156.627 Q1983.36 159.289 1986.81 159.289 Q1990.22 159.289 1992.21 156.604 Q1994.2 153.918 1994.2 149.289 Q1994.2 144.682 1992.21 141.997 Q1990.22 139.289 1986.81 139.289 M1986.81 135.678 Q1992.37 135.678 1995.54 139.289 Q1998.71 142.9 1998.71 149.289 Q1998.71 155.655 1995.54 159.289 Q1992.37 162.9 1986.81 162.9 Q1981.23 162.9 1978.06 159.289 Q1974.92 155.655 1974.92 149.289 Q1974.92 142.9 1978.06 139.289 Q1981.23 135.678 1986.81 135.678 Z\" fill=\"#000000\" fill-rule=\"evenodd\" fill-opacity=\"1\" /><path clip-path=\"url(#clip860)\" d=\"M2005.77 126.21 L2010.03 126.21 L2010.03 162.229 L2005.77 162.229 L2005.77 126.21 Z\" fill=\"#000000\" fill-rule=\"evenodd\" fill-opacity=\"1\" /><path clip-path=\"url(#clip860)\" d=\"M2018.5 151.997 L2018.5 136.303 L2022.76 136.303 L2022.76 151.835 Q2022.76 155.516 2024.2 157.368 Q2025.63 159.196 2028.5 159.196 Q2031.95 159.196 2033.94 156.997 Q2035.96 154.798 2035.96 151.002 L2035.96 136.303 L2040.22 136.303 L2040.22 162.229 L2035.96 162.229 L2035.96 158.247 Q2034.41 160.608 2032.35 161.766 Q2030.31 162.9 2027.6 162.9 Q2023.13 162.9 2020.82 160.122 Q2018.5 157.344 2018.5 151.997 M2029.22 135.678 L2029.22 135.678 Z\" fill=\"#000000\" fill-rule=\"evenodd\" fill-opacity=\"1\" /><path clip-path=\"url(#clip860)\" d=\"M2053.2 128.942 L2053.2 136.303 L2061.97 136.303 L2061.97 139.613 L2053.2 139.613 L2053.2 153.687 Q2053.2 156.858 2054.06 157.761 Q2054.94 158.664 2057.6 158.664 L2061.97 158.664 L2061.97 162.229 L2057.6 162.229 Q2052.67 162.229 2050.79 160.4 Q2048.92 158.548 2048.92 153.687 L2048.92 139.613 L2045.79 139.613 L2045.79 136.303 L2048.92 136.303 L2048.92 128.942 L2053.2 128.942 Z\" fill=\"#000000\" fill-rule=\"evenodd\" fill-opacity=\"1\" /><path clip-path=\"url(#clip860)\" d=\"M2089.75 148.201 L2089.75 150.284 L2070.17 150.284 Q2070.45 154.682 2072.81 156.997 Q2075.19 159.289 2079.43 159.289 Q2081.88 159.289 2084.17 158.687 Q2086.49 158.085 2088.76 156.881 L2088.76 160.909 Q2086.47 161.881 2084.06 162.391 Q2081.65 162.9 2079.17 162.9 Q2072.97 162.9 2069.34 159.289 Q2065.72 155.678 2065.72 149.52 Q2065.72 143.155 2069.15 139.428 Q2072.6 135.678 2078.43 135.678 Q2083.66 135.678 2086.7 139.057 Q2089.75 142.414 2089.75 148.201 M2085.49 146.951 Q2085.45 143.456 2083.53 141.372 Q2081.63 139.289 2078.48 139.289 Q2074.91 139.289 2072.76 141.303 Q2070.63 143.317 2070.31 146.974 L2085.49 146.951 Z\" fill=\"#000000\" fill-rule=\"evenodd\" fill-opacity=\"1\" /><path clip-path=\"url(#clip860)\" d=\"M2116.44 170.099 L2116.44 173.409 L2091.81 173.409 L2091.81 170.099 L2116.44 170.099 Z\" fill=\"#000000\" fill-rule=\"evenodd\" fill-opacity=\"1\" /><path clip-path=\"url(#clip860)\" d=\"M2142.62 148.201 L2142.62 150.284 L2123.04 150.284 Q2123.32 154.682 2125.68 156.997 Q2128.06 159.289 2132.3 159.289 Q2134.75 159.289 2137.04 158.687 Q2139.36 158.085 2141.63 156.881 L2141.63 160.909 Q2139.34 161.881 2136.93 162.391 Q2134.52 162.9 2132.04 162.9 Q2125.84 162.9 2122.21 159.289 Q2118.59 155.678 2118.59 149.52 Q2118.59 143.155 2122.02 139.428 Q2125.47 135.678 2131.3 135.678 Q2136.53 135.678 2139.57 139.057 Q2142.62 142.414 2142.62 148.201 M2138.36 146.951 Q2138.32 143.456 2136.4 141.372 Q2134.5 139.289 2131.35 139.289 Q2127.78 139.289 2125.63 141.303 Q2123.5 143.317 2123.18 146.974 L2138.36 146.951 Z\" fill=\"#000000\" fill-rule=\"evenodd\" fill-opacity=\"1\" /><path clip-path=\"url(#clip860)\" d=\"M2164.64 140.284 Q2163.92 139.868 2163.06 139.682 Q2162.23 139.474 2161.21 139.474 Q2157.6 139.474 2155.65 141.835 Q2153.73 144.173 2153.73 148.571 L2153.73 162.229 L2149.45 162.229 L2149.45 136.303 L2153.73 136.303 L2153.73 140.331 Q2155.08 137.969 2157.23 136.835 Q2159.38 135.678 2162.46 135.678 Q2162.9 135.678 2163.43 135.747 Q2163.97 135.794 2164.61 135.909 L2164.64 140.284 Z\" fill=\"#000000\" fill-rule=\"evenodd\" fill-opacity=\"1\" /><path clip-path=\"url(#clip860)\" d=\"M2183.29 140.284 Q2182.58 139.868 2181.72 139.682 Q2180.89 139.474 2179.87 139.474 Q2176.26 139.474 2174.31 141.835 Q2172.39 144.173 2172.39 148.571 L2172.39 162.229 L2168.11 162.229 L2168.11 136.303 L2172.39 136.303 L2172.39 140.331 Q2173.73 137.969 2175.89 136.835 Q2178.04 135.678 2181.12 135.678 Q2181.56 135.678 2182.09 135.747 Q2182.62 135.794 2183.27 135.909 L2183.29 140.284 Z\" fill=\"#000000\" fill-rule=\"evenodd\" fill-opacity=\"1\" /><path clip-path=\"url(#clip860)\" d=\"M2196.77 139.289 Q2193.34 139.289 2191.35 141.974 Q2189.36 144.636 2189.36 149.289 Q2189.36 153.942 2191.33 156.627 Q2193.32 159.289 2196.77 159.289 Q2200.17 159.289 2202.16 156.604 Q2204.15 153.918 2204.15 149.289 Q2204.15 144.682 2202.16 141.997 Q2200.17 139.289 2196.77 139.289 M2196.77 135.678 Q2202.32 135.678 2205.49 139.289 Q2208.66 142.9 2208.66 149.289 Q2208.66 155.655 2205.49 159.289 Q2202.32 162.9 2196.77 162.9 Q2191.19 162.9 2188.02 159.289 Q2184.87 155.655 2184.87 149.289 Q2184.87 142.9 2188.02 139.289 Q2191.19 135.678 2196.77 135.678 Z\" fill=\"#000000\" fill-rule=\"evenodd\" fill-opacity=\"1\" /><path clip-path=\"url(#clip860)\" d=\"M2230.75 140.284 Q2230.03 139.868 2229.17 139.682 Q2228.34 139.474 2227.32 139.474 Q2223.71 139.474 2221.77 141.835 Q2219.84 144.173 2219.84 148.571 L2219.84 162.229 L2215.56 162.229 L2215.56 136.303 L2219.84 136.303 L2219.84 140.331 Q2221.19 137.969 2223.34 136.835 Q2225.49 135.678 2228.57 135.678 Q2229.01 135.678 2229.54 135.747 Q2230.08 135.794 2230.72 135.909 L2230.75 140.284 Z\" fill=\"#000000\" fill-rule=\"evenodd\" fill-opacity=\"1\" /><polyline clip-path=\"url(#clip860)\" style=\"stroke:#e26f46; stroke-linecap:butt; stroke-linejoin:round; stroke-width:4; stroke-opacity:1; fill:none\" points=\"\n",
       "  1720.49,196.789 1866.9,196.789 \n",
       "  \"/>\n",
       "<path clip-path=\"url(#clip860)\" d=\"M1906.49 192.124 Q1905.77 191.708 1904.92 191.522 Q1904.08 191.314 1903.06 191.314 Q1899.45 191.314 1897.51 193.675 Q1895.59 196.013 1895.59 200.411 L1895.59 214.069 L1891.3 214.069 L1891.3 188.143 L1895.59 188.143 L1895.59 192.171 Q1896.93 189.809 1899.08 188.675 Q1901.24 187.518 1904.31 187.518 Q1904.75 187.518 1905.29 187.587 Q1905.82 187.634 1906.47 187.749 L1906.49 192.124 Z\" fill=\"#000000\" fill-rule=\"evenodd\" fill-opacity=\"1\" /><path clip-path=\"url(#clip860)\" d=\"M1932.09 200.041 L1932.09 202.124 L1912.51 202.124 Q1912.79 206.522 1915.15 208.837 Q1917.53 211.129 1921.77 211.129 Q1924.22 211.129 1926.51 210.527 Q1928.83 209.925 1931.1 208.721 L1931.1 212.749 Q1928.8 213.721 1926.4 214.231 Q1923.99 214.74 1921.51 214.74 Q1915.31 214.74 1911.67 211.129 Q1908.06 207.518 1908.06 201.36 Q1908.06 194.995 1911.49 191.268 Q1914.94 187.518 1920.77 187.518 Q1926 187.518 1929.04 190.897 Q1932.09 194.254 1932.09 200.041 M1927.83 198.791 Q1927.79 195.296 1925.86 193.212 Q1923.97 191.129 1920.82 191.129 Q1917.25 191.129 1915.1 193.143 Q1912.97 195.157 1912.65 198.814 L1927.83 198.791 Z\" fill=\"#000000\" fill-rule=\"evenodd\" fill-opacity=\"1\" /><path clip-path=\"url(#clip860)\" d=\"M1939.08 178.05 L1943.34 178.05 L1943.34 214.069 L1939.08 214.069 L1939.08 178.05 Z\" fill=\"#000000\" fill-rule=\"evenodd\" fill-opacity=\"1\" /><path clip-path=\"url(#clip860)\" d=\"M1964.04 201.036 Q1958.87 201.036 1956.88 202.217 Q1954.89 203.397 1954.89 206.245 Q1954.89 208.513 1956.37 209.856 Q1957.88 211.175 1960.45 211.175 Q1963.99 211.175 1966.12 208.675 Q1968.27 206.152 1968.27 201.985 L1968.27 201.036 L1964.04 201.036 M1972.53 199.277 L1972.53 214.069 L1968.27 214.069 L1968.27 210.133 Q1966.81 212.495 1964.64 213.629 Q1962.46 214.74 1959.31 214.74 Q1955.33 214.74 1952.97 212.518 Q1950.63 210.272 1950.63 206.522 Q1950.63 202.147 1953.55 199.925 Q1956.49 197.703 1962.3 197.703 L1968.27 197.703 L1968.27 197.286 Q1968.27 194.347 1966.33 192.749 Q1964.41 191.129 1960.91 191.129 Q1958.69 191.129 1956.58 191.661 Q1954.48 192.194 1952.53 193.259 L1952.53 189.323 Q1954.87 188.421 1957.07 187.981 Q1959.27 187.518 1961.35 187.518 Q1966.98 187.518 1969.75 190.434 Q1972.53 193.351 1972.53 199.277 Z\" fill=\"#000000\" fill-rule=\"evenodd\" fill-opacity=\"1\" /><path clip-path=\"url(#clip860)\" d=\"M1985.52 180.782 L1985.52 188.143 L1994.29 188.143 L1994.29 191.453 L1985.52 191.453 L1985.52 205.527 Q1985.52 208.698 1986.37 209.601 Q1987.25 210.504 1989.92 210.504 L1994.29 210.504 L1994.29 214.069 L1989.92 214.069 Q1984.98 214.069 1983.11 212.24 Q1981.23 210.388 1981.23 205.527 L1981.23 191.453 L1978.11 191.453 L1978.11 188.143 L1981.23 188.143 L1981.23 180.782 L1985.52 180.782 Z\" fill=\"#000000\" fill-rule=\"evenodd\" fill-opacity=\"1\" /><path clip-path=\"url(#clip860)\" d=\"M1999.89 188.143 L2004.15 188.143 L2004.15 214.069 L1999.89 214.069 L1999.89 188.143 M1999.89 178.05 L2004.15 178.05 L2004.15 183.444 L1999.89 183.444 L1999.89 178.05 Z\" fill=\"#000000\" fill-rule=\"evenodd\" fill-opacity=\"1\" /><path clip-path=\"url(#clip860)\" d=\"M2010.01 188.143 L2014.52 188.143 L2022.62 209.902 L2030.73 188.143 L2035.24 188.143 L2025.52 214.069 L2019.73 214.069 L2010.01 188.143 Z\" fill=\"#000000\" fill-rule=\"evenodd\" fill-opacity=\"1\" /><path clip-path=\"url(#clip860)\" d=\"M2063.29 200.041 L2063.29 202.124 L2043.71 202.124 Q2043.99 206.522 2046.35 208.837 Q2048.73 211.129 2052.97 211.129 Q2055.42 211.129 2057.72 210.527 Q2060.03 209.925 2062.3 208.721 L2062.3 212.749 Q2060.01 213.721 2057.6 214.231 Q2055.19 214.74 2052.72 214.74 Q2046.51 214.74 2042.88 211.129 Q2039.27 207.518 2039.27 201.36 Q2039.27 194.995 2042.69 191.268 Q2046.14 187.518 2051.97 187.518 Q2057.21 187.518 2060.24 190.897 Q2063.29 194.254 2063.29 200.041 M2059.04 198.791 Q2058.99 195.296 2057.07 193.212 Q2055.17 191.129 2052.02 191.129 Q2048.46 191.129 2046.3 193.143 Q2044.17 195.157 2043.85 198.814 L2059.04 198.791 Z\" fill=\"#000000\" fill-rule=\"evenodd\" fill-opacity=\"1\" /><path clip-path=\"url(#clip860)\" d=\"M2089.98 221.939 L2089.98 225.249 L2065.35 225.249 L2065.35 221.939 L2089.98 221.939 Z\" fill=\"#000000\" fill-rule=\"evenodd\" fill-opacity=\"1\" /><path clip-path=\"url(#clip860)\" d=\"M2116.16 200.041 L2116.16 202.124 L2096.58 202.124 Q2096.86 206.522 2099.22 208.837 Q2101.6 211.129 2105.84 211.129 Q2108.29 211.129 2110.59 210.527 Q2112.9 209.925 2115.17 208.721 L2115.17 212.749 Q2112.88 213.721 2110.47 214.231 Q2108.06 214.74 2105.59 214.74 Q2099.38 214.74 2095.75 211.129 Q2092.14 207.518 2092.14 201.36 Q2092.14 194.995 2095.56 191.268 Q2099.01 187.518 2104.85 187.518 Q2110.08 187.518 2113.11 190.897 Q2116.16 194.254 2116.16 200.041 M2111.91 198.791 Q2111.86 195.296 2109.94 193.212 Q2108.04 191.129 2104.89 191.129 Q2101.33 191.129 2099.17 193.143 Q2097.04 195.157 2096.72 198.814 L2111.91 198.791 Z\" fill=\"#000000\" fill-rule=\"evenodd\" fill-opacity=\"1\" /><path clip-path=\"url(#clip860)\" d=\"M2138.18 192.124 Q2137.46 191.708 2136.6 191.522 Q2135.77 191.314 2134.75 191.314 Q2131.14 191.314 2129.2 193.675 Q2127.28 196.013 2127.28 200.411 L2127.28 214.069 L2122.99 214.069 L2122.99 188.143 L2127.28 188.143 L2127.28 192.171 Q2128.62 189.809 2130.77 188.675 Q2132.92 187.518 2136 187.518 Q2136.44 187.518 2136.97 187.587 Q2137.51 187.634 2138.16 187.749 L2138.18 192.124 Z\" fill=\"#000000\" fill-rule=\"evenodd\" fill-opacity=\"1\" /><path clip-path=\"url(#clip860)\" d=\"M2156.84 192.124 Q2156.12 191.708 2155.26 191.522 Q2154.43 191.314 2153.41 191.314 Q2149.8 191.314 2147.85 193.675 Q2145.93 196.013 2145.93 200.411 L2145.93 214.069 L2141.65 214.069 L2141.65 188.143 L2145.93 188.143 L2145.93 192.171 Q2147.28 189.809 2149.43 188.675 Q2151.58 187.518 2154.66 187.518 Q2155.1 187.518 2155.63 187.587 Q2156.16 187.634 2156.81 187.749 L2156.84 192.124 Z\" fill=\"#000000\" fill-rule=\"evenodd\" fill-opacity=\"1\" /><path clip-path=\"url(#clip860)\" d=\"M2170.31 191.129 Q2166.88 191.129 2164.89 193.814 Q2162.9 196.476 2162.9 201.129 Q2162.9 205.782 2164.87 208.467 Q2166.86 211.129 2170.31 211.129 Q2173.71 211.129 2175.7 208.444 Q2177.69 205.758 2177.69 201.129 Q2177.69 196.522 2175.7 193.837 Q2173.71 191.129 2170.31 191.129 M2170.31 187.518 Q2175.86 187.518 2179.03 191.129 Q2182.21 194.74 2182.21 201.129 Q2182.21 207.495 2179.03 211.129 Q2175.86 214.74 2170.31 214.74 Q2164.73 214.74 2161.56 211.129 Q2158.41 207.495 2158.41 201.129 Q2158.41 194.74 2161.56 191.129 Q2164.73 187.518 2170.31 187.518 Z\" fill=\"#000000\" fill-rule=\"evenodd\" fill-opacity=\"1\" /><path clip-path=\"url(#clip860)\" d=\"M2204.29 192.124 Q2203.57 191.708 2202.71 191.522 Q2201.88 191.314 2200.86 191.314 Q2197.25 191.314 2195.31 193.675 Q2193.39 196.013 2193.39 200.411 L2193.39 214.069 L2189.1 214.069 L2189.1 188.143 L2193.39 188.143 L2193.39 192.171 Q2194.73 189.809 2196.88 188.675 Q2199.03 187.518 2202.11 187.518 Q2202.55 187.518 2203.09 187.587 Q2203.62 187.634 2204.27 187.749 L2204.29 192.124 Z\" fill=\"#000000\" fill-rule=\"evenodd\" fill-opacity=\"1\" /></svg>\n"
      ]
     },
     "execution_count": 13,
     "metadata": {},
     "output_type": "execute_result"
    }
   ],
   "source": [
    "n = 18\n",
    "X = zeros(n)\n",
    "x = zeros(n)\n",
    "\n",
    "X[1] = 1\n",
    "X[2] = 1/3\n",
    "\n",
    "x[1] = 1\n",
    "x[2] = 1/3\n",
    "\n",
    "\n",
    "for i in 3:n\n",
    "    X[i] = 13*X[i-1]/3 - 4*X[i-2]/3\n",
    "    x[i] = (1/3)^(i-1)\n",
    "end\n",
    "\n",
    "abs_error = abs.(X - x)\n",
    "rel_error = abs.((X - x) ./X)\n",
    "X = 0:n-1\n",
    "\n",
    "plot(X, abs_error, label = \"absolute_error\",xlabel=\"n\")\n",
    "plot!(X, rel_error, label = \"relative_error\",xlabel=\"n\")"
   ]
  },
  {
   "cell_type": "markdown",
   "id": "compatible-contrary",
   "metadata": {},
   "source": [
    "Hasta el paso $n=15$ en la relación de recurrencia, el error absoluto es prácticamente cero, mientras que el error relativo crece a tan solo $0.05 = 5\\%$. Esto muestra que el algoritmo es **estable**.\n",
    "\n",
    "---\n",
    "Por otra parte, la relación de recurrencia\n",
    "\n",
    "$x_0 = 1$\\\n",
    "$x_1 = 4$\\\n",
    "$x_{n+1} = \\frac{13}{3}x_n - \\frac{4}{3} x_{n-1} $\n",
    "\n",
    "comparada con  \n",
    "\n",
    "$x_n = 4^n$,\n",
    "\n",
    "muestra un comportamiento completamente diferente,"
   ]
  },
  {
   "cell_type": "code",
   "execution_count": 14,
   "id": "durable-canada",
   "metadata": {},
   "outputs": [
    {
     "data": {
      "image/svg+xml": [
       "<?xml version=\"1.0\" encoding=\"utf-8\"?>\n",
       "<svg xmlns=\"http://www.w3.org/2000/svg\" xmlns:xlink=\"http://www.w3.org/1999/xlink\" width=\"600\" height=\"400\" viewBox=\"0 0 2400 1600\">\n",
       "<defs>\n",
       "  <clipPath id=\"clip900\">\n",
       "    <rect x=\"0\" y=\"0\" width=\"2400\" height=\"1600\"/>\n",
       "  </clipPath>\n",
       "</defs>\n",
       "<path clip-path=\"url(#clip900)\" d=\"\n",
       "M0 1600 L2400 1600 L2400 0 L0 0  Z\n",
       "  \" fill=\"#ffffff\" fill-rule=\"evenodd\" fill-opacity=\"1\"/>\n",
       "<defs>\n",
       "  <clipPath id=\"clip901\">\n",
       "    <rect x=\"480\" y=\"0\" width=\"1681\" height=\"1600\"/>\n",
       "  </clipPath>\n",
       "</defs>\n",
       "<path clip-path=\"url(#clip900)\" d=\"\n",
       "M335.195 1423.18 L2352.76 1423.18 L2352.76 47.2441 L335.195 47.2441  Z\n",
       "  \" fill=\"#ffffff\" fill-rule=\"evenodd\" fill-opacity=\"1\"/>\n",
       "<defs>\n",
       "  <clipPath id=\"clip902\">\n",
       "    <rect x=\"335\" y=\"47\" width=\"2019\" height=\"1377\"/>\n",
       "  </clipPath>\n",
       "</defs>\n",
       "<polyline clip-path=\"url(#clip902)\" style=\"stroke:#000000; stroke-linecap:butt; stroke-linejoin:round; stroke-width:2; stroke-opacity:0.1; fill:none\" points=\"\n",
       "  392.296,1423.18 392.296,47.2441 \n",
       "  \"/>\n",
       "<polyline clip-path=\"url(#clip902)\" style=\"stroke:#000000; stroke-linecap:butt; stroke-linejoin:round; stroke-width:2; stroke-opacity:0.1; fill:none\" points=\"\n",
       "  952.108,1423.18 952.108,47.2441 \n",
       "  \"/>\n",
       "<polyline clip-path=\"url(#clip902)\" style=\"stroke:#000000; stroke-linecap:butt; stroke-linejoin:round; stroke-width:2; stroke-opacity:0.1; fill:none\" points=\"\n",
       "  1511.92,1423.18 1511.92,47.2441 \n",
       "  \"/>\n",
       "<polyline clip-path=\"url(#clip902)\" style=\"stroke:#000000; stroke-linecap:butt; stroke-linejoin:round; stroke-width:2; stroke-opacity:0.1; fill:none\" points=\"\n",
       "  2071.73,1423.18 2071.73,47.2441 \n",
       "  \"/>\n",
       "<polyline clip-path=\"url(#clip900)\" style=\"stroke:#000000; stroke-linecap:butt; stroke-linejoin:round; stroke-width:4; stroke-opacity:1; fill:none\" points=\"\n",
       "  335.195,1423.18 2352.76,1423.18 \n",
       "  \"/>\n",
       "<polyline clip-path=\"url(#clip900)\" style=\"stroke:#000000; stroke-linecap:butt; stroke-linejoin:round; stroke-width:4; stroke-opacity:1; fill:none\" points=\"\n",
       "  392.296,1423.18 392.296,1404.28 \n",
       "  \"/>\n",
       "<polyline clip-path=\"url(#clip900)\" style=\"stroke:#000000; stroke-linecap:butt; stroke-linejoin:round; stroke-width:4; stroke-opacity:1; fill:none\" points=\"\n",
       "  952.108,1423.18 952.108,1404.28 \n",
       "  \"/>\n",
       "<polyline clip-path=\"url(#clip900)\" style=\"stroke:#000000; stroke-linecap:butt; stroke-linejoin:round; stroke-width:4; stroke-opacity:1; fill:none\" points=\"\n",
       "  1511.92,1423.18 1511.92,1404.28 \n",
       "  \"/>\n",
       "<polyline clip-path=\"url(#clip900)\" style=\"stroke:#000000; stroke-linecap:butt; stroke-linejoin:round; stroke-width:4; stroke-opacity:1; fill:none\" points=\"\n",
       "  2071.73,1423.18 2071.73,1404.28 \n",
       "  \"/>\n",
       "<path clip-path=\"url(#clip900)\" d=\"M392.296 1454.1 Q388.685 1454.1 386.856 1457.66 Q385.051 1461.2 385.051 1468.33 Q385.051 1475.44 386.856 1479.01 Q388.685 1482.55 392.296 1482.55 Q395.93 1482.55 397.736 1479.01 Q399.565 1475.44 399.565 1468.33 Q399.565 1461.2 397.736 1457.66 Q395.93 1454.1 392.296 1454.1 M392.296 1450.39 Q398.106 1450.39 401.162 1455 Q404.241 1459.58 404.241 1468.33 Q404.241 1477.06 401.162 1481.67 Q398.106 1486.25 392.296 1486.25 Q386.486 1486.25 383.407 1481.67 Q380.352 1477.06 380.352 1468.33 Q380.352 1459.58 383.407 1455 Q386.486 1450.39 392.296 1450.39 Z\" fill=\"#000000\" fill-rule=\"evenodd\" fill-opacity=\"1\" /><path clip-path=\"url(#clip900)\" d=\"M942.385 1451.02 L960.742 1451.02 L960.742 1454.96 L946.668 1454.96 L946.668 1463.43 Q947.686 1463.08 948.705 1462.92 Q949.723 1462.73 950.742 1462.73 Q956.529 1462.73 959.908 1465.9 Q963.288 1469.08 963.288 1474.49 Q963.288 1480.07 959.816 1483.17 Q956.344 1486.25 950.024 1486.25 Q947.848 1486.25 945.58 1485.88 Q943.335 1485.51 940.927 1484.77 L940.927 1480.07 Q943.01 1481.2 945.233 1481.76 Q947.455 1482.32 949.932 1482.32 Q953.936 1482.32 956.274 1480.21 Q958.612 1478.1 958.612 1474.49 Q958.612 1470.88 956.274 1468.77 Q953.936 1466.67 949.932 1466.67 Q948.057 1466.67 946.182 1467.08 Q944.33 1467.5 942.385 1468.38 L942.385 1451.02 Z\" fill=\"#000000\" fill-rule=\"evenodd\" fill-opacity=\"1\" /><path clip-path=\"url(#clip900)\" d=\"M1486.61 1481.64 L1494.25 1481.64 L1494.25 1455.28 L1485.94 1456.95 L1485.94 1452.69 L1494.2 1451.02 L1498.88 1451.02 L1498.88 1481.64 L1506.51 1481.64 L1506.51 1485.58 L1486.61 1485.58 L1486.61 1481.64 Z\" fill=\"#000000\" fill-rule=\"evenodd\" fill-opacity=\"1\" /><path clip-path=\"url(#clip900)\" d=\"M1525.96 1454.1 Q1522.35 1454.1 1520.52 1457.66 Q1518.71 1461.2 1518.71 1468.33 Q1518.71 1475.44 1520.52 1479.01 Q1522.35 1482.55 1525.96 1482.55 Q1529.59 1482.55 1531.4 1479.01 Q1533.23 1475.44 1533.23 1468.33 Q1533.23 1461.2 1531.4 1457.66 Q1529.59 1454.1 1525.96 1454.1 M1525.96 1450.39 Q1531.77 1450.39 1534.82 1455 Q1537.9 1459.58 1537.9 1468.33 Q1537.9 1477.06 1534.82 1481.67 Q1531.77 1486.25 1525.96 1486.25 Q1520.15 1486.25 1517.07 1481.67 Q1514.01 1477.06 1514.01 1468.33 Q1514.01 1459.58 1517.07 1455 Q1520.15 1450.39 1525.96 1450.39 Z\" fill=\"#000000\" fill-rule=\"evenodd\" fill-opacity=\"1\" /><path clip-path=\"url(#clip900)\" d=\"M2046.92 1481.64 L2054.55 1481.64 L2054.55 1455.28 L2046.24 1456.95 L2046.24 1452.69 L2054.51 1451.02 L2059.18 1451.02 L2059.18 1481.64 L2066.82 1481.64 L2066.82 1485.58 L2046.92 1485.58 L2046.92 1481.64 Z\" fill=\"#000000\" fill-rule=\"evenodd\" fill-opacity=\"1\" /><path clip-path=\"url(#clip900)\" d=\"M2076.31 1451.02 L2094.67 1451.02 L2094.67 1454.96 L2080.6 1454.96 L2080.6 1463.43 Q2081.61 1463.08 2082.63 1462.92 Q2083.65 1462.73 2084.67 1462.73 Q2090.46 1462.73 2093.84 1465.9 Q2097.22 1469.08 2097.22 1474.49 Q2097.22 1480.07 2093.74 1483.17 Q2090.27 1486.25 2083.95 1486.25 Q2081.78 1486.25 2079.51 1485.88 Q2077.26 1485.51 2074.86 1484.77 L2074.86 1480.07 Q2076.94 1481.2 2079.16 1481.76 Q2081.38 1482.32 2083.86 1482.32 Q2087.86 1482.32 2090.2 1480.21 Q2092.54 1478.1 2092.54 1474.49 Q2092.54 1470.88 2090.2 1468.77 Q2087.86 1466.67 2083.86 1466.67 Q2081.99 1466.67 2080.11 1467.08 Q2078.26 1467.5 2076.31 1468.38 L2076.31 1451.02 Z\" fill=\"#000000\" fill-rule=\"evenodd\" fill-opacity=\"1\" /><path clip-path=\"url(#clip900)\" d=\"M1358.9 1546.53 L1358.9 1568.04 L1353.05 1568.04 L1353.05 1546.72 Q1353.05 1541.66 1351.07 1539.14 Q1349.1 1536.63 1345.15 1536.63 Q1340.41 1536.63 1337.67 1539.65 Q1334.94 1542.68 1334.94 1547.9 L1334.94 1568.04 L1329.05 1568.04 L1329.05 1532.4 L1334.94 1532.4 L1334.94 1537.93 Q1337.04 1534.72 1339.87 1533.13 Q1342.73 1531.54 1346.46 1531.54 Q1352.6 1531.54 1355.75 1535.36 Q1358.9 1539.14 1358.9 1546.53 Z\" fill=\"#000000\" fill-rule=\"evenodd\" fill-opacity=\"1\" /><polyline clip-path=\"url(#clip902)\" style=\"stroke:#000000; stroke-linecap:butt; stroke-linejoin:round; stroke-width:2; stroke-opacity:0.1; fill:none\" points=\"\n",
       "  335.195,1384.24 2352.76,1384.24 \n",
       "  \"/>\n",
       "<polyline clip-path=\"url(#clip902)\" style=\"stroke:#000000; stroke-linecap:butt; stroke-linejoin:round; stroke-width:2; stroke-opacity:0.1; fill:none\" points=\"\n",
       "  335.195,1043.96 2352.76,1043.96 \n",
       "  \"/>\n",
       "<polyline clip-path=\"url(#clip902)\" style=\"stroke:#000000; stroke-linecap:butt; stroke-linejoin:round; stroke-width:2; stroke-opacity:0.1; fill:none\" points=\"\n",
       "  335.195,703.685 2352.76,703.685 \n",
       "  \"/>\n",
       "<polyline clip-path=\"url(#clip902)\" style=\"stroke:#000000; stroke-linecap:butt; stroke-linejoin:round; stroke-width:2; stroke-opacity:0.1; fill:none\" points=\"\n",
       "  335.195,363.408 2352.76,363.408 \n",
       "  \"/>\n",
       "<polyline clip-path=\"url(#clip900)\" style=\"stroke:#000000; stroke-linecap:butt; stroke-linejoin:round; stroke-width:4; stroke-opacity:1; fill:none\" points=\"\n",
       "  335.195,1423.18 335.195,47.2441 \n",
       "  \"/>\n",
       "<polyline clip-path=\"url(#clip900)\" style=\"stroke:#000000; stroke-linecap:butt; stroke-linejoin:round; stroke-width:4; stroke-opacity:1; fill:none\" points=\"\n",
       "  335.195,1384.24 354.093,1384.24 \n",
       "  \"/>\n",
       "<polyline clip-path=\"url(#clip900)\" style=\"stroke:#000000; stroke-linecap:butt; stroke-linejoin:round; stroke-width:4; stroke-opacity:1; fill:none\" points=\"\n",
       "  335.195,1043.96 354.093,1043.96 \n",
       "  \"/>\n",
       "<polyline clip-path=\"url(#clip900)\" style=\"stroke:#000000; stroke-linecap:butt; stroke-linejoin:round; stroke-width:4; stroke-opacity:1; fill:none\" points=\"\n",
       "  335.195,703.685 354.093,703.685 \n",
       "  \"/>\n",
       "<polyline clip-path=\"url(#clip900)\" style=\"stroke:#000000; stroke-linecap:butt; stroke-linejoin:round; stroke-width:4; stroke-opacity:1; fill:none\" points=\"\n",
       "  335.195,363.408 354.093,363.408 \n",
       "  \"/>\n",
       "<path clip-path=\"url(#clip900)\" d=\"M287.251 1370.04 Q283.64 1370.04 281.811 1373.6 Q280.006 1377.14 280.006 1384.27 Q280.006 1391.38 281.811 1394.94 Q283.64 1398.49 287.251 1398.49 Q290.885 1398.49 292.691 1394.94 Q294.519 1391.38 294.519 1384.27 Q294.519 1377.14 292.691 1373.6 Q290.885 1370.04 287.251 1370.04 M287.251 1366.33 Q293.061 1366.33 296.117 1370.94 Q299.195 1375.52 299.195 1384.27 Q299.195 1393 296.117 1397.61 Q293.061 1402.19 287.251 1402.19 Q281.441 1402.19 278.362 1397.61 Q275.307 1393 275.307 1384.27 Q275.307 1375.52 278.362 1370.94 Q281.441 1366.33 287.251 1366.33 Z\" fill=\"#000000\" fill-rule=\"evenodd\" fill-opacity=\"1\" /><path clip-path=\"url(#clip900)\" d=\"M52.4505 1033.13 L70.8068 1033.13 L70.8068 1037.06 L56.7328 1037.06 L56.7328 1045.54 Q57.7513 1045.19 58.7699 1045.03 Q59.7884 1044.84 60.8069 1044.84 Q66.5939 1044.84 69.9735 1048.01 Q73.3531 1051.18 73.3531 1056.6 Q73.3531 1062.18 69.8809 1065.28 Q66.4087 1068.36 60.0893 1068.36 Q57.9134 1068.36 55.6449 1067.99 Q53.3995 1067.62 50.9921 1066.88 L50.9921 1062.18 Q53.0754 1063.31 55.2977 1063.87 Q57.5199 1064.43 59.9967 1064.43 Q64.0013 1064.43 66.3393 1062.32 Q68.6772 1060.21 68.6772 1056.6 Q68.6772 1052.99 66.3393 1050.88 Q64.0013 1048.78 59.9967 1048.78 Q58.1217 1048.78 56.2467 1049.19 Q54.3949 1049.61 52.4505 1050.49 L52.4505 1033.13 Z\" fill=\"#000000\" fill-rule=\"evenodd\" fill-opacity=\"1\" /><path clip-path=\"url(#clip900)\" d=\"M82.566 1061.81 L87.4503 1061.81 L87.4503 1067.69 L82.566 1067.69 L82.566 1061.81 Z\" fill=\"#000000\" fill-rule=\"evenodd\" fill-opacity=\"1\" /><path clip-path=\"url(#clip900)\" d=\"M107.635 1036.21 Q104.024 1036.21 102.196 1039.77 Q100.39 1043.31 100.39 1050.44 Q100.39 1057.55 102.196 1061.12 Q104.024 1064.66 107.635 1064.66 Q111.27 1064.66 113.075 1061.12 Q114.904 1057.55 114.904 1050.44 Q114.904 1043.31 113.075 1039.77 Q111.27 1036.21 107.635 1036.21 M107.635 1032.5 Q113.445 1032.5 116.501 1037.11 Q119.58 1041.69 119.58 1050.44 Q119.58 1059.17 116.501 1063.78 Q113.445 1068.36 107.635 1068.36 Q101.825 1068.36 98.7465 1063.78 Q95.691 1059.17 95.691 1050.44 Q95.691 1041.69 98.7465 1037.11 Q101.825 1032.5 107.635 1032.5 Z\" fill=\"#000000\" fill-rule=\"evenodd\" fill-opacity=\"1\" /><path clip-path=\"url(#clip900)\" d=\"M137.797 1036.21 Q134.186 1036.21 132.357 1039.77 Q130.552 1043.31 130.552 1050.44 Q130.552 1057.55 132.357 1061.12 Q134.186 1064.66 137.797 1064.66 Q141.431 1064.66 143.237 1061.12 Q145.066 1057.55 145.066 1050.44 Q145.066 1043.31 143.237 1039.77 Q141.431 1036.21 137.797 1036.21 M137.797 1032.5 Q143.607 1032.5 146.663 1037.11 Q149.742 1041.69 149.742 1050.44 Q149.742 1059.17 146.663 1063.78 Q143.607 1068.36 137.797 1068.36 Q131.987 1068.36 128.908 1063.78 Q125.853 1059.17 125.853 1050.44 Q125.853 1041.69 128.908 1037.11 Q131.987 1032.5 137.797 1032.5 Z\" fill=\"#000000\" fill-rule=\"evenodd\" fill-opacity=\"1\" /><path clip-path=\"url(#clip900)\" d=\"M186.13 1042.23 L175.552 1052.85 L186.13 1063.43 L183.376 1066.23 L172.751 1055.61 L162.126 1066.23 L159.394 1063.43 L169.95 1052.85 L159.394 1042.23 L162.126 1039.43 L172.751 1050.05 L183.376 1039.43 L186.13 1042.23 Z\" fill=\"#000000\" fill-rule=\"evenodd\" fill-opacity=\"1\" /><path clip-path=\"url(#clip900)\" d=\"M198.491 1063.75 L206.13 1063.75 L206.13 1037.39 L197.82 1039.06 L197.82 1034.8 L206.084 1033.13 L210.76 1033.13 L210.76 1063.75 L218.399 1063.75 L218.399 1067.69 L198.491 1067.69 L198.491 1063.75 Z\" fill=\"#000000\" fill-rule=\"evenodd\" fill-opacity=\"1\" /><path clip-path=\"url(#clip900)\" d=\"M237.843 1036.21 Q234.232 1036.21 232.403 1039.77 Q230.598 1043.31 230.598 1050.44 Q230.598 1057.55 232.403 1061.12 Q234.232 1064.66 237.843 1064.66 Q241.477 1064.66 243.283 1061.12 Q245.111 1057.55 245.111 1050.44 Q245.111 1043.31 243.283 1039.77 Q241.477 1036.21 237.843 1036.21 M237.843 1032.5 Q243.653 1032.5 246.709 1037.11 Q249.787 1041.69 249.787 1050.44 Q249.787 1059.17 246.709 1063.78 Q243.653 1068.36 237.843 1068.36 Q232.033 1068.36 228.954 1063.78 Q225.899 1059.17 225.899 1050.44 Q225.899 1041.69 228.954 1037.11 Q232.033 1032.5 237.843 1032.5 Z\" fill=\"#000000\" fill-rule=\"evenodd\" fill-opacity=\"1\" /><path clip-path=\"url(#clip900)\" d=\"M249.787 1026.61 L273.899 1026.61 L273.899 1029.8 L249.787 1029.8 L249.787 1026.61 Z\" fill=\"#000000\" fill-rule=\"evenodd\" fill-opacity=\"1\" /><path clip-path=\"url(#clip900)\" d=\"M281.14 1012.2 L299.195 1012.2 L299.195 1013.82 L289.002 1040.28 L285.033 1040.28 L294.625 1015.4 L281.14 1015.4 L281.14 1012.2 Z\" fill=\"#000000\" fill-rule=\"evenodd\" fill-opacity=\"1\" /><path clip-path=\"url(#clip900)\" d=\"M52.3492 723.477 L59.988 723.477 L59.988 697.112 L51.6779 698.778 L51.6779 694.519 L59.9417 692.852 L64.6176 692.852 L64.6176 723.477 L72.2565 723.477 L72.2565 727.412 L52.3492 727.412 L52.3492 723.477 Z\" fill=\"#000000\" fill-rule=\"evenodd\" fill-opacity=\"1\" /><path clip-path=\"url(#clip900)\" d=\"M81.7009 721.533 L86.5851 721.533 L86.5851 727.412 L81.7009 727.412 L81.7009 721.533 Z\" fill=\"#000000\" fill-rule=\"evenodd\" fill-opacity=\"1\" /><path clip-path=\"url(#clip900)\" d=\"M106.77 695.931 Q103.159 695.931 101.33 699.496 Q99.5249 703.038 99.5249 710.167 Q99.5249 717.274 101.33 720.838 Q103.159 724.38 106.77 724.38 Q110.404 724.38 112.21 720.838 Q114.039 717.274 114.039 710.167 Q114.039 703.038 112.21 699.496 Q110.404 695.931 106.77 695.931 M106.77 692.227 Q112.58 692.227 115.636 696.834 Q118.715 701.417 118.715 710.167 Q118.715 718.894 115.636 723.5 Q112.58 728.084 106.77 728.084 Q100.96 728.084 97.8813 723.5 Q94.8258 718.894 94.8258 710.167 Q94.8258 701.417 97.8813 696.834 Q100.96 692.227 106.77 692.227 Z\" fill=\"#000000\" fill-rule=\"evenodd\" fill-opacity=\"1\" /><path clip-path=\"url(#clip900)\" d=\"M136.932 695.931 Q133.321 695.931 131.492 699.496 Q129.687 703.038 129.687 710.167 Q129.687 717.274 131.492 720.838 Q133.321 724.38 136.932 724.38 Q140.566 724.38 142.372 720.838 Q144.201 717.274 144.201 710.167 Q144.201 703.038 142.372 699.496 Q140.566 695.931 136.932 695.931 M136.932 692.227 Q142.742 692.227 145.798 696.834 Q148.876 701.417 148.876 710.167 Q148.876 718.894 145.798 723.5 Q142.742 728.084 136.932 728.084 Q131.122 728.084 128.043 723.5 Q124.988 718.894 124.988 710.167 Q124.988 701.417 128.043 696.834 Q131.122 692.227 136.932 692.227 Z\" fill=\"#000000\" fill-rule=\"evenodd\" fill-opacity=\"1\" /><path clip-path=\"url(#clip900)\" d=\"M185.265 701.95 L174.686 712.575 L185.265 723.153 L182.511 725.954 L171.886 715.329 L161.261 725.954 L158.529 723.153 L169.085 712.575 L158.529 701.95 L161.261 699.149 L171.886 709.774 L182.511 699.149 L185.265 701.95 Z\" fill=\"#000000\" fill-rule=\"evenodd\" fill-opacity=\"1\" /><path clip-path=\"url(#clip900)\" d=\"M197.626 723.477 L205.265 723.477 L205.265 697.112 L196.955 698.778 L196.955 694.519 L205.219 692.852 L209.895 692.852 L209.895 723.477 L217.533 723.477 L217.533 727.412 L197.626 727.412 L197.626 723.477 Z\" fill=\"#000000\" fill-rule=\"evenodd\" fill-opacity=\"1\" /><path clip-path=\"url(#clip900)\" d=\"M236.978 695.931 Q233.367 695.931 231.538 699.496 Q229.732 703.038 229.732 710.167 Q229.732 717.274 231.538 720.838 Q233.367 724.38 236.978 724.38 Q240.612 724.38 242.418 720.838 Q244.246 717.274 244.246 710.167 Q244.246 703.038 242.418 699.496 Q240.612 695.931 236.978 695.931 M236.978 692.227 Q242.788 692.227 245.844 696.834 Q248.922 701.417 248.922 710.167 Q248.922 718.894 245.844 723.5 Q242.788 728.084 236.978 728.084 Q231.168 728.084 228.089 723.5 Q225.033 718.894 225.033 710.167 Q225.033 701.417 228.089 696.834 Q231.168 692.227 236.978 692.227 Z\" fill=\"#000000\" fill-rule=\"evenodd\" fill-opacity=\"1\" /><path clip-path=\"url(#clip900)\" d=\"M248.922 686.329 L273.034 686.329 L273.034 689.526 L248.922 689.526 L248.922 686.329 Z\" fill=\"#000000\" fill-rule=\"evenodd\" fill-opacity=\"1\" /><path clip-path=\"url(#clip900)\" d=\"M289.829 684.448 Q287.271 684.448 285.767 686.197 Q284.281 687.946 284.281 690.993 Q284.281 694.021 285.767 695.789 Q287.271 697.538 289.829 697.538 Q292.387 697.538 293.873 695.789 Q295.377 694.021 295.377 690.993 Q295.377 687.946 293.873 686.197 Q292.387 684.448 289.829 684.448 M297.371 672.543 L297.371 676.003 Q295.942 675.326 294.475 674.969 Q293.026 674.612 291.597 674.612 Q287.835 674.612 285.842 677.151 Q283.867 679.69 283.585 684.824 Q284.695 683.188 286.368 682.323 Q288.042 681.439 290.055 681.439 Q294.287 681.439 296.732 684.015 Q299.195 686.573 299.195 690.993 Q299.195 695.319 296.638 697.933 Q294.08 700.547 289.829 700.547 Q284.958 700.547 282.381 696.824 Q279.805 693.081 279.805 685.99 Q279.805 679.332 282.964 675.383 Q286.124 671.414 291.447 671.414 Q292.876 671.414 294.324 671.696 Q295.791 671.978 297.371 672.543 Z\" fill=\"#000000\" fill-rule=\"evenodd\" fill-opacity=\"1\" /><path clip-path=\"url(#clip900)\" d=\"M52.3492 383.201 L59.988 383.201 L59.988 356.835 L51.6779 358.502 L51.6779 354.242 L59.9417 352.576 L64.6176 352.576 L64.6176 383.201 L72.2565 383.201 L72.2565 387.136 L52.3492 387.136 L52.3492 383.201 Z\" fill=\"#000000\" fill-rule=\"evenodd\" fill-opacity=\"1\" /><path clip-path=\"url(#clip900)\" d=\"M81.7009 381.256 L86.5851 381.256 L86.5851 387.136 L81.7009 387.136 L81.7009 381.256 Z\" fill=\"#000000\" fill-rule=\"evenodd\" fill-opacity=\"1\" /><path clip-path=\"url(#clip900)\" d=\"M96.8165 352.576 L115.173 352.576 L115.173 356.511 L101.099 356.511 L101.099 364.983 Q102.117 364.636 103.136 364.474 Q104.154 364.289 105.173 364.289 Q110.96 364.289 114.34 367.46 Q117.719 370.631 117.719 376.048 Q117.719 381.627 114.247 384.728 Q110.775 387.807 104.455 387.807 Q102.279 387.807 100.011 387.437 Q97.7656 387.066 95.3582 386.326 L95.3582 381.627 Q97.4415 382.761 99.6637 383.316 Q101.886 383.872 104.363 383.872 Q108.367 383.872 110.705 381.765 Q113.043 379.659 113.043 376.048 Q113.043 372.437 110.705 370.33 Q108.367 368.224 104.363 368.224 Q102.488 368.224 100.613 368.64 Q98.761 369.057 96.8165 369.937 L96.8165 352.576 Z\" fill=\"#000000\" fill-rule=\"evenodd\" fill-opacity=\"1\" /><path clip-path=\"url(#clip900)\" d=\"M136.932 355.654 Q133.321 355.654 131.492 359.219 Q129.687 362.761 129.687 369.89 Q129.687 376.997 131.492 380.562 Q133.321 384.103 136.932 384.103 Q140.566 384.103 142.372 380.562 Q144.201 376.997 144.201 369.89 Q144.201 362.761 142.372 359.219 Q140.566 355.654 136.932 355.654 M136.932 351.951 Q142.742 351.951 145.798 356.557 Q148.876 361.141 148.876 369.89 Q148.876 378.617 145.798 383.224 Q142.742 387.807 136.932 387.807 Q131.122 387.807 128.043 383.224 Q124.988 378.617 124.988 369.89 Q124.988 361.141 128.043 356.557 Q131.122 351.951 136.932 351.951 Z\" fill=\"#000000\" fill-rule=\"evenodd\" fill-opacity=\"1\" /><path clip-path=\"url(#clip900)\" d=\"M185.265 361.673 L174.686 372.298 L185.265 382.877 L182.511 385.677 L171.886 375.052 L161.261 385.677 L158.529 382.877 L169.085 372.298 L158.529 361.673 L161.261 358.872 L171.886 369.497 L182.511 358.872 L185.265 361.673 Z\" fill=\"#000000\" fill-rule=\"evenodd\" fill-opacity=\"1\" /><path clip-path=\"url(#clip900)\" d=\"M197.626 383.201 L205.265 383.201 L205.265 356.835 L196.955 358.502 L196.955 354.242 L205.219 352.576 L209.895 352.576 L209.895 383.201 L217.533 383.201 L217.533 387.136 L197.626 387.136 L197.626 383.201 Z\" fill=\"#000000\" fill-rule=\"evenodd\" fill-opacity=\"1\" /><path clip-path=\"url(#clip900)\" d=\"M236.978 355.654 Q233.367 355.654 231.538 359.219 Q229.732 362.761 229.732 369.89 Q229.732 376.997 231.538 380.562 Q233.367 384.103 236.978 384.103 Q240.612 384.103 242.418 380.562 Q244.246 376.997 244.246 369.89 Q244.246 362.761 242.418 359.219 Q240.612 355.654 236.978 355.654 M236.978 351.951 Q242.788 351.951 245.844 356.557 Q248.922 361.141 248.922 369.89 Q248.922 378.617 245.844 383.224 Q242.788 387.807 236.978 387.807 Q231.168 387.807 228.089 383.224 Q225.033 378.617 225.033 369.89 Q225.033 361.141 228.089 356.557 Q231.168 351.951 236.978 351.951 Z\" fill=\"#000000\" fill-rule=\"evenodd\" fill-opacity=\"1\" /><path clip-path=\"url(#clip900)\" d=\"M248.922 346.052 L273.034 346.052 L273.034 349.249 L248.922 349.249 L248.922 346.052 Z\" fill=\"#000000\" fill-rule=\"evenodd\" fill-opacity=\"1\" /><path clip-path=\"url(#clip900)\" d=\"M289.829 344.171 Q287.271 344.171 285.767 345.92 Q284.281 347.67 284.281 350.716 Q284.281 353.744 285.767 355.512 Q287.271 357.262 289.829 357.262 Q292.387 357.262 293.873 355.512 Q295.377 353.744 295.377 350.716 Q295.377 347.67 293.873 345.92 Q292.387 344.171 289.829 344.171 M297.371 332.266 L297.371 335.727 Q295.942 335.05 294.475 334.692 Q293.026 334.335 291.597 334.335 Q287.835 334.335 285.842 336.874 Q283.867 339.413 283.585 344.547 Q284.695 342.911 286.368 342.046 Q288.042 341.162 290.055 341.162 Q294.287 341.162 296.732 343.739 Q299.195 346.297 299.195 350.716 Q299.195 355.042 296.638 357.657 Q294.08 360.271 289.829 360.271 Q284.958 360.271 282.381 356.547 Q279.805 352.804 279.805 345.714 Q279.805 339.056 282.964 335.106 Q286.124 331.138 291.447 331.138 Q292.876 331.138 294.324 331.42 Q295.791 331.702 297.371 332.266 Z\" fill=\"#000000\" fill-rule=\"evenodd\" fill-opacity=\"1\" /><polyline clip-path=\"url(#clip902)\" style=\"stroke:#009af9; stroke-linecap:butt; stroke-linejoin:round; stroke-width:4; stroke-opacity:1; fill:none\" points=\"\n",
       "  392.296,1384.24 504.258,1384.24 616.221,1384.24 728.183,1384.24 840.145,1384.24 952.108,1384.24 1064.07,1384.24 1176.03,1384.24 1287.99,1384.23 1399.96,1384.22 \n",
       "  1511.92,1384.16 1623.88,1383.92 1735.84,1382.97 1847.81,1379.17 1959.77,1363.96 2071.73,1303.11 2183.69,1059.73 2295.66,86.1857 \n",
       "  \"/>\n",
       "<polyline clip-path=\"url(#clip902)\" style=\"stroke:#e26f46; stroke-linecap:butt; stroke-linejoin:round; stroke-width:4; stroke-opacity:1; fill:none\" points=\"\n",
       "  392.296,1384.24 504.258,1384.24 616.221,1384.24 728.183,1384.24 840.145,1384.24 952.108,1384.24 1064.07,1384.24 1176.03,1384.24 1287.99,1384.24 1399.96,1384.24 \n",
       "  1511.92,1384.24 1623.88,1384.24 1735.84,1384.24 1847.81,1384.24 1959.77,1384.24 2071.73,1384.24 2183.69,1384.24 2295.66,1384.24 \n",
       "  \"/>\n",
       "<path clip-path=\"url(#clip900)\" d=\"\n",
       "M1721.89 248.629 L2285.5 248.629 L2285.5 93.1086 L1721.89 93.1086  Z\n",
       "  \" fill=\"#ffffff\" fill-rule=\"evenodd\" fill-opacity=\"1\"/>\n",
       "<polyline clip-path=\"url(#clip900)\" style=\"stroke:#000000; stroke-linecap:butt; stroke-linejoin:round; stroke-width:4; stroke-opacity:1; fill:none\" points=\"\n",
       "  1721.89,248.629 2285.5,248.629 2285.5,93.1086 1721.89,93.1086 1721.89,248.629 \n",
       "  \"/>\n",
       "<polyline clip-path=\"url(#clip900)\" style=\"stroke:#009af9; stroke-linecap:butt; stroke-linejoin:round; stroke-width:4; stroke-opacity:1; fill:none\" points=\"\n",
       "  1744.31,144.949 1878.81,144.949 \n",
       "  \"/>\n",
       "<path clip-path=\"url(#clip900)\" d=\"M1914.63 149.196 Q1909.47 149.196 1907.48 150.377 Q1905.49 151.557 1905.49 154.405 Q1905.49 156.673 1906.97 158.016 Q1908.47 159.335 1911.04 159.335 Q1914.58 159.335 1916.71 156.835 Q1918.87 154.312 1918.87 150.145 L1918.87 149.196 L1914.63 149.196 M1923.12 147.437 L1923.12 162.229 L1918.87 162.229 L1918.87 158.293 Q1917.41 160.655 1915.23 161.789 Q1913.06 162.9 1909.91 162.9 Q1905.93 162.9 1903.56 160.678 Q1901.23 158.432 1901.23 154.682 Q1901.23 150.307 1904.14 148.085 Q1907.08 145.863 1912.89 145.863 L1918.87 145.863 L1918.87 145.446 Q1918.87 142.507 1916.92 140.909 Q1915 139.289 1911.5 139.289 Q1909.28 139.289 1907.18 139.821 Q1905.07 140.354 1903.12 141.419 L1903.12 137.483 Q1905.46 136.581 1907.66 136.141 Q1909.86 135.678 1911.94 135.678 Q1917.57 135.678 1920.35 138.594 Q1923.12 141.511 1923.12 147.437 Z\" fill=\"#000000\" fill-rule=\"evenodd\" fill-opacity=\"1\" /><path clip-path=\"url(#clip900)\" d=\"M1950.51 149.289 Q1950.51 144.59 1948.56 141.928 Q1946.64 139.243 1943.26 139.243 Q1939.88 139.243 1937.94 141.928 Q1936.02 144.59 1936.02 149.289 Q1936.02 153.988 1937.94 156.673 Q1939.88 159.335 1943.26 159.335 Q1946.64 159.335 1948.56 156.673 Q1950.51 153.988 1950.51 149.289 M1936.02 140.238 Q1937.36 137.923 1939.4 136.812 Q1941.46 135.678 1944.31 135.678 Q1949.03 135.678 1951.97 139.428 Q1954.93 143.178 1954.93 149.289 Q1954.93 155.4 1951.97 159.15 Q1949.03 162.9 1944.31 162.9 Q1941.46 162.9 1939.4 161.789 Q1937.36 160.655 1936.02 158.34 L1936.02 162.229 L1931.74 162.229 L1931.74 126.21 L1936.02 126.21 L1936.02 140.238 Z\" fill=\"#000000\" fill-rule=\"evenodd\" fill-opacity=\"1\" /><path clip-path=\"url(#clip900)\" d=\"M1978.52 137.067 L1978.52 141.094 Q1976.71 140.169 1974.77 139.706 Q1972.82 139.243 1970.74 139.243 Q1967.57 139.243 1965.97 140.215 Q1964.4 141.187 1964.4 143.131 Q1964.4 144.613 1965.53 145.469 Q1966.67 146.303 1970.09 147.067 L1971.55 147.391 Q1976.09 148.363 1977.99 150.145 Q1979.91 151.905 1979.91 155.076 Q1979.91 158.687 1977.04 160.793 Q1974.19 162.9 1969.19 162.9 Q1967.11 162.9 1964.84 162.483 Q1962.59 162.09 1960.09 161.28 L1960.09 156.881 Q1962.45 158.108 1964.74 158.733 Q1967.04 159.335 1969.28 159.335 Q1972.29 159.335 1973.91 158.317 Q1975.53 157.275 1975.53 155.4 Q1975.53 153.664 1974.35 152.738 Q1973.19 151.812 1969.24 150.956 L1967.75 150.608 Q1963.8 149.775 1962.04 148.062 Q1960.28 146.326 1960.28 143.317 Q1960.28 139.659 1962.87 137.669 Q1965.46 135.678 1970.23 135.678 Q1972.59 135.678 1974.68 136.025 Q1976.76 136.372 1978.52 137.067 Z\" fill=\"#000000\" fill-rule=\"evenodd\" fill-opacity=\"1\" /><path clip-path=\"url(#clip900)\" d=\"M1996.74 139.289 Q1993.31 139.289 1991.32 141.974 Q1989.33 144.636 1989.33 149.289 Q1989.33 153.942 1991.3 156.627 Q1993.29 159.289 1996.74 159.289 Q2000.14 159.289 2002.13 156.604 Q2004.12 153.918 2004.12 149.289 Q2004.12 144.682 2002.13 141.997 Q2000.14 139.289 1996.74 139.289 M1996.74 135.678 Q2002.29 135.678 2005.46 139.289 Q2008.63 142.9 2008.63 149.289 Q2008.63 155.655 2005.46 159.289 Q2002.29 162.9 1996.74 162.9 Q1991.16 162.9 1987.99 159.289 Q1984.84 155.655 1984.84 149.289 Q1984.84 142.9 1987.99 139.289 Q1991.16 135.678 1996.74 135.678 Z\" fill=\"#000000\" fill-rule=\"evenodd\" fill-opacity=\"1\" /><path clip-path=\"url(#clip900)\" d=\"M2015.69 126.21 L2019.95 126.21 L2019.95 162.229 L2015.69 162.229 L2015.69 126.21 Z\" fill=\"#000000\" fill-rule=\"evenodd\" fill-opacity=\"1\" /><path clip-path=\"url(#clip900)\" d=\"M2028.42 151.997 L2028.42 136.303 L2032.68 136.303 L2032.68 151.835 Q2032.68 155.516 2034.12 157.368 Q2035.55 159.196 2038.42 159.196 Q2041.87 159.196 2043.86 156.997 Q2045.88 154.798 2045.88 151.002 L2045.88 136.303 L2050.14 136.303 L2050.14 162.229 L2045.88 162.229 L2045.88 158.247 Q2044.33 160.608 2042.27 161.766 Q2040.23 162.9 2037.52 162.9 Q2033.05 162.9 2030.74 160.122 Q2028.42 157.344 2028.42 151.997 M2039.14 135.678 L2039.14 135.678 Z\" fill=\"#000000\" fill-rule=\"evenodd\" fill-opacity=\"1\" /><path clip-path=\"url(#clip900)\" d=\"M2063.12 128.942 L2063.12 136.303 L2071.9 136.303 L2071.9 139.613 L2063.12 139.613 L2063.12 153.687 Q2063.12 156.858 2063.98 157.761 Q2064.86 158.664 2067.52 158.664 L2071.9 158.664 L2071.9 162.229 L2067.52 162.229 Q2062.59 162.229 2060.72 160.4 Q2058.84 158.548 2058.84 153.687 L2058.84 139.613 L2055.72 139.613 L2055.72 136.303 L2058.84 136.303 L2058.84 128.942 L2063.12 128.942 Z\" fill=\"#000000\" fill-rule=\"evenodd\" fill-opacity=\"1\" /><path clip-path=\"url(#clip900)\" d=\"M2099.67 148.201 L2099.67 150.284 L2080.09 150.284 Q2080.37 154.682 2082.73 156.997 Q2085.11 159.289 2089.35 159.289 Q2091.8 159.289 2094.1 158.687 Q2096.41 158.085 2098.68 156.881 L2098.68 160.909 Q2096.39 161.881 2093.98 162.391 Q2091.57 162.9 2089.1 162.9 Q2082.89 162.9 2079.26 159.289 Q2075.65 155.678 2075.65 149.52 Q2075.65 143.155 2079.07 139.428 Q2082.52 135.678 2088.36 135.678 Q2093.59 135.678 2096.62 139.057 Q2099.67 142.414 2099.67 148.201 M2095.42 146.951 Q2095.37 143.456 2093.45 141.372 Q2091.55 139.289 2088.4 139.289 Q2084.84 139.289 2082.68 141.303 Q2080.55 143.317 2080.23 146.974 L2095.42 146.951 Z\" fill=\"#000000\" fill-rule=\"evenodd\" fill-opacity=\"1\" /><path clip-path=\"url(#clip900)\" d=\"M2126.36 170.099 L2126.36 173.409 L2101.73 173.409 L2101.73 170.099 L2126.36 170.099 Z\" fill=\"#000000\" fill-rule=\"evenodd\" fill-opacity=\"1\" /><path clip-path=\"url(#clip900)\" d=\"M2152.54 148.201 L2152.54 150.284 L2132.96 150.284 Q2133.24 154.682 2135.6 156.997 Q2137.98 159.289 2142.22 159.289 Q2144.67 159.289 2146.97 158.687 Q2149.28 158.085 2151.55 156.881 L2151.55 160.909 Q2149.26 161.881 2146.85 162.391 Q2144.44 162.9 2141.97 162.9 Q2135.76 162.9 2132.13 159.289 Q2128.52 155.678 2128.52 149.52 Q2128.52 143.155 2131.94 139.428 Q2135.39 135.678 2141.23 135.678 Q2146.46 135.678 2149.49 139.057 Q2152.54 142.414 2152.54 148.201 M2148.29 146.951 Q2148.24 143.456 2146.32 141.372 Q2144.42 139.289 2141.27 139.289 Q2137.71 139.289 2135.55 141.303 Q2133.42 143.317 2133.1 146.974 L2148.29 146.951 Z\" fill=\"#000000\" fill-rule=\"evenodd\" fill-opacity=\"1\" /><path clip-path=\"url(#clip900)\" d=\"M2174.56 140.284 Q2173.84 139.868 2172.98 139.682 Q2172.15 139.474 2171.13 139.474 Q2167.52 139.474 2165.58 141.835 Q2163.66 144.173 2163.66 148.571 L2163.66 162.229 L2159.37 162.229 L2159.37 136.303 L2163.66 136.303 L2163.66 140.331 Q2165 137.969 2167.15 136.835 Q2169.3 135.678 2172.38 135.678 Q2172.82 135.678 2173.35 135.747 Q2173.89 135.794 2174.54 135.909 L2174.56 140.284 Z\" fill=\"#000000\" fill-rule=\"evenodd\" fill-opacity=\"1\" /><path clip-path=\"url(#clip900)\" d=\"M2193.22 140.284 Q2192.5 139.868 2191.64 139.682 Q2190.81 139.474 2189.79 139.474 Q2186.18 139.474 2184.23 141.835 Q2182.31 144.173 2182.31 148.571 L2182.31 162.229 L2178.03 162.229 L2178.03 136.303 L2182.31 136.303 L2182.31 140.331 Q2183.66 137.969 2185.81 136.835 Q2187.96 135.678 2191.04 135.678 Q2191.48 135.678 2192.01 135.747 Q2192.54 135.794 2193.19 135.909 L2193.22 140.284 Z\" fill=\"#000000\" fill-rule=\"evenodd\" fill-opacity=\"1\" /><path clip-path=\"url(#clip900)\" d=\"M2206.69 139.289 Q2203.26 139.289 2201.27 141.974 Q2199.28 144.636 2199.28 149.289 Q2199.28 153.942 2201.25 156.627 Q2203.24 159.289 2206.69 159.289 Q2210.09 159.289 2212.08 156.604 Q2214.07 153.918 2214.07 149.289 Q2214.07 144.682 2212.08 141.997 Q2210.09 139.289 2206.69 139.289 M2206.69 135.678 Q2212.24 135.678 2215.41 139.289 Q2218.59 142.9 2218.59 149.289 Q2218.59 155.655 2215.41 159.289 Q2212.24 162.9 2206.69 162.9 Q2201.11 162.9 2197.94 159.289 Q2194.79 155.655 2194.79 149.289 Q2194.79 142.9 2197.94 139.289 Q2201.11 135.678 2206.69 135.678 Z\" fill=\"#000000\" fill-rule=\"evenodd\" fill-opacity=\"1\" /><path clip-path=\"url(#clip900)\" d=\"M2240.67 140.284 Q2239.95 139.868 2239.1 139.682 Q2238.26 139.474 2237.24 139.474 Q2233.63 139.474 2231.69 141.835 Q2229.77 144.173 2229.77 148.571 L2229.77 162.229 L2225.48 162.229 L2225.48 136.303 L2229.77 136.303 L2229.77 140.331 Q2231.11 137.969 2233.26 136.835 Q2235.41 135.678 2238.49 135.678 Q2238.93 135.678 2239.47 135.747 Q2240 135.794 2240.65 135.909 L2240.67 140.284 Z\" fill=\"#000000\" fill-rule=\"evenodd\" fill-opacity=\"1\" /><polyline clip-path=\"url(#clip900)\" style=\"stroke:#e26f46; stroke-linecap:butt; stroke-linejoin:round; stroke-width:4; stroke-opacity:1; fill:none\" points=\"\n",
       "  1744.31,196.789 1878.81,196.789 \n",
       "  \"/>\n",
       "<path clip-path=\"url(#clip900)\" d=\"M1916.41 192.124 Q1915.69 191.708 1914.84 191.522 Q1914 191.314 1912.99 191.314 Q1909.37 191.314 1907.43 193.675 Q1905.51 196.013 1905.51 200.411 L1905.51 214.069 L1901.23 214.069 L1901.23 188.143 L1905.51 188.143 L1905.51 192.171 Q1906.85 189.809 1909 188.675 Q1911.16 187.518 1914.24 187.518 Q1914.68 187.518 1915.21 187.587 Q1915.74 187.634 1916.39 187.749 L1916.41 192.124 Z\" fill=\"#000000\" fill-rule=\"evenodd\" fill-opacity=\"1\" /><path clip-path=\"url(#clip900)\" d=\"M1942.01 200.041 L1942.01 202.124 L1922.43 202.124 Q1922.71 206.522 1925.07 208.837 Q1927.45 211.129 1931.69 211.129 Q1934.14 211.129 1936.43 210.527 Q1938.75 209.925 1941.02 208.721 L1941.02 212.749 Q1938.73 213.721 1936.32 214.231 Q1933.91 214.74 1931.43 214.74 Q1925.23 214.74 1921.6 211.129 Q1917.99 207.518 1917.99 201.36 Q1917.99 194.995 1921.41 191.268 Q1924.86 187.518 1930.69 187.518 Q1935.93 187.518 1938.96 190.897 Q1942.01 194.254 1942.01 200.041 M1937.75 198.791 Q1937.71 195.296 1935.79 193.212 Q1933.89 191.129 1930.74 191.129 Q1927.18 191.129 1925.02 193.143 Q1922.89 195.157 1922.57 198.814 L1937.75 198.791 Z\" fill=\"#000000\" fill-rule=\"evenodd\" fill-opacity=\"1\" /><path clip-path=\"url(#clip900)\" d=\"M1949 178.05 L1953.26 178.05 L1953.26 214.069 L1949 214.069 L1949 178.05 Z\" fill=\"#000000\" fill-rule=\"evenodd\" fill-opacity=\"1\" /><path clip-path=\"url(#clip900)\" d=\"M1973.96 201.036 Q1968.8 201.036 1966.8 202.217 Q1964.81 203.397 1964.81 206.245 Q1964.81 208.513 1966.3 209.856 Q1967.8 211.175 1970.37 211.175 Q1973.91 211.175 1976.04 208.675 Q1978.19 206.152 1978.19 201.985 L1978.19 201.036 L1973.96 201.036 M1982.45 199.277 L1982.45 214.069 L1978.19 214.069 L1978.19 210.133 Q1976.74 212.495 1974.56 213.629 Q1972.38 214.74 1969.24 214.74 Q1965.25 214.74 1962.89 212.518 Q1960.55 210.272 1960.55 206.522 Q1960.55 202.147 1963.47 199.925 Q1966.41 197.703 1972.22 197.703 L1978.19 197.703 L1978.19 197.286 Q1978.19 194.347 1976.25 192.749 Q1974.33 191.129 1970.83 191.129 Q1968.61 191.129 1966.5 191.661 Q1964.4 192.194 1962.45 193.259 L1962.45 189.323 Q1964.79 188.421 1966.99 187.981 Q1969.19 187.518 1971.27 187.518 Q1976.9 187.518 1979.68 190.434 Q1982.45 193.351 1982.45 199.277 Z\" fill=\"#000000\" fill-rule=\"evenodd\" fill-opacity=\"1\" /><path clip-path=\"url(#clip900)\" d=\"M1995.44 180.782 L1995.44 188.143 L2004.21 188.143 L2004.21 191.453 L1995.44 191.453 L1995.44 205.527 Q1995.44 208.698 1996.3 209.601 Q1997.18 210.504 1999.84 210.504 L2004.21 210.504 L2004.21 214.069 L1999.84 214.069 Q1994.91 214.069 1993.03 212.24 Q1991.16 210.388 1991.16 205.527 L1991.16 191.453 L1988.03 191.453 L1988.03 188.143 L1991.16 188.143 L1991.16 180.782 L1995.44 180.782 Z\" fill=\"#000000\" fill-rule=\"evenodd\" fill-opacity=\"1\" /><path clip-path=\"url(#clip900)\" d=\"M2009.81 188.143 L2014.07 188.143 L2014.07 214.069 L2009.81 214.069 L2009.81 188.143 M2009.81 178.05 L2014.07 178.05 L2014.07 183.444 L2009.81 183.444 L2009.81 178.05 Z\" fill=\"#000000\" fill-rule=\"evenodd\" fill-opacity=\"1\" /><path clip-path=\"url(#clip900)\" d=\"M2019.93 188.143 L2024.44 188.143 L2032.55 209.902 L2040.65 188.143 L2045.16 188.143 L2035.44 214.069 L2029.65 214.069 L2019.93 188.143 Z\" fill=\"#000000\" fill-rule=\"evenodd\" fill-opacity=\"1\" /><path clip-path=\"url(#clip900)\" d=\"M2073.22 200.041 L2073.22 202.124 L2053.63 202.124 Q2053.91 206.522 2056.27 208.837 Q2058.66 211.129 2062.89 211.129 Q2065.35 211.129 2067.64 210.527 Q2069.95 209.925 2072.22 208.721 L2072.22 212.749 Q2069.93 213.721 2067.52 214.231 Q2065.11 214.74 2062.64 214.74 Q2056.43 214.74 2052.8 211.129 Q2049.19 207.518 2049.19 201.36 Q2049.19 194.995 2052.61 191.268 Q2056.06 187.518 2061.9 187.518 Q2067.13 187.518 2070.16 190.897 Q2073.22 194.254 2073.22 200.041 M2068.96 198.791 Q2068.91 195.296 2066.99 193.212 Q2065.09 191.129 2061.94 191.129 Q2058.38 191.129 2056.23 193.143 Q2054.1 195.157 2053.77 198.814 L2068.96 198.791 Z\" fill=\"#000000\" fill-rule=\"evenodd\" fill-opacity=\"1\" /><path clip-path=\"url(#clip900)\" d=\"M2099.91 221.939 L2099.91 225.249 L2075.28 225.249 L2075.28 221.939 L2099.91 221.939 Z\" fill=\"#000000\" fill-rule=\"evenodd\" fill-opacity=\"1\" /><path clip-path=\"url(#clip900)\" d=\"M2126.09 200.041 L2126.09 202.124 L2106.5 202.124 Q2106.78 206.522 2109.14 208.837 Q2111.53 211.129 2115.76 211.129 Q2118.22 211.129 2120.51 210.527 Q2122.82 209.925 2125.09 208.721 L2125.09 212.749 Q2122.8 213.721 2120.39 214.231 Q2117.98 214.74 2115.51 214.74 Q2109.3 214.74 2105.67 211.129 Q2102.06 207.518 2102.06 201.36 Q2102.06 194.995 2105.48 191.268 Q2108.93 187.518 2114.77 187.518 Q2120 187.518 2123.03 190.897 Q2126.09 194.254 2126.09 200.041 M2121.83 198.791 Q2121.78 195.296 2119.86 193.212 Q2117.96 191.129 2114.81 191.129 Q2111.25 191.129 2109.1 193.143 Q2106.97 195.157 2106.64 198.814 L2121.83 198.791 Z\" fill=\"#000000\" fill-rule=\"evenodd\" fill-opacity=\"1\" /><path clip-path=\"url(#clip900)\" d=\"M2148.1 192.124 Q2147.38 191.708 2146.53 191.522 Q2145.69 191.314 2144.67 191.314 Q2141.06 191.314 2139.12 193.675 Q2137.2 196.013 2137.2 200.411 L2137.2 214.069 L2132.92 214.069 L2132.92 188.143 L2137.2 188.143 L2137.2 192.171 Q2138.54 189.809 2140.69 188.675 Q2142.85 187.518 2145.92 187.518 Q2146.36 187.518 2146.9 187.587 Q2147.43 187.634 2148.08 187.749 L2148.1 192.124 Z\" fill=\"#000000\" fill-rule=\"evenodd\" fill-opacity=\"1\" /><path clip-path=\"url(#clip900)\" d=\"M2166.76 192.124 Q2166.04 191.708 2165.18 191.522 Q2164.35 191.314 2163.33 191.314 Q2159.72 191.314 2157.78 193.675 Q2155.85 196.013 2155.85 200.411 L2155.85 214.069 L2151.57 214.069 L2151.57 188.143 L2155.85 188.143 L2155.85 192.171 Q2157.2 189.809 2159.35 188.675 Q2161.5 187.518 2164.58 187.518 Q2165.02 187.518 2165.55 187.587 Q2166.09 187.634 2166.73 187.749 L2166.76 192.124 Z\" fill=\"#000000\" fill-rule=\"evenodd\" fill-opacity=\"1\" /><path clip-path=\"url(#clip900)\" d=\"M2180.23 191.129 Q2176.8 191.129 2174.81 193.814 Q2172.82 196.476 2172.82 201.129 Q2172.82 205.782 2174.79 208.467 Q2176.78 211.129 2180.23 211.129 Q2183.63 211.129 2185.62 208.444 Q2187.61 205.758 2187.61 201.129 Q2187.61 196.522 2185.62 193.837 Q2183.63 191.129 2180.23 191.129 M2180.23 187.518 Q2185.79 187.518 2188.96 191.129 Q2192.13 194.74 2192.13 201.129 Q2192.13 207.495 2188.96 211.129 Q2185.79 214.74 2180.23 214.74 Q2174.65 214.74 2171.48 211.129 Q2168.33 207.495 2168.33 201.129 Q2168.33 194.74 2171.48 191.129 Q2174.65 187.518 2180.23 187.518 Z\" fill=\"#000000\" fill-rule=\"evenodd\" fill-opacity=\"1\" /><path clip-path=\"url(#clip900)\" d=\"M2214.21 192.124 Q2213.49 191.708 2212.64 191.522 Q2211.8 191.314 2210.79 191.314 Q2207.17 191.314 2205.23 193.675 Q2203.31 196.013 2203.31 200.411 L2203.31 214.069 L2199.03 214.069 L2199.03 188.143 L2203.31 188.143 L2203.31 192.171 Q2204.65 189.809 2206.8 188.675 Q2208.96 187.518 2212.04 187.518 Q2212.47 187.518 2213.01 187.587 Q2213.54 187.634 2214.19 187.749 L2214.21 192.124 Z\" fill=\"#000000\" fill-rule=\"evenodd\" fill-opacity=\"1\" /></svg>\n"
      ]
     },
     "execution_count": 14,
     "metadata": {},
     "output_type": "execute_result"
    }
   ],
   "source": [
    "n = 18\n",
    "X = zeros(n)\n",
    "x = zeros(n)\n",
    "\n",
    "X[1] = 1.0\n",
    "X[2] = 4.0\n",
    "\n",
    "x[1] = 1.0\n",
    "x[2] = 4.0\n",
    "\n",
    "for i in 3:n\n",
    "    X[i] = 13*X[i-1]/3 - 4*X[i-2]/3\n",
    "    x[i] = (4)^(i-1)\n",
    "end\n",
    "\n",
    "abs_error = abs.(X .- x)\n",
    "rel_error = abs.((X .- x)./X)\n",
    "X = 0:n-1\n",
    "\n",
    "plot(X, abs_error, label = \"absolute_error\", xlabel=\"n\")\n",
    "plot!(X, rel_error, label = \"relative_error\", xlabel=\"n\")"
   ]
  },
  {
   "cell_type": "markdown",
   "id": "copyrighted-mixer",
   "metadata": {},
   "source": [
    "Nótese que, aproximadamente hasta el paso $n=20$, el error relativo es muy pequeño pero el error absoluto crece rápidamente. Se dice que el algoritmo es **inestable**."
   ]
  },
  {
   "cell_type": "code",
   "execution_count": null,
   "id": "careful-ranch",
   "metadata": {},
   "outputs": [],
   "source": []
  }
 ],
 "metadata": {
  "kernelspec": {
   "display_name": "Julia 1.5.3",
   "language": "julia",
   "name": "julia-1.5"
  },
  "language_info": {
   "file_extension": ".jl",
   "mimetype": "application/julia",
   "name": "julia",
   "version": "1.5.3"
  }
 },
 "nbformat": 4,
 "nbformat_minor": 5
}
