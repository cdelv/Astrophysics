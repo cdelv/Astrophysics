{
 "cells": [
  {
   "cell_type": "markdown",
   "metadata": {
    "id": "tZQNftCXBl_h"
   },
   "source": [
    "![Astrofisica Computacional](../logo.PNG)"
   ]
  },
  {
   "cell_type": "markdown",
   "metadata": {},
   "source": [
    "---\n",
    "## 02. La Magneto-HidroDinámica (MHD)\n",
    "\n",
    "Eduard Larrañaga (ealarranaga@unal.edu.co)\n",
    "\n",
    "---"
   ]
  },
  {
   "cell_type": "markdown",
   "metadata": {
    "id": "IbL7mPYgBl_i"
   },
   "source": [
    "\n",
    "### Resumen\n",
    "\n",
    "Se presentan las generalidades de las ecuaciones de la **M**agneto-**H**idro**D**inámica (MHD).\n",
    "\n",
    "\n",
    "---"
   ]
  },
  {
   "cell_type": "markdown",
   "metadata": {
    "id": "QcuE5mz9Bl_i"
   },
   "source": [
    "## Enfoques Euleriano y Lagrangiano en el estudio de Fluidos\n",
    "\n",
    "- **Enfoque Euleriano.** En este enfoque, el elemento de volumen esta fijo espacialmente en el sistema de referencia del laboratorio.  Por ello, el fluido puede ingresar y salr de este elemento a través de la superficie que lo rodea.\n",
    "\n",
    "- **Enfoque Lagrangiano.** La superficie del elemento de volumen se mueve junto el fluido (i.e. es co-móvil) en el sistema de referencia del fluido. De esta manera NO hay flujo a través de la superficie que rodea el elemento y la masa contenida dentro de su interior es constante. (El elemento puede deformarse, de pendiendo de como es el movimiento del fluido).\n"
   ]
  },
  {
   "cell_type": "markdown",
   "metadata": {
    "id": "_vmtvz6cBl_j"
   },
   "source": [
    "---\n",
    "## Ecuación de Continuidad\n",
    "\n",
    "La ecuación de continuidad manifiesta la conservación de la masa en la mecánica de fluidos. En el enfoque Euleriano es\n",
    "\n",
    "\\begin{equation}\n",
    "\\frac{\\partial \\rho}{\\partial t} + \\vec{\\nabla} \\cdot (\\rho \\vec{v}) = 0\n",
    "\\end{equation}\n",
    "\n",
    "donde $\\rho$ es la densidad de masa y $\\vec{v}$ es el campo de velocidades del fluido.\n",
    "\n",
    "En el enfoque Lagrangiano, la ecuación de continuidad toma la forma\n",
    "\n",
    "\\begin{equation}\n",
    "\\frac{d \\rho}{d t} + \\rho \\vec{\\nabla} \\cdot \\vec{v} = 0\n",
    "\\end{equation}\n",
    "\n",
    "en la cual se ha utilizado el operador de **derivada Lagrangiana** o **derivada temporal total**,\n",
    "\n",
    "\\begin{equation}\n",
    "\\frac{d }{d t}  = \\frac{\\partial }{\\partial t} +  \\vec{v} \\cdot \\vec{\\nabla} \n",
    "\\end{equation}"
   ]
  },
  {
   "cell_type": "markdown",
   "metadata": {
    "id": "491NiiTGBl_j"
   },
   "source": [
    "---\n",
    "## Ecuación de Movimiento\n",
    "\n",
    "La ecuación de movimiento del fluido (conservación del momento) en el enfoque Lagrangiano es\n",
    "\n",
    "\\begin{equation}\n",
    "\\rho \\frac{d \\vec{v}}{d t} = - \\vec{\\nabla} P + \\vec{\\nabla} \\cdot \\overset{\\text{$\\leftrightarrow$}}{\\sigma}+ \\vec{J}\\times \\vec{B} + \\vec{f}\n",
    "\\end{equation}\n",
    "\n",
    "donde\n",
    "\n",
    "- $P$ es la presión del fluido\n",
    "\n",
    "- $\\overset{\\text{$\\leftrightarrow$}}{\\sigma}$ es el tensor de esfuerzos de viscosidad\n",
    "\n",
    "- $\\vec{J}$ es la densidad de corrientes eléctricas y $\\vec{B}$ es el campo magnetico, con lo cual el término $\\vec{J}\\times \\vec{B}$ representa la fuerza de Lorentz (No aparece un término de fuerza eléctrica ($\\rho_q \\vec{E}$) porque, en el caso de fluidos no-relativistas, éste tiene una magnitud despreciable).\n",
    "\n",
    "- $\\vec{f}$ representa otras fuerzas volumétricas presentes. Por ejemplo, aqui puede incluirse la fuerza gravitacional (por unidad de volumen), $\\rho \\vec{g} = - \\rho \\vec{\\nabla} \\phi$.\n",
    "\n",
    "\n",
    "En el enfoque Euleriano, la ecuación de movimiento es\n",
    "\n",
    "\\begin{equation}\n",
    "\\rho \\left( \\frac{\\partial \\vec{v}}{\\partial t} +  \\vec{v} \\cdot \\vec{\\nabla} \\vec{v}\\right) = - \\vec{\\nabla} P + \\vec{\\nabla} \\cdot \\overset{\\text{$\\leftrightarrow$}}{\\sigma}+ \\vec{J}\\times \\vec{B} + \\vec{f}\n",
    "\\end{equation}"
   ]
  },
  {
   "cell_type": "markdown",
   "metadata": {
    "id": "8CtKOksQBl_k"
   },
   "source": [
    "---\n",
    "## Ecuación de la Energía\n",
    "\n",
    "La conservación de la energía se establece, en el enfoque Lagrangiano, a través de la ecuación\n",
    "\n",
    "\\begin{equation}\n",
    "\\rho \\frac{d e}{d t} = - P \\vec{\\nabla} \\cdot \\vec{v} - \\vec{\\nabla} \\cdot \\vec{q} + \\vec{f} \\cdot \\vec{v} - \\vec{\\nabla} \\cdot \\vec{F}_{rad} + Q^{(vis)} + \\eta_e J^2\n",
    "\\end{equation}\n",
    "\n",
    "en la cual:\n",
    "\n",
    "- $e$ es la energía interna del fluido\n",
    "\n",
    "- $- P \\vec{\\nabla} \\cdot \\vec{v}$ representa el trabajo hecho por la presión.\n",
    "\n",
    "- $- \\vec{\\nabla} \\cdot \\vec{q}$ es la razón de transporte de energía térmica dentro del gas (por movimiento aleatorio de particulas)\n",
    "\n",
    "- $\\vec{f} \\cdot \\vec{v}$ es el trabajo hecho por la fuerza volumétrica $\\vec{f}$\n",
    "\n",
    "- $- \\vec{\\nabla} \\cdot \\vec{F}_{rad}$ es la razón con la que la energía de radiación se pierde por emisión (o aumentada por absorción)\n",
    "\n",
    "- $Q^{(vis)}$ es la razón de calentamiento (volumétrico) por viscosidad\n",
    "\n",
    "- $\\eta_e J^2$ es la razón de calentamiento (volumétrico) Ohmico. La función $\\eta_e$ es la resistividad eléctrica del fluido.\n",
    "\n",
    "\n",
    "Utilizando el enfoque Euleriano, la eucaión de la energía toma la forma\n",
    "\n",
    "\\begin{equation}\n",
    "\\rho \\frac{\\partial (\\rho e)}{\\partial t} +  \\vec{\\nabla} \\cdot (\\rho e \\vec{v}) = - P \\vec{\\nabla} \\cdot \\vec{v} - \\vec{\\nabla} \\cdot \\vec{q} + \\vec{f} \\cdot \\vec{v} - \\vec{\\nabla} \\cdot \\vec{F}_{rad} + Q^{(vis)} + \\eta_e J^2\n",
    "\\end{equation}\n"
   ]
  },
  {
   "cell_type": "markdown",
   "metadata": {
    "id": "vfK5CQZ7Bl_k"
   },
   "source": [
    "--- \n",
    "\n",
    "## Electrodinámica\n",
    "\n",
    "Las ecuaciones que describen el campo electromagnético son las ecuaciones de Maxwell,\n",
    "\n",
    "\\begin{align}\n",
    "\\vec{\\nabla} \\cdot \\vec{E} = &\\frac{\\rho_q}{\\epsilon_0}\\\\\n",
    "\\vec{\\nabla} \\cdot \\vec{B} = &0 \\\\\n",
    "\\vec{\\nabla} \\times \\vec{E} = &- \\frac{\\partial \\vec{B}}{\\partial t} \\\\\n",
    "\\vec{\\nabla} \\times \\vec{B} = &\\mu_0 \\vec{J} +  \\epsilon_0 \\mu_0 \\frac{\\partial \\vec{E}}{\\partial t}\n",
    "\\end{align}\n",
    "\n",
    "donde $\\vec{E}$ y $\\vec{B}$ son los campos eléctrico y magnético, $\\rho_q$ es la denisdad de carga eléctrica, $\\vec{J}$ es la denisad de corriente, $\\epsilon_0$ es la permitividad eléctrica del vacio y $\\mu_0$ es la permeabilidad magnética del vacio. \n",
    "\n",
    "Al considerar sistemas no-relativistas (esto quiere decir considerando bajas velocidades, $v\\ll c$, o equivalentemente bajas frecuencias), estas ecuaciones se aproximan, a primer orden en $\\frac{v}{c}$ en la forma\n",
    "\n",
    "\\begin{align}\n",
    "\\vec{\\nabla} \\cdot \\vec{E} = &\\frac{\\rho_q}{\\epsilon_0}\\\\\n",
    "\\vec{\\nabla} \\cdot \\vec{B} = &0 \\\\\n",
    "\\vec{\\nabla} \\times \\vec{E} = &- \\frac{\\partial \\vec{B}}{\\partial t} \\\\\n",
    "\\vec{\\nabla} \\times \\vec{B} = &\\mu_0 \\vec{J}\n",
    "\\end{align}\n",
    "\n",
    "y además, se puede incorporar la **ley de Ohm**, \n",
    "\n",
    "\\begin{equation}\n",
    "\\vec{E} + \\vec{v} \\times \\vec{B} = \\eta_e \\vec{J},\n",
    "\\end{equation}\n",
    "\n",
    "con $\\eta_e$ la resistividad eléctrica del fluido.\n"
   ]
  },
  {
   "cell_type": "markdown",
   "metadata": {
    "id": "g62n819IBl_k"
   },
   "source": [
    "## Ecuaciones de la MHD y Grados de Libertad\n",
    "\n",
    "Reuniendo las anteriores ecuaciones se tiene el siguiente sistema diferencial de PDEs,\n",
    "\n",
    "\\begin{align}\n",
    "\\frac{\\partial \\rho}{\\partial t} + \\vec{\\nabla} \\cdot (\\rho \\vec{v}) = &0\\\\\n",
    "\\rho \\left( \\frac{\\partial \\vec{v}}{\\partial t} +  \\vec{v} \\cdot \\vec{\\nabla} \\vec{v}\\right) = &- \\vec{\\nabla} P + \\vec{\\nabla} \\cdot \\overset{\\text{$\\leftrightarrow$}}{\\sigma}+ \\vec{J}\\times \\vec{B} + \\vec{f}\\\\\n",
    "\\rho \\frac{\\partial (\\rho e)}{\\partial t} +  \\vec{\\nabla} \\cdot (\\rho e \\vec{v}) = &- P \\vec{\\nabla} \\cdot \\vec{v} - \\vec{\\nabla} \\cdot \\vec{q} + \\vec{f} \\cdot \\vec{v} - \\vec{\\nabla} \\cdot \\vec{F}_{rad} + Q^{(vis)} + \\eta_e J^2\\\\\n",
    "\\frac{\\partial \\vec{B}}{\\partial t} = &\\vec{\\nabla} \\left( \\vec{v} \\times \\vec{B} - \\frac{\\eta_e}{\\mu_0} \\vec{\\nabla} \\times \\vec{B} \\right)\\\\\n",
    "\\vec{\\nabla} \\cdot \\vec{B} = &0\n",
    "\\end{align}\n",
    "\n",
    "en donde se han re-escrito las ecuaciones de la electrodinámica para evitar algunos de los grados de libertad del sistema. Este sistema de PDEs consta entonces de 9 ecuaciones con un total de 22 variables: \n",
    "- $e$ :[1]\n",
    "- $\\rho$ :[1]\n",
    "- $P$ :[1]\n",
    "- $\\vec{v}$ :[3]\n",
    "- $\\vec{B}$ :[3]\n",
    "- $\\overset{\\text{$\\leftrightarrow$}}{\\sigma}$ :[6] (Tensor simétrico de orden 2 en tres dimensiones)  \n",
    "- $\\vec{q}$ :[3]\n",
    "- $\\eta_e$ :[1]\n",
    "- $F_{rad}$ :[3].\n",
    "\n",
    "De esta forma, el sistema requiere de 13 ecuaciones adicionales para poder ser resuelto."
   ]
  },
  {
   "cell_type": "markdown",
   "metadata": {
    "id": "C-Mu6i96Bl_l"
   },
   "source": [
    "---\n",
    "## Ecuaciones de Cierre\n",
    "\n",
    "Las **ecuaciones de cierre** son relaciones adicionales que permiten completar el sistema para poder solucionarlo.\n",
    "\n",
    "1. El vector de flujo radiativo se puede expresar como\n",
    "\n",
    "\\begin{equation}\n",
    "\\vec{F}_{rad} = \\int d\\nu \\int d\\Omega \\hat{n} I_\\nu (\\hat{n}, \\vec{r})\n",
    "\\end{equation}\n",
    "\n",
    "donde $I_\\nu (\\hat{n}, \\vec{r})$ es la intensidad específica de la radiación en el punto $\\vec{r}$ y en dirección $\\hat{n}$. Esta intensidad está dada por la ecuación de conservación para el campo de radiación. De esta forma, el flujo radiativo puede escribirse, en casi todos los casos del interés, como una función de la densidad, $\\rho$, y la temperatura del gas, $T$; o de la densidad y la presión, $P$. Esta relación constituye **3** de las ecuaciones de cierre requeridas,\n",
    "\n",
    "\\begin{equation}\n",
    "\\vec{F}_{rad} = \\vec{F}_{rad} (\\rho, P).\n",
    "\\end{equation}\n",
    "\n",
    "\n",
    "2. El flujo conductivo de calor a través de las fronteras del elemento, $\\vec{q}$, mide la razón con la que los movimientos aleatorios (principalmente de electrones) transportan energía dentro del gas y suavizando los gradientes de temperatura. De esta forma, a partir de la teoría cinética de los gases, es posible obtener una dependencia con la densidad,la presión y el campo magnético. Esta relación constituye otras **3** ecuaciones de cierre,\n",
    "\n",
    "\\begin{equation}\n",
    "\\vec{q} = \\vec{q} (\\rho, P, \\vec{B}).\n",
    "\\end{equation}\n",
    "\n",
    "3. El tensor de esfuerzos, $\\overset{\\text{$\\leftrightarrow$}}{\\sigma}$, se construye a partir de la viscosidad y/o de las interacciones con el campo magnético. Por ejemplo, en el caso de un fluido des-magnetizado (i.e. en la Hidrodinámica), se tienen unas componentes del tensor expresadoas en términos de los gradientes de velocidad,\n",
    "\n",
    "\\begin{equation}\n",
    "\\sigma_{ij} = 2\\eta \\tau_{ij}\n",
    "\\end{equation}\n",
    "\n",
    "con \n",
    "\n",
    "\\begin{equation}\n",
    "\\tau_{ij} = \\frac{1}{2} \\left( \\partial_i v_j + \\partial_j v_i - \\frac{2}{3} \\partial_k v_k \\delta_{ij}\\right)\n",
    "\\end{equation}\n",
    "\n",
    "en donde $\\eta = \\eta(\\rho, P)$ es una propiedad del medio denominada *coeficiente de viscosidad dinámica*. \n",
    "\n",
    "De esta manera, la expresión para el tensor de esfuerzos constituye **6** ecuaciones de cierre adicionales,\n",
    "\n",
    "\\begin{equation}\n",
    "\\overset{\\text{$\\leftrightarrow$}}{\\sigma} = \\overset{\\text{$\\leftrightarrow$}}{\\sigma} (\\rho, \\vec{v}, \\vec{B}).\n",
    "\\end{equation}\n",
    "\n",
    "De esta manera, ya se tienen 12 de las ecuaciones requeridas para *cerrar* el sistema diferencial. La ecuación final, se denomina la **Ecuación de Estado**.\n"
   ]
  },
  {
   "cell_type": "markdown",
   "metadata": {
    "id": "_90xHqWZBl_l"
   },
   "source": [
    "---\n",
    "##  Ecuación de Estado\n",
    "\n",
    "La ecuación de cierre final es una relación entre la densidad y al presión,\n",
    "\n",
    "\\begin{equation}\n",
    "P = P(\\rho).\n",
    "\\end{equation}\n",
    "\n",
    "La ecuación de estado más común es la relación para los gases ideales, la cual permite modelar muy bien los fluidos en el contexto astrofísico. Esta ecuación es\n",
    "\n",
    "\\begin{equation}\n",
    "P = \\frac{k_B T}{\\mu m_H}\\rho,\n",
    "\\end{equation}\n",
    "\n",
    "donde:\n",
    "\n",
    "- $k_B$ es la constante de \n",
    "- $T$ es la temperatura del gas\n",
    "- $m_H \\sim m_P$ es la masa del átomo de Hidrogeno (que se puede aproximar a la masa del protón)\n",
    "- $\\mu$ es el peso molecular medio (i.e. masa promedio por partícula de gas medida en unidades de $m_H$ y por lo tanto equivale al inveros del número de partículas en una masa $m_H$ de gas). Este factor vale $\\mu=1$ para Hidrógeno neutro y $\\mu = 1/2$ para Hidrógeno completamente ionizado. En general, se tiene que $\\frac{1}{2} \\leq \\mu \\leq 1$ dependiendo del estado ionizado del gas.\n"
   ]
  },
  {
   "cell_type": "markdown",
   "metadata": {
    "id": "TEjN1jzIBl_l"
   },
   "source": [
    "\n",
    "\n",
    "### Ecuación Politrópica\n",
    "\n",
    "Al considerar un fluido desmagnetizado adiabático (i.e. no existen los términos de intercambio de calor ni contribuciones del campo magnético), la ecuación del gas ideal en combinación con la ecuación de energías da como resultado la **ecuación politrópica**,\n",
    "\n",
    "\\begin{equation}\n",
    "P \\propto \\rho^\\gamma\n",
    "\\end{equation}\n",
    "\n",
    "donde $\\gamma$ es el **índice adiabático** (razón de calores específicos). Para gases monoatómicos (como lo sería un gas completamente ionizado), el índice adiabático suele tomar valores en el rango $1\\leq \\gamma \\leq \\frac{5}{3}$, donde algunos valores de interés a nivel astrofísico son:\n",
    "\n",
    "- $\\gamma = 1$ : Flujo isotermo\n",
    "- $\\gamma = \\frac{5}{3}$ : Flujo adiabático. También para un **gas no-relativista completamente degenerado**.\n",
    "- $\\gamma = \\frac{4}{3}$ : Gas dominado por presión de radiación. También para un **gas relativista completamente degenerado**."
   ]
  }
 ],
 "metadata": {
  "colab": {
   "name": "PDE01.ipynb",
   "provenance": []
  },
  "kernelspec": {
   "display_name": "Python 3",
   "language": "python",
   "name": "python3"
  },
  "language_info": {
   "codemirror_mode": {
    "name": "ipython",
    "version": 3
   },
   "file_extension": ".py",
   "mimetype": "text/x-python",
   "name": "python",
   "nbconvert_exporter": "python",
   "pygments_lexer": "ipython3",
   "version": "3.9.7"
  }
 },
 "nbformat": 4,
 "nbformat_minor": 1
}
