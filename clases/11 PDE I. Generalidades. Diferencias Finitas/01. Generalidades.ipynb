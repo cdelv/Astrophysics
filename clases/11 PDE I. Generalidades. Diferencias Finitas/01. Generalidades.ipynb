{
 "cells": [
  {
   "cell_type": "markdown",
   "metadata": {
    "id": "tZQNftCXBl_h"
   },
   "source": [
    "![Astrofisica Computacional](../logo.PNG)"
   ]
  },
  {
   "cell_type": "markdown",
   "metadata": {},
   "source": [
    "---\n",
    "## 01. Ecuaciones Diferenciales Parciales I. Generalidades \n",
    "\n",
    "Eduard Larrañaga (ealarranaga@unal.edu.co)\n",
    "\n",
    "---"
   ]
  },
  {
   "cell_type": "markdown",
   "metadata": {
    "id": "IbL7mPYgBl_i"
   },
   "source": [
    "\n",
    "### Resumen\n",
    "\n",
    "Se presentan las generalidades de los sistemas de Ecuaciones Diferenciales Parciales (PDE).\n",
    "\n",
    "`A. Garcia. Numerical Methods for Physics. (1999). Chapter 3 `\n",
    "\n",
    "---"
   ]
  },
  {
   "cell_type": "markdown",
   "metadata": {
    "id": "QcuE5mz9Bl_i"
   },
   "source": [
    "## Ecuaciones Diferenciales Parciales (PDEs)\n",
    "\n",
    "Una PDE es una relación entre las derivadas parciales de una función desconocida y las variables independientes. El order de un sistema de PDEs corresponde al orden de la derivada más alta presente en las ecuaciones.\n",
    "\n",
    "Una PDE se denomina *lineal* si solo aparecen terminos de primer grado en la variable dependiente (i.e. la función desconocida) y en sus derivadas parciales.\n",
    "\n",
    "Si cada uno de los témrinos de la PDE contiene la variable dependiente o una de sus derivadas parciales, se dice que la ecuación es *homogenea*. Si este no es el caso, se dice que la ecuación es *no-homogenea*.\n",
    "\n",
    "\n",
    "\n",
    "\n",
    "\n",
    "\n",
    "---\n",
    "### Clases de Ecuaciones Diferenciales Parciales\n",
    "\n",
    "Exiten tres clases generales de PDEs de segundo orden\n",
    "\n",
    "1. Hiperbólicas\n",
    "2. Parabólicas\n",
    "3. Elípticas\n",
    "\n",
    "Sin embargo, cabe aclarar que, en general, no todos los sistemas de PDEs caen en alguna de estas clases. Además, no siempre es obvio reconocer (y probar) a que clase pertenece una PDE particular.\n",
    "\n",
    "Estas clases de PDEs modelan diferentes tipos de fenómenos, muestran comportamientos diferentes y requieren de métodos numéricos diferentes para su solución.\n"
   ]
  },
  {
   "cell_type": "markdown",
   "metadata": {
    "id": "_vmtvz6cBl_j"
   },
   "source": [
    "### Ecuación Diferencial Lineal General de Segundo Orden\n",
    "\n",
    "Considere una función $u=u(x,y)$ que satisface la ecuación diferencial lineal general de segundo orden,\n",
    "\n",
    "\\begin{equation}\n",
    "a \\partial^2_{xx} u + b \\partial^2_{xy} u + c \\partial^2_{yy} u + d \\partial_x u + e \\partial_y u + f u = g\\,\\,,\n",
    "\\end{equation}\n",
    "\n",
    "Esta ecuación puede ser clasificada rápidamente basandose en el discriminante,\n",
    "\n",
    "\\begin{equation}\n",
    "\\Delta = b^2 - 4ac \\left\\{ \\begin{array}{lcr}\n",
    "< 0 & \\rightarrow & \\text{elíptica},\\\\\n",
    "= 0 & \\rightarrow & \\text{parabólica},\\\\\n",
    "> 0 & \\rightarrow & \\text{hiperbólica}.\n",
    "\\end{array}\\right.\n",
    "\\end{equation}\n",
    "\n",
    "Esta clasificación muestra que los nombres han sido elegidos por analogía con las secciones cónicas en la teoría de las elipses."
   ]
  },
  {
   "cell_type": "markdown",
   "metadata": {
    "id": "491NiiTGBl_j"
   },
   "source": [
    "---\n",
    "## 1.  PDEs Hiperbólicas\n",
    "\n",
    "Las PDEs hiperbólicas ($\\Delta <0$) en física y astrofísica suelen describir procesos **dinámicos** y procesos que generalmente inician en algún instante $t_0=0$ con ciertas condiciones iniciales. Por ello, usualmente se integran las ecuaciones en el tiempo.\n",
    "\n",
    "El prototipo de ecuación hiperbólica lineal de segundo orden es la ecuación de onda homogénea,\n",
    "\n",
    "\\begin{equation}\n",
    "c^2 \\partial^2_{xx} u - \\partial^2_{tt} u = 0\\,\\,,\n",
    "\\end{equation}\n",
    "\n",
    "donde $c$ es la velocidad de propagación de la onda."
   ]
  },
  {
   "cell_type": "markdown",
   "metadata": {
    "id": "8CtKOksQBl_k"
   },
   "source": [
    "---\n",
    "Por otro lado, un ejemplo de una **ecuación hiperbólica lineal de primer orden** en una dimensión es\n",
    "\n",
    "\\begin{equation}\n",
    "\\partial_t u + A \\partial_x u = 0\\,\\,,\n",
    "\\end{equation}\n",
    "\n",
    "donde $u(x,t)$ es el vector de estado con $s$ componentes y $A$\n",
    "es una matriz de tamaño $s \\times s$.\n",
    "\n",
    "Este tipo de problema es *hiperbólico* si $A$ solamente posee valores propios reales y es diagonizable, i.e. existe un conjunto completo de vectores propios linealmente independientes de tal forma que se puede construir una matriz\n",
    "\n",
    "\\begin{equation}\n",
    "\\Lambda = Q^{-1} A Q\\,\\,,\n",
    "\\end{equation}\n",
    "\n",
    "donde $\\Lambda$ es diagonal y posee numeros reales en la diagonal.\n",
    "\n",
    "**Ejemplo** \n",
    "\n",
    "El ejemplo más simple de este tipo de ecuaciones es la **ecuación de advección lineal**, en la que la función $u=u(t,x)$ satisface\n",
    "\n",
    "\\begin{equation}\n",
    "\\partial_t u + v \\partial_x u = 0\\,\\,,\n",
    "\\end{equation}\n",
    "\n",
    "donde $v$ es un escalar y representa la velocidad de advección."
   ]
  },
  {
   "cell_type": "markdown",
   "metadata": {
    "id": "vfK5CQZ7Bl_k"
   },
   "source": [
    "--- \n",
    "\n",
    "Otro ejemplo de ecuación hiperbólica son los sistemas no-lineales de primer orden,  \n",
    "\n",
    "\\begin{equation}\n",
    "\\partial_t u + \\partial_x F(u) = 0\\,\\,,\n",
    "\\end{equation}\n",
    "\n",
    "donde $F(u)$ se denomina el **flujo** y puede o no ser una función no-lineal de $u(t,x)$. Es posible escribir esta PDE en una forma **cuasi-lineal** introduciendo el Jacobiano\n",
    "\n",
    "\\begin{equation}\n",
    "\\bar{A} = \\frac{\\partial F}{\\partial u}\\,\\,,\n",
    "\\end{equation}\n",
    "\n",
    "con lo que obtiene\n",
    "\n",
    "\\begin{equation}\n",
    "\\partial_t u + \\bar{A}\\partial_x u = 0\\,\\,.\n",
    "\\end{equation}\n",
    "\n",
    "Esta PDE es hiperbólica si $\\bar{A}$ tiene valores propios reales y es diagonizable. \n",
    "\n",
    "Las **ecuaciones de la hidrodinámica** son un ejemplo clave de un sistema de PDEs hiperbólicos no-lineales de primer orden. "
   ]
  },
  {
   "cell_type": "markdown",
   "metadata": {
    "id": "g62n819IBl_k"
   },
   "source": [
    "### Condiciones de Frontera en Problemas Hiperbólicos\n",
    "\n",
    "Se pueden especificar condiciones de frontera del tipo von Neumann, Dirichlet o Robin. Por ejemplo, para un sistema lineal con fronteras en $x=0$ y $x=L$, se pueden imponer las condiciones\n",
    "\n",
    "1. **Condiciones de Frontera de Dirichlet**\n",
    "\n",
    "\\begin{equation}\n",
    "\\begin{aligned}\n",
    "u(x=0,t) &= \\Phi_1(t)\\,\\,,\\\\\n",
    "u(x=L,t) &= \\Phi_2(t)\\,\\,.\n",
    "\\end{aligned}\n",
    "\\end{equation}\n",
    "\n",
    "2. **Condiciones de Frontera de  von Neumann** \n",
    "\\begin{equation}\n",
    "\\begin{aligned}\n",
    "\\partial_x u(x=0,t) &= \\Psi_1(t)\\,\\,,\\\\\n",
    "\\partial_x u(x=L,t) &= \\Psi_2(t)\\,\\,.\n",
    "\\end{aligned}\n",
    "\\end{equation}\n",
    "\n",
    "*Note que en un problema multi-dimensional, $\\partial_x$ se interpreta como la derivada en la dirección de la normal a la frontera.*\n",
    "\n",
    "3. **Condiciones de Frontera de Robin**\n",
    "\n",
    "Sean $a_1, b_1, a_2, b_2$ números reales con $a_i \\neq 0$ y $ b_i \\neq 0$.\n",
    "\n",
    "\\begin{equation}\n",
    "\\begin{aligned}\n",
    "a_1 u(x=0,t) + b_1 \\partial_x u(x=0,t) &= \\Psi_1(t)\\,\\,,\\\\\n",
    "a_2 u(x=L,t) + b_2 \\partial_x u(x=L,t) &= \\Psi_2(t)\\,\\,.\n",
    "\\end{aligned}\n",
    "\\end{equation}\n",
    "\n",
    "Las condiciones de Dirichlet y de von Neuman se recuperan is se anula $a_i$ o $b_i$, respectivamente. \n",
    "\n"
   ]
  },
  {
   "cell_type": "markdown",
   "metadata": {
    "id": "C-Mu6i96Bl_l"
   },
   "source": [
    "---\n",
    "## 2.  PDEs Parabólicas\n",
    "\n",
    "Las PDEs parabólicas suelen describir procesos que cambian lentamente, como por ejemplo la lenta difusión de calor en un medio, de sedimentos en el agua subterranea o la radiación en un medio opaco. El prototipo de PDEs parabólicas de segundo orden es\n",
    "\n",
    "\\begin{equation}\n",
    "\\partial_t u - k \\partial^2_{xx} u = f\\,\\,.\n",
    "\\end{equation}\n",
    "\n",
    "### Condiciones Iniciales para Problemas Parabólicos\n",
    "\n",
    "En este tipo de condiciones se debe especificar $u(x,t=0)$ para todos los valores de $x$.\n",
    "\n",
    "\n",
    "### Condiciones de Frontera para Problemas Parabólicos\n",
    "\n",
    "Se pueden aplicar condiciones de frontera del tipo Dirichlet, von Neumann o Robin.\n",
    "\n",
    "*Si las condiciones de frontera son independientes del tiempo, el sistema evolucionará hacia un estado estacionario ($\\partial_t u = 0$). En este caso, es posible establecer $\\partial_t u = 0$ para todos los tiempos y tratar la ecuación diferencial como una ecuación elíptica.*"
   ]
  },
  {
   "cell_type": "markdown",
   "metadata": {
    "id": "_90xHqWZBl_l"
   },
   "source": [
    "---\n",
    "##  PDEs Elípticas\n",
    "\n",
    "Las PDEs elípticas suelen describir sistemas estáticos, en estado estacionario o en equilibrio pues no existe dependencia temporal. Una PDE elíptica típica es la ecuación de Poisson,\n",
    "\n",
    "\\begin{equation}\n",
    "\\nabla^2 \\phi = \\kappa \\rho \\,\\,,\n",
    "\\end{equation}\n",
    "\n",
    "que describe la gravedad Newtoniana y la electrostática. En esta ecuación $\\nabla^2$ es el operador de Laplace y $f$ ies una función escalar de la posición conocida. Los problemas elípticos pueden ser lineales ($f$ no depende de $u$ o sus derivadas) o no-lineales ($f$ depende de $u$ o de sus derivadas).\n",
    "\n",
    "\n",
    "### Condiciones Iniciales para Problemas Elípticos\n",
    "\n",
    "No aplican debido a que no existe dependencia temporal. \n",
    "\n",
    "### Condiciones de Frontera para Problemas Parabólicos\n",
    "\n",
    "Se pueden aplicar condiciones de frontera del tipo Dirichlet, von Neumann o Robin."
   ]
  },
  {
   "cell_type": "markdown",
   "metadata": {
    "id": "TEjN1jzIBl_l"
   },
   "source": [
    "---\n",
    "\n",
    "---\n",
    "\n",
    "## Métodos Numéricos para resolver PDEs\n",
    "\n",
    "No existe un método general y robusto para la solución de todas las PDEs. Cada tipo (o sub-tipo) de las PDEs requieren un tratamiento diferente. Las PDEs de la vida real suelen ser una mezcla de las diferentes clases o pueden poseer propiedades especiales que requieren conocimiento de la física subyacente para obtener una solución adecuada.\n",
    "\n",
    "Sin embargo, existen tres clases generales de métodos que pueden aplicarse a la resolución de las PDEs."
   ]
  },
  {
   "cell_type": "markdown",
   "metadata": {
    "id": "a-ln_H0DBl_l"
   },
   "source": [
    "### 1. Métodos de Diferencias Finitas.\n",
    "      \n",
    "Los operadores diferenciales se aproximan utilizando una representación de diferencias finitas en una malla. Despues de encontrar la forma iterativa de las ecuaciones, el problema diferencial se transforma en un sistema lineal de ecuaciones algebraicas.\n",
    "\n",
    "Una sub-clase de este método son los métodos de volumenes finitos, que son utiles al trabajar con PDEs relacionadas con leyes de conservación (e.g., las ecuaciones de la hidrodinámica).\n",
    "\n",
    "Los métodos de diferencias/volumenes finitos tienen una convergencia polinomial para funciones suaves.\n",
    "      \n",
    "### 2. Métodos de Elementos Finitos.\n",
    "\n",
    "El dominio es dividido en celdas llamadas **elementos**. La solución se representa con una función simple (e.g. un polinomio) en cada una de las celdas y la PDE se transforma en un problema algebraico de encontrar las condiciones de juntura en las interfaces de las celdas. \n",
    "\n",
    "Los métodos de elementos finitos tienen una convergencia polinomial o exponencial para funciones suaves.\n",
    "\n",
    "\n",
    "### 3. Métodos Espectrales.\n",
    "\n",
    "La solución se representa como una combinación lineal de funciones conocidas (e.g. funciones trigonométricas o polinomios especiales). La PDE es transformada en un conjunto de ecuaciones algebraicas o en un conjunto de ODEs para las amplitudes de las funciones componentes. \n",
    "\n",
    "Una sub-clase son los métodos de co-locación en los cuales la solución se representa en una malla y la descomposición espectral es utilizada para estimar las derivadas parciales en los nodos con un alto grado de precisión."
   ]
  }
 ],
 "metadata": {
  "colab": {
   "name": "PDE01.ipynb",
   "provenance": []
  },
  "kernelspec": {
   "display_name": "Python 3",
   "language": "python",
   "name": "python3"
  },
  "language_info": {
   "codemirror_mode": {
    "name": "ipython",
    "version": 3
   },
   "file_extension": ".py",
   "mimetype": "text/x-python",
   "name": "python",
   "nbconvert_exporter": "python",
   "pygments_lexer": "ipython3",
   "version": "3.9.7"
  }
 },
 "nbformat": 4,
 "nbformat_minor": 1
}
