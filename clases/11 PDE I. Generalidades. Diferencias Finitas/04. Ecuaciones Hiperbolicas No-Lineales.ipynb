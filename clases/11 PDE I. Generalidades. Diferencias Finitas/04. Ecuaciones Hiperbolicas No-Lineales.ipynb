{
 "cells": [
  {
   "cell_type": "markdown",
   "metadata": {
    "id": "27gJZHmoiZut"
   },
   "source": [
    "![Astrofisica Computacional](../logo.PNG)"
   ]
  },
  {
   "cell_type": "markdown",
   "metadata": {},
   "source": [
    "---\n",
    "## 03. Ecuaciones Diferenciales Parciales IV. Ecuaciones Hiperbólicas No-Lineales\n",
    "\n",
    "Eduard Larrañaga (ealarranaga@unal.edu.co)\n",
    "\n",
    "---"
   ]
  },
  {
   "cell_type": "markdown",
   "metadata": {
    "id": "bMYyeNztiWcw"
   },
   "source": [
    "\n",
    "### Resumen\n",
    "\n",
    "Se presentarán algunos de los efectos de la no linealidad en las ecuaciones diferenciales parciales hiperbólicas.\n",
    "\n",
    "\n",
    "---"
   ]
  },
  {
   "cell_type": "markdown",
   "metadata": {
    "id": "L3BKSTTgiWcx"
   },
   "source": [
    "##  La Ecuación de Advección Lineal 1-D\n",
    "\n",
    "Muchos sistemas de PDEs hiperbólicos (como por ejemplo las ecuaciones de la hidrodinámica) pueden ser escritas en la forma de un sistema (lineal o no-lineal) de ecuaciones de advección, por lo que el estudio de este tipo de ecuaciones provee información imortante para sistemas mas complejos.\n",
    "\n",
    "La ecuación lineal de advección unidimensional es\n",
    "\n",
    "\\begin{equation}\n",
    "\\partial_t \\psi + v \\partial_x \\psi = 0\n",
    "\\end{equation}\n",
    "\n",
    "donde $\\psi(t,x)$ es una función escalar y $v$ es la velocidad constante con la que se advecta el perfil inicial (si $v > 0$ la advección se da de izquierda a derecha). Un ejemplo de esta ecuación corresponde a la **Ecuación de Continuidad**.\n",
    "\n",
    "Como ya se ha mostrado, la solución de esta ecuación simplemente toma el perfil inicial, $\\psi(t=0,x)$, y lo desplaza con rapidez $v$.  La forma del perfil inicial se preserva durante la advección.\n",
    "\n",
    "Una sustitución directa muestra que $\\psi(x - vt)$ es una solución de la ecuación de advección para cualquier perfil $\\psi$. Esto significa que la solución es constante a lo largo de las lineas $x = v t$ (las curvas a lo largo de las cuales la solución es constante se denominan **curvas características**).\n",
    "\n",
    "<center>\n",
    "<a href=\"https://imgbb.com/\"><img src=\"https://i.ibb.co/vZJvXcJ/advectioncharact.jpg\" alt=\"advectioncharact\" width='500'></a>\n",
    "</center>\n"
   ]
  },
  {
   "cell_type": "markdown",
   "metadata": {
    "id": "cGMhOhr9iWcy"
   },
   "source": [
    "---\n",
    "\n",
    "## PDEs Hiperbólicas No-Lineales. Ecuación de Burguer.\n",
    "\n",
    "Considere ahora la ecuación de movimiento para un fluido en ausencia de viscosidad, campos magnéticos y otras fuerzas externas,\n",
    "\n",
    "\\begin{equation}\n",
    "\\rho \\left( \\frac{\\partial \\vec{v}}{\\partial t} +  \\vec{v} \\cdot \\vec{\\nabla} \\vec{v}\\right) = - \\vec{\\nabla} P .\n",
    "\\end{equation}\n",
    "\n",
    "Si además se considera que el fluido no tiene presión interna (gas de partículas no interactuantes o polvo), la ecuación se convierte en\n",
    "\n",
    "\\begin{equation}\n",
    "\\frac{\\partial \\vec{v}}{\\partial t} +  \\vec{v} \\cdot \\vec{\\nabla} \\vec{v}=  0.\n",
    "\\end{equation}\n",
    "\n",
    "Esta relación se denomina **Ecuación de Burguer** y es la más simple de las **PDEs hiperbólicas no-lineales**. En términos de una función general $\\psi = \\psi(t,x)$ en una dimensión, se convierte en\n",
    "\n",
    "\\begin{equation}\n",
    "\\partial_t \\psi + \\psi \\partial_x \\psi = 0.\n",
    "\\end{equation}\n",
    "\n",
    "Se puede apreciar que esta es casi identica a la ecuación de advección tratada anteriormente, excepto porque la velocidad **NO es constante** sino que corresponde al mismo campo $\\psi$ que se quiere encontrar. \n",
    "\n",
    "**Es decir, $\\psi$ es al mismo tiempo la función que se advecta y la rapidez con la cual se mueve**.\n",
    "\n",
    "---\n",
    "\n",
    "### 1. Choques\n",
    "\n",
    "Como se mostró arriba, en el caso de la ecuación de advección lineal, la solución es constante a lo largo de las líneas $x = vt + x_0$, las cuales son paralelas (porque $v$ es constante).  \n",
    "\n",
    "En el caso de la ecuación de Burger la velocidad no es constante y por ello las curvas características estarán dadas ahora por la condición $\\frac{dx}{dt} = \\psi$, con $x(0) = x_0$.  \n",
    "Debido a que $\\psi = \\psi(t,x)$, esta ecuación no se puede integrar inmediatamente.\n",
    "\n",
    "Si se toma $\\psi_0 = \\psi(t=0)$, entonces se puede analizar como se comportan las curvas características en un pequeño intervalo temporal (antes de que $\\psi(x,t)$ cambie significativamente).\n",
    "\n",
    "<center>\n",
    "<img src=\"https://i.ibb.co/brNg0WN/burguerscharact.jpg\" alt=\"burguerscharact\" width=\"500\">\n",
    "</center>\n"
   ]
  },
  {
   "cell_type": "markdown",
   "metadata": {
    "id": "gG9ciq3miWcy"
   },
   "source": [
    "De este comportamiento se nota que después de un corto intervalo temporal, las curvas características se intersecan. A partir de este punto de intersección,\n",
    "$(t_s, x_s)$, no es posible recuperar la información hacia atrás en el tiempo para encontrar un único estado inicial (es decir, se perdió la causalidad del sistema). \n",
    "\n",
    "Esta unión de las curvas características en el plano $t$-$x$  se denomina un **choque**, y es una de las formas en las que los problemas no-lineales difieren de los lineales.\n",
    "\n",
    "<center><img src=\"https://i.ibb.co/8YHFfWD/burguershock.jpg\" alt=\"burguershock\" width=\"500\"></center>"
   ]
  },
  {
   "cell_type": "markdown",
   "metadata": {
    "id": "1FM7GE2viWcy"
   },
   "source": [
    "---\n",
    "### 2. Rarefacción\n",
    "\n",
    "Otro tipo de efecto típico en los sistemas no-lineales es el de la **rarefacción**.  La siguiente figura muestra un conjunto de condiciones iniciales que implica una velocidad de advección pequeña al lado izquierdo y una velocidad grande al lado derecho. \n",
    "\n",
    "\n",
    "<center><img src=\"https://i.ibb.co/bXz2TLN/burguerscharact2.jpg\" alt=\"burguerscharact2\" width=\"500\"></center>\n",
    "\n",
    "En este caso las curvas características no convergen sino que divergen con la evolución temporal.\n",
    "\n",
    "<center><img src=\"https://i.ibb.co/n0k0qBs/burguersrarefaction.jpg\" alt=\"burguersrarefaction\" width=\"500\"></center>\n"
   ]
  }
 ],
 "metadata": {
  "colab": {
   "collapsed_sections": [],
   "name": "PDE05.ipynb",
   "provenance": []
  },
  "kernelspec": {
   "display_name": "Python 3 (ipykernel)",
   "language": "python",
   "name": "python3"
  },
  "language_info": {
   "codemirror_mode": {
    "name": "ipython",
    "version": 3
   },
   "file_extension": ".py",
   "mimetype": "text/x-python",
   "name": "python",
   "nbconvert_exporter": "python",
   "pygments_lexer": "ipython3",
   "version": "3.9.5"
  }
 },
 "nbformat": 4,
 "nbformat_minor": 1
}
