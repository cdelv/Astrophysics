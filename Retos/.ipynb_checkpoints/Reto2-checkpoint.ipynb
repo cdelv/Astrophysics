{
 "cells": [
  {
   "cell_type": "code",
   "execution_count": 1,
   "metadata": {
    "executionInfo": {
     "elapsed": 688,
     "status": "ok",
     "timestamp": 1620789630878,
     "user": {
      "displayName": "Carlos Andrés del Valle",
      "photoUrl": "",
      "userId": "00443717748056700411"
     },
     "user_tz": 300
    },
    "id": "YH0lNNU7SzNR"
   },
   "outputs": [],
   "source": [
    "import numpy as np\n",
    "import math as m\n",
    "import matplotlib.pyplot as plt\n",
    "from matplotlib.patches import Ellipse\n",
    "%matplotlib inline"
   ]
  },
  {
   "cell_type": "markdown",
   "metadata": {
    "id": "Oe-q392pVhYd"
   },
   "source": [
    "Creamos la clase elipse con sus funciones.  \n",
    "El semi-latus rectum se calcula así:\n",
    "\\begin{equation}\n",
    "  l=a(1-e^2)\n",
    "\\end{equation}\n",
    "La distancia al pericentro es:\n",
    "\\begin{equation}\n",
    "  q=a(1-e)\n",
    "\\end{equation}\n",
    "La distancia al perigeo es:\n",
    "\\begin{equation}\n",
    "  ra=a(1+e)\n",
    "\\end{equation}\n",
    "Y el semi eje menor es \n",
    "\\begin{equation}\n",
    "  b=a\\sqrt{1-e^2}\n",
    "\\end{equation}\n",
    "este se calcula para poder graficar la elipse"
   ]
  },
  {
   "cell_type": "code",
   "execution_count": 2,
   "metadata": {
    "executionInfo": {
     "elapsed": 1017,
     "status": "ok",
     "timestamp": 1620789631220,
     "user": {
      "displayName": "Carlos Andrés del Valle",
      "photoUrl": "",
      "userId": "00443717748056700411"
     },
     "user_tz": 300
    },
    "id": "uyyq7mirVmPG"
   },
   "outputs": [],
   "source": [
    "class elipse:\n",
    "  def __init__(self, a=1.0, e=0.0, omega=0.0): #constructor de la clase\n",
    "           self.a = a\n",
    "           self.e = e\n",
    "           self.omega = omega\n",
    "  def semilatus(self): #semi-latus rectum\n",
    "    return self.a*(1-self.e**2)\n",
    "\n",
    "  def r_min(self): #distancia al pericentro\n",
    "    return self.a*(1-self.e)\n",
    "\n",
    "  def r_max(self): #distancia al perigeo\n",
    "    return self.a*(1+self.e)\n",
    "\n",
    "  def plot(self, color='crimson'): #grafica la elipse\n",
    "    plt.axes()\n",
    "    ellipse = Ellipse(xy=(0.0, 0.0), width=2*self.a, height=2*self.a*m.sqrt(1-self.e**2), angle=self.omega, fc=color)\n",
    "    plt.gca().add_patch(ellipse)\n",
    "    plt.axis('scaled')\n",
    "    plt.show()"
   ]
  },
  {
   "cell_type": "markdown",
   "metadata": {
    "id": "g0PmSVoZeQ2Z"
   },
   "source": [
    "Ahora creamos la función main de donde vamos a llmar a la clase elipse"
   ]
  },
  {
   "cell_type": "code",
   "execution_count": 3,
   "metadata": {
    "colab": {
     "base_uri": "https://localhost:8080/",
     "height": 282
    },
    "executionInfo": {
     "elapsed": 1012,
     "status": "ok",
     "timestamp": 1620789631233,
     "user": {
      "displayName": "Carlos Andrés del Valle",
      "photoUrl": "",
      "userId": "00443717748056700411"
     },
     "user_tz": 300
    },
    "id": "Q-tp5n5UeWU3",
    "outputId": "44faa175-d71b-4417-ea34-0356a8a09b83"
   },
   "outputs": [
    {
     "name": "stdout",
     "output_type": "stream",
     "text": [
      "1.8167\n"
     ]
    },
    {
     "data": {
      "image/png": "[encoded data removed]",
      "text/plain": [
       "<Figure size 432x288 with 1 Axes>"
      ]
     },
     "metadata": {
      "needs_background": "light",
      "tags": []
     },
     "output_type": "display_data"
    }
   ],
   "source": [
    "if __name__ == '__main__':\n",
    "  a=1\n",
    "  e=0.8167\n",
    "  omega=60 #en grados\n",
    "\n",
    "  x=elipse(a,e,omega)\n",
    "  l=x.semilatus()\n",
    "  ra=x.r_max()\n",
    "  q=x.r_min()\n",
    "  print(ra)\n",
    "  x.plot('green') #si no se coloca el color se pinta en crimsom\n"
   ]
  }
 ],
 "metadata": {
  "colab": {
   "authorship_tag": "ABX9TyOqQs2XTzTrKYzy7Saixxce",
   "collapsed_sections": [],
   "name": "Reto2.ipynb",
   "provenance": []
  },
  "kernelspec": {
   "display_name": "Python 3 (ipykernel)",
   "language": "python",
   "name": "python3"
  },
  "language_info": {
   "codemirror_mode": {
    "name": "ipython",
    "version": 3
   },
   "file_extension": ".py",
   "mimetype": "text/x-python",
   "name": "python",
   "nbconvert_exporter": "python",
   "pygments_lexer": "ipython3",
   "version": "3.9.5"
  }
 },
 "nbformat": 4,
 "nbformat_minor": 1
}
